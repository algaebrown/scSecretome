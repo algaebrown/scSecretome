{
 "cells": [
  {
   "cell_type": "markdown",
   "metadata": {},
   "source": [
    "# Tutorial source\n",
    "1. [Seurat anndata integration](https://satijalab.org/seurat/v2.4/conversion_vignette.html)\n",
    "-- deprecated for seurat v3: no Convert function!\n",
    "2. [Seurat integrating data](https://satijalab.org/seurat/v3.1/integration.html)\n",
    "3. [reticulate package is an interface between R and python](https://rstudio.github.io/reticulate/)\n",
    "4. `read_h5ad` from Seurat cause it is not compatible with [R6](https://adv-r.hadley.nz/r6.html) format.\n",
    "5. [Other Seurat tutorial](https://satijalab.org/seurat/v3.0/conversion_vignette.html)"
   ]
  },
  {
   "cell_type": "markdown",
   "metadata": {},
   "source": [
    "## Trying out `READ_H5AD`"
   ]
  },
  {
   "cell_type": "code",
   "execution_count": 2,
   "metadata": {},
   "outputs": [
    {
     "name": "stderr",
     "output_type": "stream",
     "text": [
      "Registered S3 method overwritten by 'R.oo':\n",
      "  method        from       \n",
      "  throw.default R.methodsS3\n",
      "Loading required package: SingleCellExperiment\n",
      "Loading required package: SummarizedExperiment\n",
      "Loading required package: GenomicRanges\n",
      "Loading required package: stats4\n",
      "Loading required package: BiocGenerics\n",
      "Loading required package: parallel\n",
      "\n",
      "Attaching package: ‘BiocGenerics’\n",
      "\n",
      "The following objects are masked from ‘package:parallel’:\n",
      "\n",
      "    clusterApply, clusterApplyLB, clusterCall, clusterEvalQ,\n",
      "    clusterExport, clusterMap, parApply, parCapply, parLapply,\n",
      "    parLapplyLB, parRapply, parSapply, parSapplyLB\n",
      "\n",
      "The following objects are masked from ‘package:stats’:\n",
      "\n",
      "    IQR, mad, sd, var, xtabs\n",
      "\n",
      "The following objects are masked from ‘package:base’:\n",
      "\n",
      "    anyDuplicated, append, as.data.frame, basename, cbind, colnames,\n",
      "    dirname, do.call, duplicated, eval, evalq, Filter, Find, get, grep,\n",
      "    grepl, intersect, is.unsorted, lapply, Map, mapply, match, mget,\n",
      "    order, paste, pmax, pmax.int, pmin, pmin.int, Position, rank,\n",
      "    rbind, Reduce, rownames, sapply, setdiff, sort, table, tapply,\n",
      "    union, unique, unsplit, which, which.max, which.min\n",
      "\n",
      "Loading required package: S4Vectors\n",
      "\n",
      "Attaching package: ‘S4Vectors’\n",
      "\n",
      "The following object is masked from ‘package:base’:\n",
      "\n",
      "    expand.grid\n",
      "\n",
      "Loading required package: IRanges\n",
      "Loading required package: GenomeInfoDb\n",
      "Loading required package: Biobase\n",
      "Welcome to Bioconductor\n",
      "\n",
      "    Vignettes contain introductory material; view with\n",
      "    'browseVignettes()'. To cite Bioconductor, see\n",
      "    'citation(\"Biobase\")', and for packages 'citation(\"pkgname\")'.\n",
      "\n",
      "Loading required package: DelayedArray\n",
      "Loading required package: matrixStats\n",
      "\n",
      "Attaching package: ‘matrixStats’\n",
      "\n",
      "The following objects are masked from ‘package:Biobase’:\n",
      "\n",
      "    anyMissing, rowMedians\n",
      "\n",
      "Loading required package: BiocParallel\n",
      "\n",
      "Attaching package: ‘DelayedArray’\n",
      "\n",
      "The following objects are masked from ‘package:matrixStats’:\n",
      "\n",
      "    colMaxs, colMins, colRanges, rowMaxs, rowMins, rowRanges\n",
      "\n",
      "The following objects are masked from ‘package:base’:\n",
      "\n",
      "    aperm, apply, rowsum\n",
      "\n",
      "\n",
      "Attaching package: ‘SummarizedExperiment’\n",
      "\n",
      "The following object is masked from ‘package:Seurat’:\n",
      "\n",
      "    Assays\n",
      "\n",
      "Loading required package: ggplot2\n",
      "\n",
      "Attaching package: ‘scater’\n",
      "\n",
      "The following object is masked from ‘package:S4Vectors’:\n",
      "\n",
      "    rename\n",
      "\n",
      "The following object is masked from ‘package:stats’:\n",
      "\n",
      "    filter\n",
      "\n",
      "Loading required package: R6\n",
      "Loading required package: hdf5r\n",
      "\n",
      "Attaching package: ‘hdf5r’\n",
      "\n",
      "The following object is masked from ‘package:SummarizedExperiment’:\n",
      "\n",
      "    values\n",
      "\n",
      "The following object is masked from ‘package:GenomicRanges’:\n",
      "\n",
      "    values\n",
      "\n",
      "The following object is masked from ‘package:IRanges’:\n",
      "\n",
      "    values\n",
      "\n",
      "The following object is masked from ‘package:S4Vectors’:\n",
      "\n",
      "    values\n",
      "\n",
      "\n",
      "Attaching package: ‘loomR’\n",
      "\n",
      "The following object is masked from ‘package:Biobase’:\n",
      "\n",
      "    combine\n",
      "\n",
      "The following object is masked from ‘package:BiocGenerics’:\n",
      "\n",
      "    combine\n",
      "\n"
     ]
    }
   ],
   "source": [
    "library(Seurat)\n",
    "library(SeuratData)\n",
    "\n",
    "# don't work\n",
    "# install scater https://bioconductor.org/packages/release/bioc/html/scater.html\n",
    "library(scater)\n",
    "# install loomR from GitHub using the remotes package remotes::install_github(repo =\n",
    "# 'mojaveazure/loomR', ref = 'develop')\n",
    "library(loomR)\n",
    "\n",
    "\n",
    "# maybe because scanpy too old, update to 1.3.4, still don't work"
   ]
  },
  {
   "cell_type": "code",
   "execution_count": 4,
   "metadata": {},
   "outputs": [
    {
     "name": "stderr",
     "output_type": "stream",
     "text": [
      "Pulling expression matrices and metadata\n",
      "Data is scaled\n"
     ]
    },
    {
     "ename": "ERROR",
     "evalue": "Error in UseMethod(generic = \"as.sparse\", object = x): no applicable method for 'as.sparse' applied to an object of class \"c('H5D', 'H5RefClass', 'R6')\"\n",
     "output_type": "error",
     "traceback": [
      "Error in UseMethod(generic = \"as.sparse\", object = x): no applicable method for 'as.sparse' applied to an object of class \"c('H5D', 'H5RefClass', 'R6')\"\nTraceback:\n",
      "1. ReadH5AD(file = \"~/processed_single_cell_data/pellin_cd34.h5ad\")",
      "2. ReadH5AD.character(file = \"~/processed_single_cell_data/pellin_cd34.h5ad\")",
      "3. ReadH5AD(file = hfile, assay = assay, layers = layers, verbose = verbose, \n .     ...)",
      "4. ReadH5AD.H5File(file = hfile, assay = assay, layers = layers, \n .     verbose = verbose, ...)",
      "5. as.sparse(x = file[[\"raw.X\"]])"
     ]
    }
   ],
   "source": [
    "plin34 <- ReadH5AD(file = \"~/processed_single_cell_data/pellin_cd34.h5ad\")"
   ]
  },
  {
   "cell_type": "code",
   "execution_count": 5,
   "metadata": {},
   "outputs": [
    {
     "data": {
      "text/plain": [
       "R version 3.6.1 (2019-07-05)\n",
       "Platform: x86_64-pc-linux-gnu (64-bit)\n",
       "Running under: Ubuntu 18.04.3 LTS\n",
       "\n",
       "Matrix products: default\n",
       "BLAS:   /home/hsher/R/lib/R/lib/libRblas.so\n",
       "LAPACK: /home/hsher/R/lib/R/lib/libRlapack.so\n",
       "\n",
       "locale:\n",
       " [1] LC_CTYPE=en_US.UTF-8       LC_NUMERIC=C              \n",
       " [3] LC_TIME=en_US.UTF-8        LC_COLLATE=en_US.UTF-8    \n",
       " [5] LC_MONETARY=en_US.UTF-8    LC_MESSAGES=en_US.UTF-8   \n",
       " [7] LC_PAPER=en_US.UTF-8       LC_NAME=C                 \n",
       " [9] LC_ADDRESS=C               LC_TELEPHONE=C            \n",
       "[11] LC_MEASUREMENT=en_US.UTF-8 LC_IDENTIFICATION=C       \n",
       "\n",
       "attached base packages:\n",
       "[1] parallel  stats4    stats     graphics  grDevices utils     datasets \n",
       "[8] methods   base     \n",
       "\n",
       "other attached packages:\n",
       " [1] loomR_0.2.1.9000            hdf5r_1.3.0                \n",
       " [3] R6_2.4.0                    scater_1.12.2              \n",
       " [5] ggplot2_3.2.1               SingleCellExperiment_1.6.0 \n",
       " [7] SummarizedExperiment_1.14.1 DelayedArray_0.10.0        \n",
       " [9] BiocParallel_1.18.1         matrixStats_0.55.0         \n",
       "[11] Biobase_2.44.0              GenomicRanges_1.36.0       \n",
       "[13] GenomeInfoDb_1.20.0         IRanges_2.18.1             \n",
       "[15] S4Vectors_0.22.0            BiocGenerics_0.30.0        \n",
       "[17] SeuratData_0.1.0            Seurat_3.1.1.9002          \n",
       "\n",
       "loaded via a namespace (and not attached):\n",
       "  [1] ggbeeswarm_0.6.0         Rtsne_0.15               colorspace_1.4-1        \n",
       "  [4] ggridges_0.5.1           IRdisplay_0.7.0          XVector_0.24.0          \n",
       "  [7] BiocNeighbors_1.2.0      base64enc_0.1-3          leiden_0.3.1            \n",
       " [10] listenv_0.7.0            npsurv_0.4-0             bit64_0.9-7             \n",
       " [13] ggrepel_0.8.1            codetools_0.2-16         splines_3.6.1           \n",
       " [16] R.methodsS3_1.7.1        lsei_1.2-0               zeallot_0.1.0           \n",
       " [19] IRkernel_1.0.2           jsonlite_1.6             ica_1.0-2               \n",
       " [22] cluster_2.1.0            png_0.1-7                R.oo_1.22.0             \n",
       " [25] uwot_0.1.4               sctransform_0.2.0        compiler_3.6.1          \n",
       " [28] httr_1.4.1               backports_1.1.5          assertthat_0.2.1        \n",
       " [31] Matrix_1.2-17            lazyeval_0.2.2           cli_1.1.0               \n",
       " [34] BiocSingular_1.0.0       htmltools_0.4.0          tools_3.6.1             \n",
       " [37] rsvd_1.0.2               igraph_1.2.4.1           gtable_0.3.0            \n",
       " [40] glue_1.3.1               GenomeInfoDbData_1.2.1   RANN_2.6.1              \n",
       " [43] reshape2_1.4.3           dplyr_0.8.3              Rcpp_1.0.2              \n",
       " [46] vctrs_0.2.0              gdata_2.18.0             ape_5.3                 \n",
       " [49] nlme_3.1-141             DelayedMatrixStats_1.6.1 gbRd_0.4-11             \n",
       " [52] lmtest_0.9-37            stringr_1.4.0            globals_0.12.4          \n",
       " [55] lifecycle_0.1.0          irlba_2.3.3              gtools_3.8.1            \n",
       " [58] future_1.14.0            MASS_7.3-51.4            zlibbioc_1.30.0         \n",
       " [61] zoo_1.8-6                scales_1.0.0             RColorBrewer_1.1-2      \n",
       " [64] reticulate_1.13          pbapply_1.4-2            gridExtra_2.3           \n",
       " [67] stringi_1.4.3            caTools_1.17.1.2         bibtex_0.4.2            \n",
       " [70] repr_1.0.1               Rdpack_0.11-0            SDMTools_1.1-221.1      \n",
       " [73] rlang_0.4.0              pkgconfig_2.0.3          bitops_1.0-6            \n",
       " [76] evaluate_0.14            lattice_0.20-38          ROCR_1.0-7              \n",
       " [79] purrr_0.3.3              htmlwidgets_1.5.1        bit_1.1-14              \n",
       " [82] cowplot_1.0.0            tidyselect_0.2.5         RcppAnnoy_0.0.13        \n",
       " [85] plyr_1.8.4               magrittr_1.5             gplots_3.0.1.1          \n",
       " [88] pbdZMQ_0.3-3             withr_2.1.2              pillar_1.4.2            \n",
       " [91] fitdistrplus_1.0-14      survival_2.44-1.1        RCurl_1.95-4.12         \n",
       " [94] tibble_2.1.3             future.apply_1.3.0       tsne_0.1-3              \n",
       " [97] crayon_1.3.4             uuid_0.1-2               KernSmooth_2.23-15      \n",
       "[100] plotly_4.9.0             viridis_0.5.1            grid_3.6.1              \n",
       "[103] data.table_1.12.6        metap_1.1                digest_0.6.21           \n",
       "[106] tidyr_1.0.0              R.utils_2.9.0            RcppParallel_4.4.4      \n",
       "[109] munsell_0.5.0            beeswarm_0.2.3           viridisLite_0.3.0       \n",
       "[112] vipor_0.4.5             "
      ]
     },
     "metadata": {},
     "output_type": "display_data"
    }
   ],
   "source": [
    "sessionInfo()"
   ]
  },
  {
   "cell_type": "markdown",
   "metadata": {},
   "source": [
    "## Trying out `reticulate + Convert`\n",
    "NOT working with Seurat v3"
   ]
  },
  {
   "cell_type": "code",
   "execution_count": 2,
   "metadata": {},
   "outputs": [],
   "source": [
    "library(reticulate)\n"
   ]
  },
  {
   "cell_type": "code",
   "execution_count": 3,
   "metadata": {},
   "outputs": [
    {
     "ename": "ERROR",
     "evalue": "Error in Convert(from = plin, to = \"seurat\"): could not find function \"Convert\"\n",
     "output_type": "error",
     "traceback": [
      "Error in Convert(from = plin, to = \"seurat\"): could not find function \"Convert\"\nTraceback:\n"
     ]
    }
   ],
   "source": [
    "ad <- import(\"anndata\", convert = FALSE)\n",
    "pcd34 <- ad$read_h5ad('~/processed_single_cell_data/pellin_cd34.h5ad')\n",
    "plin <- ad$read_h5ad('~/processed_single_cell_data/pellin_lin.h5ad')\n",
    "Convert(from = plin, to = 'seurat')\n",
    "\n",
    "# convert is in seurat v.2.3.4 we have v3"
   ]
  }
 ],
 "metadata": {
  "kernelspec": {
   "display_name": "R",
   "language": "R",
   "name": "ir"
  },
  "language_info": {
   "codemirror_mode": "r",
   "file_extension": ".r",
   "mimetype": "text/x-r-source",
   "name": "R",
   "pygments_lexer": "r",
   "version": "3.6.1"
  }
 },
 "nbformat": 4,
 "nbformat_minor": 4
}
