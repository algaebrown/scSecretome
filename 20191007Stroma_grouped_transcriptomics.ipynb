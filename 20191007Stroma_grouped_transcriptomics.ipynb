{
 "cells": [
  {
   "cell_type": "markdown",
   "metadata": {},
   "source": [
    "# Aggregate single cell data to run `cell2cell`\n",
    "\n",
    "four sets single cell data:\n",
    "Pellin et.al = human haematopoietic stem cells, FAC sorted CD34 or LIN\n",
    "Wolock = mouse stroma cell\n",
    "Tikhonova = mouse stroma cell, FAC sorted for special population\n",
    "\n",
    "## Steps\n",
    "1. for mouse data set, converting gene symbol to human gene symbol is needed\n",
    "- not exactly one-to-one relationship\n",
    "- lost information\n",
    "\n",
    "2. We've showed it's `sc.combat()` function cannot mitigate batch effect for two sets of stroma data\n",
    "- need to try something more sophisticated\n",
    "\n",
    "3. aggregate cells using louvian cluster, take mean\n",
    "\n",
    "4. generate metadata file"
   ]
  },
  {
   "cell_type": "code",
   "execution_count": 1,
   "metadata": {},
   "outputs": [
    {
     "name": "stdout",
     "output_type": "stream",
     "text": [
      "scanpy==1.4.4.post1 anndata==0.6.22.post1 umap==0.3.10 numpy==1.17.3 scipy==1.3.1 pandas==0.25.2 scikit-learn==0.21.3 statsmodels==0.10.1 python-igraph==0.7.1 louvain==0.6.1\n"
     ]
    }
   ],
   "source": [
    "# settings\n",
    "import numpy as np\n",
    "import pandas as pd\n",
    "import scanpy as sc\n",
    "\n",
    "sc.settings.verbosity = 3             # verbosity: errors (0), warnings (1), info (2), hints (3)\n",
    "sc.logging.print_versions()\n",
    "\n",
    "sc.settings.set_figure_params(dpi=80)"
   ]
  },
  {
   "cell_type": "code",
   "execution_count": 2,
   "metadata": {},
   "outputs": [
    {
     "name": "stdout",
     "output_type": "stream",
     "text": [
      "scanpy==1.4.4.post1 anndata==0.6.22.post1 umap==0.3.10 numpy==1.17.3 scipy==1.3.1 pandas==0.25.2 scikit-learn==0.21.3 statsmodels==0.10.1 python-igraph==0.7.1 louvain==0.6.1\n"
     ]
    }
   ],
   "source": [
    "from scSecretome.annot import *\n",
    "from scSecretome.sc import *\n",
    "import anndata"
   ]
  },
  {
   "cell_type": "code",
   "execution_count": 12,
   "metadata": {},
   "outputs": [
    {
     "name": "stderr",
     "output_type": "stream",
     "text": [
      "Observation names are not unique. To make them unique, call `.obs_names_make_unique`.\n"
     ]
    },
    {
     "data": {
      "text/plain": [
       "Index(['AAGTGAGA-TGTAAAGG-0', 'TCCGCTGT-GGAAACAG-0', 'AATATGAC-AGCGTAGG-0',\n",
       "       'CGAAGAAG-ATTGGGCC-0', 'ACACCAAG-CCCGACTT-0', 'CGACATTT-GTACCTTG-0',\n",
       "       'AGGACACA-TGACGGAC-0', 'TCTTTGAC-AAGCTTCT-0', 'GTGGTGCT-TCCCGTAG-0',\n",
       "       'ACGGAGCA-ACACTAAG-0',\n",
       "       ...\n",
       "       'GAATCCCA-CCATTACT-10', 'AACGCCAA-ATGGATTA-10', 'GAGAAACC-TTTGGGAG-10',\n",
       "       'CAAGGAAT-CTATAGAG-10', 'ATACACCC-AGTGAAAG-10', 'GCTATGGG-TCCAGTCC-10',\n",
       "       'GCCTTGTG-TCTCAACC-10', 'AGGCCGAA-GGGAACGA-10', 'GCCTTGTG-AGCGAAGT-10',\n",
       "       'GCCTTGTG-AGAACGGG-10'],\n",
       "      dtype='object', name='index', length=21397)"
      ]
     },
     "execution_count": 12,
     "metadata": {},
     "output_type": "execute_result"
    }
   ],
   "source": [
    "adata = sc.read('/home/hsher/processed_single_cell_data/pellin_bbknn.h5ad')\n",
    "adata.obs.index"
   ]
  },
  {
   "cell_type": "code",
   "execution_count": 29,
   "metadata": {},
   "outputs": [
    {
     "data": {
      "text/plain": [
       "array([0.        , 0.        , 0.        , ..., 0.34649575, 0.        ,\n",
       "       0.        ], dtype=float32)"
      ]
     },
     "execution_count": 29,
     "metadata": {},
     "output_type": "execute_result"
    }
   ],
   "source": [
    "np.mean(adata.raw[['AAGTGAGA-TGTAAAGG-0', 'TCCGCTGT-GGAAACAG-0']].X, axis = 0)"
   ]
  },
  {
   "cell_type": "code",
   "execution_count": null,
   "metadata": {},
   "outputs": [],
   "source": []
  },
  {
   "cell_type": "code",
   "execution_count": 31,
   "metadata": {},
   "outputs": [],
   "source": [
    "def exp_aggregate(filename, use_raw = False, aggr_group = 'louvain'):\n",
    "    '''\n",
    "    use_raw when integrated dataset\n",
    "    '''\n",
    "    # read scanpy from processed single cell data\n",
    "    base = '/home/hsher/processed_single_cell_data/'\n",
    "    adata = sc.read(base + filename)\n",
    "    \n",
    "    # why there are duplicated barcode? becuase the cells are processed in parallel and then concatenated!\n",
    "    adata.obs_names_make_unique(join='-')\n",
    "    \n",
    "    # group expression value by louvain cluster\n",
    "    if use_raw:\n",
    "        grouped_expression = pd.DataFrame(columns = adata.raw.var.index, index = adata.obs[aggr_group].unique())\n",
    "    else:   \n",
    "        grouped_expression = pd.DataFrame(columns = adata.var.index, index = adata.obs[aggr_group].unique())\n",
    "    for g in adata.obs.groupby(by = [aggr_group]):\n",
    "        if use_raw:\n",
    "            grouped_expression.loc[g[0]] = np.mean(adata.raw[g[1].index.tolist()].X, axis = 0)\n",
    "        else:\n",
    "\n",
    "            \n",
    "            grouped_expression.loc[g[0]] = np.mean(adata[g[1].index, :].X, axis = 0)\n",
    "    return(grouped_expression, adata.obs)"
   ]
  },
  {
   "cell_type": "code",
   "execution_count": 4,
   "metadata": {},
   "outputs": [],
   "source": [
    "def metadata(d, obs, species= 'human', aggr_group = 'louvain'):\n",
    "    '''\n",
    "    create louvian cluster annotation by using original publication's annotation or by lineage specific genes\n",
    "    aggr_group: can be other clustering result in adata.obs\n",
    "    '''\n",
    "    # save metadata here\n",
    "    mdata = pd.Series(index = d.index.tolist())\n",
    "    \n",
    "    # if cluster information, use cluster\n",
    "    if 'cluster' in obs.columns:\n",
    "        # count how many times each annotation occurs\n",
    "        annot_count = obs.groupby(by = aggr_group)['cluster'].value_counts().unstack()\n",
    "        annot_rank = annot_count.rank(axis = 1, ascending = False)\n",
    "        \n",
    "        \n",
    "        \n",
    "        # find the max two values (observe transitioning cells sometimes)\n",
    "        for louvain_cluster in annot_rank.index:\n",
    "            if 'nan' in annot_rank.columns:\n",
    "                if annot_rank.loc[louvain_cluster, 'nan'] == 1:\n",
    "                    continue\n",
    "                    # if most are un-annotated, leave it that way\n",
    "            else:\n",
    "                # select the top two popular annotation\n",
    "                best_annot = annot_rank.loc[louvain_cluster].loc[annot_rank.loc[louvain_cluster] == 1].index\n",
    "                sec_annot = annot_rank.loc[louvain_cluster].loc[annot_rank.loc[louvain_cluster] == 2].index\n",
    "                ratio = annot_count.loc[louvain_cluster, best_annot].values/annot_count.loc[louvain_cluster, sec_annot].values\n",
    "                \n",
    "                \n",
    "                if len(sec_annot.tolist())  > 0:\n",
    "                    name = '-'.join([best_annot.tolist()[0], sec_annot.tolist()[0], str(ratio)])\n",
    "                else:\n",
    "                    name = best_annot.tolist()[0]\n",
    "                \n",
    "                \n",
    "                mdata.loc[louvain_cluster] = name\n",
    "    \n",
    "    # TRYING TO CALL LINEAGE FROM EXPRESSION DATA IS A PIECE OF SHIT\n",
    "    #aggr = anndata.AnnData(d)\n",
    "        \n",
    "    # calling various annotation\n",
    "    #lineage_calling(aggr, species = species)\n",
    "        \n",
    "    # it seems only those with high dispersion carry real biological signal\n",
    "    #dispersion = aggr.obs.std()/aggr.obs.mean()\n",
    "        \n",
    "    # select those columns with dispersion > 0.99\n",
    "    #selected = aggr.obs[dispersion.loc[dispersion > 0.99].index]\n",
    "        \n",
    "    # min-max scale the data\n",
    "    #from sklearn import preprocessing\n",
    "    #min_max_scaler = preprocessing.MinMaxScaler()\n",
    "    #scaled_array = min_max_scaler.fit_transform(selected)\n",
    "    #rk = pd.DataFrame(scaled_array, index = selected.index, columns = selected.columns).idxmax(axis = 1)\n",
    "        \n",
    "    # concat both annot\n",
    "    #df = pd.concat([mdata, rk], axis = 1)\n",
    "    #df.columns = ['cluster', 'marker_gene_assigned']\n",
    "    return(mdata.to_frame())"
   ]
  },
  {
   "cell_type": "code",
   "execution_count": 5,
   "metadata": {},
   "outputs": [],
   "source": [
    "def mice_to_human(d):\n",
    "    '''\n",
    "    take single cell matrix, convert mouse gene symbol to human\n",
    "    '''\n",
    "    id_converter = human_mouse_homolog()\n",
    "    \n",
    "    # drop non-unique mouse gene symbols\n",
    "    id_converter.drop_duplicates(subset = ['Mouse'], inplace = True)\n",
    "    id_converter.set_index('Mouse', inplace = True)\n",
    "    \n",
    "    # map gene names\n",
    "    human_symbols = d.columns.to_series().map(id_converter['Human'], na_action = 'ignore') # don't propagate NaN\n",
    "    human_symbols.dropna(inplace = True)\n",
    "    \n",
    "    #return(human_symbols)\n",
    "    # subsetting gene names\n",
    "    new_d = d[human_symbols.index]\n",
    "    new_d.columns  = human_symbols\n",
    "    return(new_d)"
   ]
  },
  {
   "cell_type": "code",
   "execution_count": 9,
   "metadata": {},
   "outputs": [],
   "source": [
    "def wrapper(filename, species = 'human', output_fname = 'unspecified', aggr_group = 'louvain', use_raw = False):\n",
    "    d, obs = exp_aggregate(filename, aggr_group = aggr_group, use_raw = use_raw)\n",
    "    mdata = metadata(d, obs, species = species, aggr_group = aggr_group)\n",
    "    \n",
    "    if species == 'mouse':\n",
    "        d = mice_to_human(d)\n",
    "    \n",
    "    # transpose to fit cell2cell input\n",
    "    d = d.transpose()\n",
    "    d.index.name = 'Gene Symbol'\n",
    "    \n",
    "    # save to folder\n",
    "    base = '/home/hsher/c2c_input/'\n",
    "    if output_fname == 'unspecified':\n",
    "        fname = filename.split('.')[0]\n",
    "    else:\n",
    "        fname = output_fname\n",
    "    d.to_excel(base + fname + '_matrix.xlsx')\n",
    "    mdata.to_excel(base + fname + '_metadata.xlsx')"
   ]
  },
  {
   "cell_type": "code",
   "execution_count": 7,
   "metadata": {},
   "outputs": [
    {
     "ename": "IndexError",
     "evalue": "list index out of range",
     "output_type": "error",
     "traceback": [
      "\u001b[0;31m---------------------------------------------------------------------------\u001b[0m",
      "\u001b[0;31mIndexError\u001b[0m                                Traceback (most recent call last)",
      "\u001b[0;32m<ipython-input-7-282fc161084a>\u001b[0m in \u001b[0;36m<module>\u001b[0;34m\u001b[0m\n\u001b[1;32m      1\u001b[0m \u001b[0mwrapper\u001b[0m\u001b[0;34m(\u001b[0m\u001b[0;34m'wolock.h5ad'\u001b[0m\u001b[0;34m,\u001b[0m \u001b[0mspecies\u001b[0m \u001b[0;34m=\u001b[0m \u001b[0;34m'mouse'\u001b[0m\u001b[0;34m)\u001b[0m\u001b[0;34m\u001b[0m\u001b[0;34m\u001b[0m\u001b[0m\n\u001b[1;32m      2\u001b[0m \u001b[0mwrapper\u001b[0m\u001b[0;34m(\u001b[0m\u001b[0;34m'tikhonova.h5ad'\u001b[0m\u001b[0;34m,\u001b[0m \u001b[0mspecies\u001b[0m \u001b[0;34m=\u001b[0m \u001b[0;34m'mouse'\u001b[0m\u001b[0;34m)\u001b[0m\u001b[0;34m\u001b[0m\u001b[0;34m\u001b[0m\u001b[0m\n\u001b[0;32m----> 3\u001b[0;31m \u001b[0mwrapper\u001b[0m\u001b[0;34m(\u001b[0m\u001b[0;34m'pellin_cd34.h5ad'\u001b[0m\u001b[0;34m,\u001b[0m \u001b[0mspecies\u001b[0m \u001b[0;34m=\u001b[0m \u001b[0;34m'human'\u001b[0m\u001b[0;34m)\u001b[0m\u001b[0;34m\u001b[0m\u001b[0;34m\u001b[0m\u001b[0m\n\u001b[0m\u001b[1;32m      4\u001b[0m \u001b[0mwrapper\u001b[0m\u001b[0;34m(\u001b[0m\u001b[0;34m'pellin_lin.h5ad'\u001b[0m\u001b[0;34m,\u001b[0m \u001b[0mspecies\u001b[0m \u001b[0;34m=\u001b[0m \u001b[0;34m'human'\u001b[0m\u001b[0;34m)\u001b[0m\u001b[0;34m\u001b[0m\u001b[0;34m\u001b[0m\u001b[0m\n",
      "\u001b[0;32m<ipython-input-6-e4b25fbede76>\u001b[0m in \u001b[0;36mwrapper\u001b[0;34m(filename, species, output_fname, aggr_group)\u001b[0m\n\u001b[1;32m      1\u001b[0m \u001b[0;32mdef\u001b[0m \u001b[0mwrapper\u001b[0m\u001b[0;34m(\u001b[0m\u001b[0mfilename\u001b[0m\u001b[0;34m,\u001b[0m \u001b[0mspecies\u001b[0m \u001b[0;34m=\u001b[0m \u001b[0;34m'human'\u001b[0m\u001b[0;34m,\u001b[0m \u001b[0moutput_fname\u001b[0m \u001b[0;34m=\u001b[0m \u001b[0;34m'unspecified'\u001b[0m\u001b[0;34m,\u001b[0m \u001b[0maggr_group\u001b[0m \u001b[0;34m=\u001b[0m \u001b[0;34m'louvain'\u001b[0m\u001b[0;34m)\u001b[0m\u001b[0;34m:\u001b[0m\u001b[0;34m\u001b[0m\u001b[0;34m\u001b[0m\u001b[0m\n\u001b[1;32m      2\u001b[0m     \u001b[0md\u001b[0m\u001b[0;34m,\u001b[0m \u001b[0mobs\u001b[0m \u001b[0;34m=\u001b[0m \u001b[0mexp_aggregate\u001b[0m\u001b[0;34m(\u001b[0m\u001b[0mfilename\u001b[0m\u001b[0;34m)\u001b[0m\u001b[0;34m\u001b[0m\u001b[0;34m\u001b[0m\u001b[0m\n\u001b[0;32m----> 3\u001b[0;31m     \u001b[0mmdata\u001b[0m \u001b[0;34m=\u001b[0m \u001b[0mmetadata\u001b[0m\u001b[0;34m(\u001b[0m\u001b[0md\u001b[0m\u001b[0;34m,\u001b[0m \u001b[0mobs\u001b[0m\u001b[0;34m,\u001b[0m \u001b[0mspecies\u001b[0m \u001b[0;34m=\u001b[0m \u001b[0mspecies\u001b[0m\u001b[0;34m,\u001b[0m \u001b[0maggr_group\u001b[0m \u001b[0;34m=\u001b[0m \u001b[0maggr_group\u001b[0m\u001b[0;34m)\u001b[0m\u001b[0;34m\u001b[0m\u001b[0;34m\u001b[0m\u001b[0m\n\u001b[0m\u001b[1;32m      4\u001b[0m \u001b[0;34m\u001b[0m\u001b[0m\n\u001b[1;32m      5\u001b[0m     \u001b[0;32mif\u001b[0m \u001b[0mspecies\u001b[0m \u001b[0;34m==\u001b[0m \u001b[0;34m'mouse'\u001b[0m\u001b[0;34m:\u001b[0m\u001b[0;34m\u001b[0m\u001b[0;34m\u001b[0m\u001b[0m\n",
      "\u001b[0;32m<ipython-input-4-9fce83220723>\u001b[0m in \u001b[0;36mmetadata\u001b[0;34m(d, obs, species, aggr_group)\u001b[0m\n\u001b[1;32m     31\u001b[0m                     \u001b[0mname\u001b[0m \u001b[0;34m=\u001b[0m \u001b[0;34m'-'\u001b[0m\u001b[0;34m.\u001b[0m\u001b[0mjoin\u001b[0m\u001b[0;34m(\u001b[0m\u001b[0;34m[\u001b[0m\u001b[0mbest_annot\u001b[0m\u001b[0;34m.\u001b[0m\u001b[0mtolist\u001b[0m\u001b[0;34m(\u001b[0m\u001b[0;34m)\u001b[0m\u001b[0;34m[\u001b[0m\u001b[0;36m0\u001b[0m\u001b[0;34m]\u001b[0m\u001b[0;34m,\u001b[0m \u001b[0msec_annot\u001b[0m\u001b[0;34m.\u001b[0m\u001b[0mtolist\u001b[0m\u001b[0;34m(\u001b[0m\u001b[0;34m)\u001b[0m\u001b[0;34m[\u001b[0m\u001b[0;36m0\u001b[0m\u001b[0;34m]\u001b[0m\u001b[0;34m,\u001b[0m \u001b[0mstr\u001b[0m\u001b[0;34m(\u001b[0m\u001b[0mratio\u001b[0m\u001b[0;34m)\u001b[0m\u001b[0;34m]\u001b[0m\u001b[0;34m)\u001b[0m\u001b[0;34m\u001b[0m\u001b[0;34m\u001b[0m\u001b[0m\n\u001b[1;32m     32\u001b[0m                 \u001b[0;32melse\u001b[0m\u001b[0;34m:\u001b[0m\u001b[0;34m\u001b[0m\u001b[0;34m\u001b[0m\u001b[0m\n\u001b[0;32m---> 33\u001b[0;31m                     \u001b[0mname\u001b[0m \u001b[0;34m=\u001b[0m \u001b[0mbest_annot\u001b[0m\u001b[0;34m.\u001b[0m\u001b[0mtolist\u001b[0m\u001b[0;34m(\u001b[0m\u001b[0;34m)\u001b[0m\u001b[0;34m[\u001b[0m\u001b[0;36m0\u001b[0m\u001b[0;34m]\u001b[0m\u001b[0;34m\u001b[0m\u001b[0;34m\u001b[0m\u001b[0m\n\u001b[0m\u001b[1;32m     34\u001b[0m \u001b[0;34m\u001b[0m\u001b[0m\n\u001b[1;32m     35\u001b[0m \u001b[0;34m\u001b[0m\u001b[0m\n",
      "\u001b[0;31mIndexError\u001b[0m: list index out of range"
     ]
    }
   ],
   "source": [
    "wrapper('wolock.h5ad', species = 'mouse')\n",
    "wrapper('tikhonova.h5ad', species = 'mouse')\n",
    "wrapper('pellin_cd34.h5ad', species = 'human')\n",
    "wrapper('pellin_lin.h5ad', species = 'human')"
   ]
  },
  {
   "cell_type": "code",
   "execution_count": null,
   "metadata": {},
   "outputs": [],
   "source": [
    "wrapper('pellin_cd34_sec.h5ad', species = 'human')\n",
    "wrapper('pellin_lin_sec.h5ad', species = 'human')"
   ]
  },
  {
   "cell_type": "code",
   "execution_count": 32,
   "metadata": {},
   "outputs": [
    {
     "name": "stderr",
     "output_type": "stream",
     "text": [
      "Observation names are not unique. To make them unique, call `.obs_names_make_unique`.\n"
     ]
    }
   ],
   "source": [
    "wrapper('pellin_bbknn.h5ad', species = 'human', use_raw = True)"
   ]
  },
  {
   "cell_type": "code",
   "execution_count": 33,
   "metadata": {},
   "outputs": [
    {
     "name": "stderr",
     "output_type": "stream",
     "text": [
      "Observation names are not unique. To make them unique, call `.obs_names_make_unique`.\n"
     ]
    }
   ],
   "source": [
    "wrapper('pellin_bbknn.h5ad', species = 'human', aggr_group = 'leiden',  output_fname = 'pellin_bbknn_leiden', use_raw = True)"
   ]
  },
  {
   "cell_type": "code",
   "execution_count": null,
   "metadata": {},
   "outputs": [],
   "source": []
  }
 ],
 "metadata": {
  "kernelspec": {
   "display_name": "Python 3",
   "language": "python",
   "name": "python3"
  },
  "language_info": {
   "codemirror_mode": {
    "name": "ipython",
    "version": 3
   },
   "file_extension": ".py",
   "mimetype": "text/x-python",
   "name": "python",
   "nbconvert_exporter": "python",
   "pygments_lexer": "ipython3",
   "version": "3.6.9"
  }
 },
 "nbformat": 4,
 "nbformat_minor": 4
}
