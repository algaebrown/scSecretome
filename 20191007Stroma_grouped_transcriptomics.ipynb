{
 "cells": [
  {
   "cell_type": "markdown",
   "metadata": {},
   "source": [
    "# Aggregate single cell data to run `cell2cell`\n",
    "\n",
    "four sets single cell data:\n",
    "Pellin et.al = human haematopoietic stem cells, FAC sorted CD34 or LIN\n",
    "Wolock = mouse stroma cell\n",
    "Tikhonova = mouse stroma cell, FAC sorted for special population\n",
    "\n",
    "## Steps\n",
    "1. for mouse data set, converting gene symbol to human gene symbol is needed\n",
    "- not exactly one-to-one relationship\n",
    "- lost information\n",
    "\n",
    "2. We've showed it's `sc.combat()` function cannot mitigate batch effect for two sets of stroma data\n",
    "- need to try something more sophisticated\n",
    "\n",
    "3. aggregate cells using louvian cluster, take mean\n",
    "\n",
    "4. generate metadata file"
   ]
  },
  {
   "cell_type": "code",
   "execution_count": 1,
   "metadata": {},
   "outputs": [
    {
     "name": "stdout",
     "output_type": "stream",
     "text": [
      "scanpy==1.4.2 anndata==0.6.22.post1 umap==0.3.10 numpy==1.17.2 scipy==1.3.1 pandas==0.25.1 scikit-learn==0.21.3 statsmodels==0.10.1 python-igraph==0.7.1 louvain==0.6.1 \n"
     ]
    }
   ],
   "source": [
    "# settings\n",
    "import numpy as np\n",
    "import pandas as pd\n",
    "import scanpy as sc\n",
    "\n",
    "sc.settings.verbosity = 3             # verbosity: errors (0), warnings (1), info (2), hints (3)\n",
    "sc.logging.print_versions()\n",
    "\n",
    "sc.settings.set_figure_params(dpi=80)"
   ]
  },
  {
   "cell_type": "code",
   "execution_count": 2,
   "metadata": {},
   "outputs": [
    {
     "name": "stdout",
     "output_type": "stream",
     "text": [
      "scanpy==1.4.2 anndata==0.6.22.post1 umap==0.3.10 numpy==1.17.2 scipy==1.3.1 pandas==0.25.1 scikit-learn==0.21.3 statsmodels==0.10.1 python-igraph==0.7.1 louvain==0.6.1 \n"
     ]
    }
   ],
   "source": [
    "from scSecretome.annot import *\n",
    "from scSecretome.sc import *\n",
    "import anndata"
   ]
  },
  {
   "cell_type": "code",
   "execution_count": 3,
   "metadata": {},
   "outputs": [],
   "source": [
    "def exp_aggregate(filename):\n",
    "    \n",
    "    # read scanpy from processed single cell data\n",
    "    base = '/home/hsher/processed_single_cell_data/'\n",
    "    adata = sc.read(base + filename)\n",
    "    \n",
    "    # why there are duplicated barcode? becuase the cells are processed in parallel and then concatenated!\n",
    "    adata.obs_names_make_unique(join='-')\n",
    "    \n",
    "    # group expression value by louvain cluster\n",
    "    grouped_expression = pd.DataFrame(columns = adata.var.index, index = adata.obs['louvain'].unique())\n",
    "    for g in adata.obs.groupby(by = ['louvain']):\n",
    "        grouped_expression.loc[g[0]] = np.mean(adata[g[1].index, :].X, axis = 0)\n",
    "    return(grouped_expression, adata.obs)"
   ]
  },
  {
   "cell_type": "code",
   "execution_count": 4,
   "metadata": {},
   "outputs": [],
   "source": [
    "def metadata(d, obs, species= 'human'):\n",
    "    '''\n",
    "    create cluster annotation by using original publication's annotation or by lineage specific genes\n",
    "    '''\n",
    "    # save metadata here\n",
    "    mdata = pd.Series(index = d.index)\n",
    "    \n",
    "    # if cluster information, use cluster\n",
    "    if 'cluster' in obs.columns:\n",
    "        # count how many times each annotation occurs\n",
    "        annot_count = obs.groupby(by = 'louvain')['cluster'].value_counts().unstack()\n",
    "        annot_rank = annot_count.rank(axis = 1, ascending = False)\n",
    "        \n",
    "              \n",
    "        \n",
    "        # find the max two values (observe transitioning cells sometimes)\n",
    "        for louvain_cluster in annot_rank.index:\n",
    "            if 'nan' in annot_rank.columns:\n",
    "                if annot_rank.loc[louvain_cluster, 'nan'] == 1:\n",
    "                    continue\n",
    "                    # if most are un-annotated, leave it that way\n",
    "            else:\n",
    "                # select the top two popular annotation\n",
    "                best_annot = annot_rank.loc[louvain_cluster].loc[annot_rank.loc[louvain_cluster] == 1].index\n",
    "                sec_annot = annot_rank.loc[louvain_cluster].loc[annot_rank.loc[louvain_cluster] == 2].index\n",
    "                ratio = annot_count.loc[louvain_cluster, best_annot].values/annot_count.loc[louvain_cluster, sec_annot].values\n",
    "                \n",
    "                \n",
    "                if len(sec_annot.tolist())  > 0:\n",
    "                    name = '-'.join([best_annot.tolist()[0], sec_annot.tolist()[0], str(ratio)])\n",
    "                else:\n",
    "                    name = best_annot.tolist()[0]\n",
    "                \n",
    "                mdata[louvain_cluster] = name\n",
    "    \n",
    "    \n",
    "    aggr = anndata.AnnData(d)\n",
    "        \n",
    "    # calling various annotation\n",
    "    lineage_calling(aggr, species = species)\n",
    "        \n",
    "    # it seems only those with high dispersion carry real biological signal\n",
    "    dispersion = aggr.obs.std()/aggr.obs.mean()\n",
    "        \n",
    "    # select those columns with dispersion > 0.99\n",
    "    selected = aggr.obs[dispersion.loc[dispersion > 0.99].index]\n",
    "        \n",
    "    # min-max scale the data\n",
    "    from sklearn import preprocessing\n",
    "    min_max_scaler = preprocessing.MinMaxScaler()\n",
    "    scaled_array = min_max_scaler.fit_transform(selected)\n",
    "    rk = pd.DataFrame(scaled_array, index = selected.index, columns = selected.columns).idxmax(axis = 1)\n",
    "        \n",
    "    # concat both annot\n",
    "    df = pd.concat([mdata, rk], axis = 1)\n",
    "    df.columns = ['cluster', 'marker_gene_assigned']\n",
    "    return(df)"
   ]
  },
  {
   "cell_type": "code",
   "execution_count": 5,
   "metadata": {},
   "outputs": [],
   "source": [
    "def mice_to_human(d):\n",
    "    '''\n",
    "    take single cell matrix, convert mouse gene symbol to human\n",
    "    '''\n",
    "    id_converter = human_mouse_homolog()\n",
    "    \n",
    "    # drop non-unique mouse gene symbols\n",
    "    id_converter.drop_duplicates(subset = ['Mouse'], inplace = True)\n",
    "    id_converter.set_index('Mouse', inplace = True)\n",
    "    \n",
    "    # map gene names\n",
    "    human_symbols = d.columns.to_series().map(id_converter['Human'], na_action = 'ignore') # don't propagate NaN\n",
    "    human_symbols.dropna(inplace = True)\n",
    "    \n",
    "    #return(human_symbols)\n",
    "    # subsetting gene names\n",
    "    new_d = d[human_symbols.index]\n",
    "    new_d.columns  = human_symbols\n",
    "    return(new_d)"
   ]
  },
  {
   "cell_type": "code",
   "execution_count": 6,
   "metadata": {},
   "outputs": [],
   "source": [
    "def wrapper(filename, species = 'human'):\n",
    "    d, obs = exp_aggregate(filename)\n",
    "    mdata = metadata(d, obs, species = species)\n",
    "    \n",
    "    if species == 'mouse':\n",
    "        d = mice_to_human(d)\n",
    "    \n",
    "    # transpose to fit cell2cell input\n",
    "    d = d.transpose()\n",
    "    d.index.name = 'Gene Symbol'\n",
    "    \n",
    "    # save to folder\n",
    "    base = '/home/hsher/c2c_input/'\n",
    "    fname = filename.split('.')[0]\n",
    "    d.to_excel(base + fname + '_matrix.xlsx')\n",
    "    mdata.to_excel(base + fname + '_metadata.xlsx')"
   ]
  },
  {
   "cell_type": "code",
   "execution_count": 7,
   "metadata": {},
   "outputs": [
    {
     "name": "stdout",
     "output_type": "stream",
     "text": [
      "Index(['vecad'], dtype='object', name='cluster') Index([], dtype='object', name='cluster')\n",
      "Index(['lepr'], dtype='object', name='cluster') Index([], dtype='object', name='cluster')\n",
      "Index(['vecad'], dtype='object', name='cluster') Index(['lepr'], dtype='object', name='cluster')\n",
      "Index(['lepr'], dtype='object', name='cluster') Index([], dtype='object', name='cluster')\n",
      "Index(['lepr'], dtype='object', name='cluster') Index([], dtype='object', name='cluster')\n",
      "Index(['vecad'], dtype='object', name='cluster') Index(['lepr'], dtype='object', name='cluster')\n",
      "Index(['lepr'], dtype='object', name='cluster') Index(['vecad'], dtype='object', name='cluster')\n",
      "Index(['lepr'], dtype='object', name='cluster') Index(['vecad'], dtype='object', name='cluster')\n",
      "Index(['vecad'], dtype='object', name='cluster') Index([], dtype='object', name='cluster')\n",
      "Index(['vecad'], dtype='object', name='cluster') Index([], dtype='object', name='cluster')\n",
      "Index(['lepr'], dtype='object', name='cluster') Index(['vecad'], dtype='object', name='cluster')\n",
      "Index(['vecad'], dtype='object', name='cluster') Index(['lepr'], dtype='object', name='cluster')\n",
      "Index(['vecad'], dtype='object', name='cluster') Index(['lepr'], dtype='object', name='cluster')\n",
      "Index(['vecad'], dtype='object', name='cluster') Index(['lepr'], dtype='object', name='cluster')\n",
      "Index(['lepr'], dtype='object', name='cluster') Index(['vecad'], dtype='object', name='cluster')\n",
      "Index(['lepr'], dtype='object', name='cluster') Index(['vecad'], dtype='object', name='cluster')\n",
      "Index(['vecad'], dtype='object', name='cluster') Index(['lepr'], dtype='object', name='cluster')\n",
      "Index(['lepr'], dtype='object', name='cluster') Index([], dtype='object', name='cluster')\n",
      "Index(['lepr'], dtype='object', name='cluster') Index([], dtype='object', name='cluster')\n",
      "Index(['vecad'], dtype='object', name='cluster') Index(['lepr'], dtype='object', name='cluster')\n",
      "Index(['vecad'], dtype='object', name='cluster') Index([], dtype='object', name='cluster')\n",
      "Index(['lepr'], dtype='object', name='cluster') Index(['vecad'], dtype='object', name='cluster')\n",
      "Index(['lepr'], dtype='object', name='cluster') Index(['vecad'], dtype='object', name='cluster')\n",
      "Index(['lepr'], dtype='object', name='cluster') Index([], dtype='object', name='cluster')\n",
      "Index(['vecad'], dtype='object', name='cluster') Index([], dtype='object', name='cluster')\n",
      "Index(['vecad'], dtype='object', name='cluster') Index([], dtype='object', name='cluster')\n",
      "Index(['HSC'], dtype='object', name='cluster') Index(['CMP'], dtype='object', name='cluster')\n",
      "Index(['MEP'], dtype='object', name='cluster') Index(['HSC'], dtype='object', name='cluster')\n",
      "Index(['CMP'], dtype='object', name='cluster') Index(['HSC'], dtype='object', name='cluster')\n",
      "Index(['HSC'], dtype='object', name='cluster') Index(['CMP'], dtype='object', name='cluster')\n",
      "Index(['CMP'], dtype='object', name='cluster') Index(['GMP'], dtype='object', name='cluster')\n",
      "Index(['PreBNK'], dtype='object', name='cluster') Index(['GMP'], dtype='object', name='cluster')\n",
      "Index(['MEP'], dtype='object', name='cluster') Index(['CMP'], dtype='object', name='cluster')\n",
      "Index(['GMP'], dtype='object', name='cluster') Index(['CMP'], dtype='object', name='cluster')\n",
      "Index(['PreBNK'], dtype='object', name='cluster') Index(['MLP'], dtype='object', name='cluster')\n",
      "Index(['CMP'], dtype='object', name='cluster') Index(['GMP'], dtype='object', name='cluster')\n",
      "Index(['GMP'], dtype='object', name='cluster') Index(['CMP'], dtype='object', name='cluster')\n",
      "Index(['GMP'], dtype='object', name='cluster') Index(['PreBNK'], dtype='object', name='cluster')\n"
     ]
    },
    {
     "name": "stderr",
     "output_type": "stream",
     "text": [
      "/home/hsher/miniconda3/lib/python3.7/site-packages/pandas/core/indexing.py:961: FutureWarning: \n",
      "Passing list-likes to .loc or [] with any missing label will raise\n",
      "KeyError in the future, you can use .reindex() as an alternative.\n",
      "\n",
      "See the documentation here:\n",
      "https://pandas.pydata.org/pandas-docs/stable/user_guide/indexing.html#deprecate-loc-reindex-listlike\n",
      "  return getattr(section, self.name)[new_key]\n",
      "Observation names are not unique. To make them unique, call `.obs_names_make_unique`.\n"
     ]
    },
    {
     "name": "stdout",
     "output_type": "stream",
     "text": [
      "Index(['Lin- CD34+ CD164+'], dtype='object', name='cluster') Index(['Lin- CD34low CD164high'], dtype='object', name='cluster')\n",
      "Index(['Lin- CD34low CD164high'], dtype='object', name='cluster') Index(['Lin- CD34- CD164high'], dtype='object', name='cluster')\n",
      "Index(['Lin- CD34+ CD164+'], dtype='object', name='cluster') Index(['Lin- CD34low CD164high'], dtype='object', name='cluster')\n",
      "Index(['Lin- CD34- CD164high'], dtype='object', name='cluster') Index(['Lin- CD34low CD164high'], dtype='object', name='cluster')\n",
      "Index(['Lin- CD34+ CD164+'], dtype='object', name='cluster') Index(['Lin- CD34low CD164high'], dtype='object', name='cluster')\n",
      "Index(['Lin- CD34- CD164high'], dtype='object', name='cluster') Index(['Lin- CD34- CD164low'], dtype='object', name='cluster')\n",
      "Index(['Lin- CD34+ CD164+'], dtype='object', name='cluster') Index(['Lin- CD34low CD164high'], dtype='object', name='cluster')\n",
      "Index(['Lin- CD34- CD164high'], dtype='object', name='cluster') Index(['Lin- CD34low CD164high'], dtype='object', name='cluster')\n",
      "Index(['Lin- CD34low CD164high'], dtype='object', name='cluster') Index(['Lin- CD34+ CD164+'], dtype='object', name='cluster')\n",
      "Index(['Lin- CD34- CD164high'], dtype='object', name='cluster') Index(['Lin- CD34low CD164high'], dtype='object', name='cluster')\n",
      "Index(['Lin- CD34+ CD164+'], dtype='object', name='cluster') Index(['Lin- CD34low CD164high'], dtype='object', name='cluster')\n",
      "Index(['Lin- CD34+ CD164+'], dtype='object', name='cluster') Index(['Lin- CD34low CD164high'], dtype='object', name='cluster')\n",
      "Index(['Lin- CD34low CD164high'], dtype='object', name='cluster') Index(['Lin- CD34+ CD164+'], dtype='object', name='cluster')\n",
      "Index(['Lin- CD34- CD164low'], dtype='object', name='cluster') Index(['Lin- CD34- CD164high'], dtype='object', name='cluster')\n",
      "Index(['Lin- CD34low CD164high'], dtype='object', name='cluster') Index(['Lin- CD34+ CD164+'], dtype='object', name='cluster')\n",
      "Index(['Lin- CD34+ CD164+'], dtype='object', name='cluster') Index(['Lin- CD34low CD164high'], dtype='object', name='cluster')\n",
      "Index(['Lin- CD34low CD164high'], dtype='object', name='cluster') Index(['Lin- CD34+ CD164+'], dtype='object', name='cluster')\n",
      "Index(['Lin- CD34- CD164high'], dtype='object', name='cluster') Index([], dtype='object', name='cluster')\n",
      "Index(['Lin- CD34low CD164high'], dtype='object', name='cluster') Index([], dtype='object', name='cluster')\n",
      "Index(['Lin- CD34- CD164high'], dtype='object', name='cluster') Index(['Lin- CD34low CD164high'], dtype='object', name='cluster')\n",
      "Index(['Lin- CD34low CD164high'], dtype='object', name='cluster') Index([], dtype='object', name='cluster')\n"
     ]
    },
    {
     "name": "stderr",
     "output_type": "stream",
     "text": [
      "/home/hsher/miniconda3/lib/python3.7/site-packages/pandas/core/indexing.py:961: FutureWarning: \n",
      "Passing list-likes to .loc or [] with any missing label will raise\n",
      "KeyError in the future, you can use .reindex() as an alternative.\n",
      "\n",
      "See the documentation here:\n",
      "https://pandas.pydata.org/pandas-docs/stable/user_guide/indexing.html#deprecate-loc-reindex-listlike\n",
      "  return getattr(section, self.name)[new_key]\n"
     ]
    }
   ],
   "source": [
    "wrapper('wolock.h5ad', species = 'mouse')\n",
    "wrapper('tikhonova.h5ad', species = 'mouse')\n",
    "wrapper('pellin_cd34.h5ad', species = 'human')\n",
    "wrapper('pellin_lin.h5ad', species = 'human')"
   ]
  },
  {
   "cell_type": "code",
   "execution_count": null,
   "metadata": {},
   "outputs": [],
   "source": []
  }
 ],
 "metadata": {
  "kernelspec": {
   "display_name": "Python 3",
   "language": "python",
   "name": "python3"
  },
  "language_info": {
   "codemirror_mode": {
    "name": "ipython",
    "version": 3
   },
   "file_extension": ".py",
   "mimetype": "text/x-python",
   "name": "python",
   "nbconvert_exporter": "python",
   "pygments_lexer": "ipython3",
   "version": "3.7.3"
  }
 },
 "nbformat": 4,
 "nbformat_minor": 4
}
