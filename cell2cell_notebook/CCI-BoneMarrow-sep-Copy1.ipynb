{
 "cells": [
  {
   "cell_type": "code",
   "execution_count": 1,
   "metadata": {},
   "outputs": [],
   "source": [
    "import cell2cell as c2c\n",
    "import matplotlib.pyplot as plt\n",
    "import numpy as np\n",
    "import pandas as pd\n",
    "import seaborn as sns\n",
    "import matplotlib as mlp\n",
    "from mpl_toolkits.mplot3d import Axes3D\n",
    "\n",
    "import skbio, scipy\n",
    "\n",
    "%matplotlib inline"
   ]
  },
  {
   "cell_type": "markdown",
   "metadata": {},
   "source": [
    "# Analysis Setup\n",
    "\n",
    "Here, all inputs and parameters needed for the analysis are defined"
   ]
  },
  {
   "cell_type": "markdown",
   "metadata": {},
   "source": [
    "**Location of files**"
   ]
  },
  {
   "cell_type": "markdown",
   "metadata": {},
   "source": [
    "**<font color=red>When using other organism, it is important to have the same gene IDs or names in all the data sources. *That is, rnaseq, ppi and go_annotations*.</font>**"
   ]
  },
  {
   "cell_type": "code",
   "execution_count": 2,
   "metadata": {},
   "outputs": [],
   "source": [
    "files = dict()\n",
    "files['rnaseq'] = '/home/hsher/c2c_input/pellin_lin_matrix.xlsx'\n",
    "files['metadata'] = '/home/hsher/c2c_input/pellin_lin_metadata_1211.xlsx'\n",
    "files['ppi'] = '/home/hsher/ppi/receptor-ligand-bader.tsv'\n",
    "files['output_folder'] = '/home/hsher/c2c_output/'"
   ]
  },
  {
   "cell_type": "markdown",
   "metadata": {},
   "source": [
    "**RNA-seq data manipulation**\n",
    "\n",
    "- <font color=\"green\">'gene_col'</font> is the name of the column containing the list or names of genes in the dataset.\n",
    "- <font color=\"green\">'drop_nangenes'</font> is a boolean decision to remove those genes with NaN values.\n",
    "- <font color=\"green\">'log_transform'</font> is a boolean decision to log-transform the dataset."
   ]
  },
  {
   "cell_type": "code",
   "execution_count": 3,
   "metadata": {},
   "outputs": [],
   "source": [
    "rnaseq_setup = dict()\n",
    "rnaseq_setup['gene_col'] = None\n",
    "rnaseq_setup['drop_nangenes'] = True\n",
    "rnaseq_setup['log_transform'] = False"
   ]
  },
  {
   "cell_type": "markdown",
   "metadata": {},
   "source": [
    "**Metadata columns**\n",
    "\n",
    "- <font color=\"green\">'sample_col'</font> is the name of the column containing the sample or cell names in RNA-seq data (equivalent to the columns in rnaseq_data.\n",
    "- <font color=\"green\">'group_col'</font> is the name of the column containing the labels for the respective samples or cells in order to group/color them in downstream analyses."
   ]
  },
  {
   "cell_type": "code",
   "execution_count": 4,
   "metadata": {},
   "outputs": [],
   "source": [
    "meta_setup = dict()\n",
    "meta_setup['sample_col'] = 'Cell cluster'\n",
    "meta_setup['group_col'] = 'FACs annotation'"
   ]
  },
  {
   "cell_type": "markdown",
   "metadata": {},
   "source": [
    "**Columns for PPI network**\n",
    "\n",
    "- <font color=\"green\">'protein_cols'</font> is a list containing the names of the first and second interactors."
   ]
  },
  {
   "cell_type": "code",
   "execution_count": 5,
   "metadata": {},
   "outputs": [],
   "source": [
    "ppi_setup = dict()\n",
    "ppi_setup['protein_cols'] = ['AliasA', 'AliasB']"
   ]
  },
  {
   "cell_type": "markdown",
   "metadata": {},
   "source": [
    "**Cutoffs setup for binarizing gene expression**\n",
    "\n",
    "- <font color=\"green\">'type'</font> is the type of cutoff to use. So far, only 'local_percentile' and 'global_percentile' are implemented. Local percentile is used to compute the cutoff locally, gene by gene; while a global percentiles is calculated from the entire dataset.\n",
    "- <font color=\"green\">'parameter'</font> is the corresponding parameter for the type of cutoff. If percentile is used, it should be a value between 0 and 1. E.g. a value of 0.75 represents the 75-th percentile, and the cutoff to binarize the gene expression will be that value."
   ]
  },
  {
   "cell_type": "code",
   "execution_count": 6,
   "metadata": {},
   "outputs": [],
   "source": [
    "cutoff_setup = dict()\n",
    "cutoff_setup['type'] = 'local_percentile'\n",
    "cutoff_setup['parameter'] = 0.9 ## Try two parameters 0.75, 0.90"
   ]
  },
  {
   "cell_type": "markdown",
   "metadata": {},
   "source": [
    "**General Analysis setups**\n",
    "\n",
    "- <font color=\"green\">'score_type'</font> is the type of score to calculate the interaction index for a pair of cells. It could be 'binary' to use 0 or 1 values of gene expression depending on a cutoff value for each one or 'weighted' to use a continue value between 0 and 1 given the maximal expression level of each gene.\n",
    "- <font color=\"green\">'score_metric'</font> is the metric approach to compute the score. Current options are 'bray_curtis' and 'jaccard'."
   ]
  },
  {
   "cell_type": "code",
   "execution_count": 7,
   "metadata": {},
   "outputs": [],
   "source": [
    "analysis_setup = dict()\n",
    "analysis_setup['score_type'] = 'binary'\n",
    "analysis_setup['score_metric'] = 'bray_curtis'"
   ]
  },
  {
   "cell_type": "markdown",
   "metadata": {},
   "source": [
    "# Load Data"
   ]
  },
  {
   "cell_type": "markdown",
   "metadata": {},
   "source": [
    "**RNA-seq**"
   ]
  },
  {
   "cell_type": "code",
   "execution_count": 8,
   "metadata": {},
   "outputs": [
    {
     "name": "stdout",
     "output_type": "stream",
     "text": [
      "Opening RNAseq datasets from /home/hsher/c2c_input/pellin_lin_matrix.xlsx\n",
      "/home/hsher/c2c_input/pellin_lin_matrix.xlsx was correctly loaded\n"
     ]
    }
   ],
   "source": [
    "rnaseq_data_ = c2c.io.load_rnaseq(rnaseq_file=files['rnaseq'],\n",
    "                                  gene_column=rnaseq_setup['gene_col'],\n",
    "                                  drop_nangenes=rnaseq_setup['drop_nangenes'],\n",
    "                                  log_transformation=rnaseq_setup['log_transform'],\n",
    "                                  format='auto')"
   ]
  },
  {
   "cell_type": "code",
   "execution_count": 9,
   "metadata": {},
   "outputs": [
    {
     "data": {
      "text/html": [
       "<div>\n",
       "<style scoped>\n",
       "    .dataframe tbody tr th:only-of-type {\n",
       "        vertical-align: middle;\n",
       "    }\n",
       "\n",
       "    .dataframe tbody tr th {\n",
       "        vertical-align: top;\n",
       "    }\n",
       "\n",
       "    .dataframe thead th {\n",
       "        text-align: right;\n",
       "    }\n",
       "</style>\n",
       "<table border=\"1\" class=\"dataframe\">\n",
       "  <thead>\n",
       "    <tr style=\"text-align: right;\">\n",
       "      <th></th>\n",
       "      <th>2</th>\n",
       "      <th>3</th>\n",
       "      <th>4</th>\n",
       "      <th>14</th>\n",
       "      <th>0</th>\n",
       "      <th>13</th>\n",
       "      <th>19</th>\n",
       "      <th>18</th>\n",
       "      <th>20</th>\n",
       "      <th>11</th>\n",
       "      <th>...</th>\n",
       "      <th>6</th>\n",
       "      <th>7</th>\n",
       "      <th>9</th>\n",
       "      <th>12</th>\n",
       "      <th>15</th>\n",
       "      <th>1</th>\n",
       "      <th>8</th>\n",
       "      <th>16</th>\n",
       "      <th>5</th>\n",
       "      <th>10</th>\n",
       "    </tr>\n",
       "    <tr>\n",
       "      <th>Gene Symbol</th>\n",
       "      <th></th>\n",
       "      <th></th>\n",
       "      <th></th>\n",
       "      <th></th>\n",
       "      <th></th>\n",
       "      <th></th>\n",
       "      <th></th>\n",
       "      <th></th>\n",
       "      <th></th>\n",
       "      <th></th>\n",
       "      <th></th>\n",
       "      <th></th>\n",
       "      <th></th>\n",
       "      <th></th>\n",
       "      <th></th>\n",
       "      <th></th>\n",
       "      <th></th>\n",
       "      <th></th>\n",
       "      <th></th>\n",
       "      <th></th>\n",
       "      <th></th>\n",
       "    </tr>\n",
       "  </thead>\n",
       "  <tbody>\n",
       "    <tr>\n",
       "      <td>A1BG</td>\n",
       "      <td>0.003331</td>\n",
       "      <td>0.000953</td>\n",
       "      <td>0.001096</td>\n",
       "      <td>0.000000</td>\n",
       "      <td>0.003516</td>\n",
       "      <td>0.000000</td>\n",
       "      <td>0.004463</td>\n",
       "      <td>0.00509</td>\n",
       "      <td>0.004167</td>\n",
       "      <td>0.00294</td>\n",
       "      <td>...</td>\n",
       "      <td>0.00396</td>\n",
       "      <td>0.004422</td>\n",
       "      <td>0.004652</td>\n",
       "      <td>0.003495</td>\n",
       "      <td>0.004030</td>\n",
       "      <td>0.002335</td>\n",
       "      <td>0.003974</td>\n",
       "      <td>0.002428</td>\n",
       "      <td>0.002158</td>\n",
       "      <td>0.000000</td>\n",
       "    </tr>\n",
       "    <tr>\n",
       "      <td>A1BG.AS1</td>\n",
       "      <td>0.000000</td>\n",
       "      <td>0.006759</td>\n",
       "      <td>0.000000</td>\n",
       "      <td>0.009174</td>\n",
       "      <td>0.007887</td>\n",
       "      <td>0.005898</td>\n",
       "      <td>0.004624</td>\n",
       "      <td>0.00000</td>\n",
       "      <td>0.001643</td>\n",
       "      <td>0.00000</td>\n",
       "      <td>...</td>\n",
       "      <td>0.00000</td>\n",
       "      <td>0.007933</td>\n",
       "      <td>0.005479</td>\n",
       "      <td>0.004356</td>\n",
       "      <td>0.007684</td>\n",
       "      <td>0.003880</td>\n",
       "      <td>0.005927</td>\n",
       "      <td>0.015529</td>\n",
       "      <td>0.012289</td>\n",
       "      <td>0.000000</td>\n",
       "    </tr>\n",
       "    <tr>\n",
       "      <td>A1CF</td>\n",
       "      <td>0.000689</td>\n",
       "      <td>0.000530</td>\n",
       "      <td>0.001355</td>\n",
       "      <td>0.000000</td>\n",
       "      <td>0.000000</td>\n",
       "      <td>0.001002</td>\n",
       "      <td>0.005279</td>\n",
       "      <td>0.00000</td>\n",
       "      <td>0.000000</td>\n",
       "      <td>0.00000</td>\n",
       "      <td>...</td>\n",
       "      <td>0.00000</td>\n",
       "      <td>0.004425</td>\n",
       "      <td>0.001422</td>\n",
       "      <td>0.004134</td>\n",
       "      <td>0.000000</td>\n",
       "      <td>0.000964</td>\n",
       "      <td>0.001169</td>\n",
       "      <td>0.003629</td>\n",
       "      <td>0.001273</td>\n",
       "      <td>0.001682</td>\n",
       "    </tr>\n",
       "    <tr>\n",
       "      <td>A2M</td>\n",
       "      <td>0.000000</td>\n",
       "      <td>0.000000</td>\n",
       "      <td>0.001450</td>\n",
       "      <td>0.000000</td>\n",
       "      <td>0.000454</td>\n",
       "      <td>0.000000</td>\n",
       "      <td>0.000000</td>\n",
       "      <td>0.00000</td>\n",
       "      <td>0.000984</td>\n",
       "      <td>0.00000</td>\n",
       "      <td>...</td>\n",
       "      <td>0.00000</td>\n",
       "      <td>0.001183</td>\n",
       "      <td>0.000000</td>\n",
       "      <td>0.000703</td>\n",
       "      <td>0.002315</td>\n",
       "      <td>0.000336</td>\n",
       "      <td>0.000000</td>\n",
       "      <td>0.000000</td>\n",
       "      <td>0.001016</td>\n",
       "      <td>0.000000</td>\n",
       "    </tr>\n",
       "    <tr>\n",
       "      <td>A2M.AS1</td>\n",
       "      <td>0.000000</td>\n",
       "      <td>0.003516</td>\n",
       "      <td>0.000000</td>\n",
       "      <td>0.008878</td>\n",
       "      <td>0.004886</td>\n",
       "      <td>0.000000</td>\n",
       "      <td>0.000000</td>\n",
       "      <td>0.00000</td>\n",
       "      <td>0.002764</td>\n",
       "      <td>0.00000</td>\n",
       "      <td>...</td>\n",
       "      <td>0.00000</td>\n",
       "      <td>0.004967</td>\n",
       "      <td>0.002426</td>\n",
       "      <td>0.003848</td>\n",
       "      <td>0.001934</td>\n",
       "      <td>0.005581</td>\n",
       "      <td>0.006482</td>\n",
       "      <td>0.003255</td>\n",
       "      <td>0.006871</td>\n",
       "      <td>0.001904</td>\n",
       "    </tr>\n",
       "  </tbody>\n",
       "</table>\n",
       "<p>5 rows × 21 columns</p>\n",
       "</div>"
      ],
      "text/plain": [
       "                    2         3         4        14         0        13  \\\n",
       "Gene Symbol                                                               \n",
       "A1BG         0.003331  0.000953  0.001096  0.000000  0.003516  0.000000   \n",
       "A1BG.AS1     0.000000  0.006759  0.000000  0.009174  0.007887  0.005898   \n",
       "A1CF         0.000689  0.000530  0.001355  0.000000  0.000000  0.001002   \n",
       "A2M          0.000000  0.000000  0.001450  0.000000  0.000454  0.000000   \n",
       "A2M.AS1      0.000000  0.003516  0.000000  0.008878  0.004886  0.000000   \n",
       "\n",
       "                   19       18        20       11  ...        6         7  \\\n",
       "Gene Symbol                                        ...                      \n",
       "A1BG         0.004463  0.00509  0.004167  0.00294  ...  0.00396  0.004422   \n",
       "A1BG.AS1     0.004624  0.00000  0.001643  0.00000  ...  0.00000  0.007933   \n",
       "A1CF         0.005279  0.00000  0.000000  0.00000  ...  0.00000  0.004425   \n",
       "A2M          0.000000  0.00000  0.000984  0.00000  ...  0.00000  0.001183   \n",
       "A2M.AS1      0.000000  0.00000  0.002764  0.00000  ...  0.00000  0.004967   \n",
       "\n",
       "                    9        12        15         1         8        16  \\\n",
       "Gene Symbol                                                               \n",
       "A1BG         0.004652  0.003495  0.004030  0.002335  0.003974  0.002428   \n",
       "A1BG.AS1     0.005479  0.004356  0.007684  0.003880  0.005927  0.015529   \n",
       "A1CF         0.001422  0.004134  0.000000  0.000964  0.001169  0.003629   \n",
       "A2M          0.000000  0.000703  0.002315  0.000336  0.000000  0.000000   \n",
       "A2M.AS1      0.002426  0.003848  0.001934  0.005581  0.006482  0.003255   \n",
       "\n",
       "                    5        10  \n",
       "Gene Symbol                      \n",
       "A1BG         0.002158  0.000000  \n",
       "A1BG.AS1     0.012289  0.000000  \n",
       "A1CF         0.001273  0.001682  \n",
       "A2M          0.001016  0.000000  \n",
       "A2M.AS1      0.006871  0.001904  \n",
       "\n",
       "[5 rows x 21 columns]"
      ]
     },
     "execution_count": 9,
     "metadata": {},
     "output_type": "execute_result"
    }
   ],
   "source": [
    "rnaseq_data_.head()"
   ]
  },
  {
   "cell_type": "code",
   "execution_count": 10,
   "metadata": {},
   "outputs": [],
   "source": [
    "rnaseq_data_.index.name = 'gene_id'"
   ]
  },
  {
   "cell_type": "code",
   "execution_count": 11,
   "metadata": {},
   "outputs": [],
   "source": [
    "rnaseq_data = rnaseq_data_"
   ]
  },
  {
   "cell_type": "markdown",
   "metadata": {},
   "source": [
    "**Metadata for cell types**"
   ]
  },
  {
   "cell_type": "code",
   "execution_count": 12,
   "metadata": {},
   "outputs": [
    {
     "name": "stdout",
     "output_type": "stream",
     "text": [
      "/home/hsher/c2c_input/pellin_lin_metadata_1211.xlsx was correctly loaded\n"
     ]
    }
   ],
   "source": [
    "meta = c2c.io.load_table(files['metadata'], format='auto')\n",
    "\n",
    "#rnaseq_cols = list(rnaseq_data.columns)\n",
    "\n",
    "#meta = meta.set_index('Unnamed: 0').loc[rnaseq_cols].reset_index()\n",
    "#meta.index = [str(i) for i, c in enumerate(rnaseq_data.columns)]\n",
    "meta.columns = ['Cell cluster', 'FACs annotation']\n",
    "meta['Cell cluster'] = meta['Cell cluster'].astype(str)"
   ]
  },
  {
   "cell_type": "code",
   "execution_count": 13,
   "metadata": {},
   "outputs": [
    {
     "data": {
      "text/html": [
       "<div>\n",
       "<style scoped>\n",
       "    .dataframe tbody tr th:only-of-type {\n",
       "        vertical-align: middle;\n",
       "    }\n",
       "\n",
       "    .dataframe tbody tr th {\n",
       "        vertical-align: top;\n",
       "    }\n",
       "\n",
       "    .dataframe thead th {\n",
       "        text-align: right;\n",
       "    }\n",
       "</style>\n",
       "<table border=\"1\" class=\"dataframe\">\n",
       "  <thead>\n",
       "    <tr style=\"text-align: right;\">\n",
       "      <th></th>\n",
       "      <th>Cell cluster</th>\n",
       "      <th>FACs annotation</th>\n",
       "    </tr>\n",
       "  </thead>\n",
       "  <tbody>\n",
       "    <tr>\n",
       "      <td>0</td>\n",
       "      <td>0</td>\n",
       "      <td>CMP</td>\n",
       "    </tr>\n",
       "    <tr>\n",
       "      <td>1</td>\n",
       "      <td>1</td>\n",
       "      <td>Erythro-Branch2(FAM178B, MT high)</td>\n",
       "    </tr>\n",
       "    <tr>\n",
       "      <td>2</td>\n",
       "      <td>2</td>\n",
       "      <td>Erythro-Early</td>\n",
       "    </tr>\n",
       "    <tr>\n",
       "      <td>3</td>\n",
       "      <td>3</td>\n",
       "      <td>MEP(late)</td>\n",
       "    </tr>\n",
       "    <tr>\n",
       "      <td>4</td>\n",
       "      <td>4</td>\n",
       "      <td>Erythro-Early</td>\n",
       "    </tr>\n",
       "    <tr>\n",
       "      <td>5</td>\n",
       "      <td>5</td>\n",
       "      <td>GMP(MPO+ELANE+)</td>\n",
       "    </tr>\n",
       "    <tr>\n",
       "      <td>6</td>\n",
       "      <td>6</td>\n",
       "      <td>Erythro-late</td>\n",
       "    </tr>\n",
       "    <tr>\n",
       "      <td>7</td>\n",
       "      <td>7</td>\n",
       "      <td>Ly(DNTT+)</td>\n",
       "    </tr>\n",
       "    <tr>\n",
       "      <td>8</td>\n",
       "      <td>8</td>\n",
       "      <td>HSPC</td>\n",
       "    </tr>\n",
       "    <tr>\n",
       "      <td>9</td>\n",
       "      <td>9</td>\n",
       "      <td>GMP(MPO+)</td>\n",
       "    </tr>\n",
       "    <tr>\n",
       "      <td>10</td>\n",
       "      <td>10</td>\n",
       "      <td>Erythro-Branch2-(FAM178B MT high)</td>\n",
       "    </tr>\n",
       "    <tr>\n",
       "      <td>11</td>\n",
       "      <td>11</td>\n",
       "      <td>Erythro-Middle</td>\n",
       "    </tr>\n",
       "    <tr>\n",
       "      <td>12</td>\n",
       "      <td>12</td>\n",
       "      <td>GMP(MPO+ELANE+)</td>\n",
       "    </tr>\n",
       "    <tr>\n",
       "      <td>13</td>\n",
       "      <td>13</td>\n",
       "      <td>GMP(MPO+ELANE+)</td>\n",
       "    </tr>\n",
       "    <tr>\n",
       "      <td>14</td>\n",
       "      <td>14</td>\n",
       "      <td>Meg(PLEK+)</td>\n",
       "    </tr>\n",
       "    <tr>\n",
       "      <td>15</td>\n",
       "      <td>15</td>\n",
       "      <td>GMP(MPO+IRF8+)</td>\n",
       "    </tr>\n",
       "    <tr>\n",
       "      <td>16</td>\n",
       "      <td>16</td>\n",
       "      <td>GMP(MPO+ELANE+)</td>\n",
       "    </tr>\n",
       "    <tr>\n",
       "      <td>17</td>\n",
       "      <td>17</td>\n",
       "      <td>BEMP/Basophil(CLC+)</td>\n",
       "    </tr>\n",
       "    <tr>\n",
       "      <td>18</td>\n",
       "      <td>18</td>\n",
       "      <td>Erythro-Late</td>\n",
       "    </tr>\n",
       "    <tr>\n",
       "      <td>19</td>\n",
       "      <td>19</td>\n",
       "      <td>GMP(MPO+)</td>\n",
       "    </tr>\n",
       "    <tr>\n",
       "      <td>20</td>\n",
       "      <td>20</td>\n",
       "      <td>GMP(MPO+ELANE+)</td>\n",
       "    </tr>\n",
       "  </tbody>\n",
       "</table>\n",
       "</div>"
      ],
      "text/plain": [
       "   Cell cluster                    FACs annotation\n",
       "0             0                                CMP\n",
       "1             1  Erythro-Branch2(FAM178B, MT high)\n",
       "2             2                      Erythro-Early\n",
       "3             3                          MEP(late)\n",
       "4             4                      Erythro-Early\n",
       "5             5                    GMP(MPO+ELANE+)\n",
       "6             6                       Erythro-late\n",
       "7             7                          Ly(DNTT+)\n",
       "8             8                               HSPC\n",
       "9             9                          GMP(MPO+)\n",
       "10           10  Erythro-Branch2-(FAM178B MT high)\n",
       "11           11                     Erythro-Middle\n",
       "12           12                    GMP(MPO+ELANE+)\n",
       "13           13                    GMP(MPO+ELANE+)\n",
       "14           14                         Meg(PLEK+)\n",
       "15           15                     GMP(MPO+IRF8+)\n",
       "16           16                    GMP(MPO+ELANE+)\n",
       "17           17                BEMP/Basophil(CLC+)\n",
       "18           18                       Erythro-Late\n",
       "19           19                          GMP(MPO+)\n",
       "20           20                    GMP(MPO+ELANE+)"
      ]
     },
     "execution_count": 13,
     "metadata": {},
     "output_type": "execute_result"
    }
   ],
   "source": [
    "meta"
   ]
  },
  {
   "cell_type": "code",
   "execution_count": 14,
   "metadata": {},
   "outputs": [],
   "source": [
    "#meta = c2c.io.load_metadata(metadata_file=files['metadata'],\n",
    "                            #rnaseq_data=rnaseq_data,\n",
    "                            #sample_col=meta_setup['sample_col'],\n",
    "                            #format='auto')"
   ]
  },
  {
   "cell_type": "markdown",
   "metadata": {},
   "source": [
    "**PPI network**"
   ]
  },
  {
   "cell_type": "code",
   "execution_count": 15,
   "metadata": {},
   "outputs": [
    {
     "name": "stdout",
     "output_type": "stream",
     "text": [
      "Opening PPI datasets from /home/hsher/ppi/receptor-ligand-bader.tsv\n"
     ]
    },
    {
     "name": "stderr",
     "output_type": "stream",
     "text": [
      "/home/hsher/miniconda3/envs/cell2cell/lib/python3.7/site-packages/IPython/core/interactiveshell.py:3326: DtypeWarning: Columns (4,5,6,7,8,9,11,12,16) have mixed types. Specify dtype option on import or set low_memory=False.\n",
      "  exec(code_obj, self.user_global_ns, self.user_ns)\n"
     ]
    },
    {
     "name": "stdout",
     "output_type": "stream",
     "text": [
      "/home/hsher/ppi/receptor-ligand-bader.tsv was correctly loaded\n",
      "Removing bidirectionality of PPI network\n",
      "Simplying PPI network\n"
     ]
    }
   ],
   "source": [
    "ppi_data = c2c.io.load_ppi(ppi_file=files['ppi'],\n",
    "                           interaction_columns=ppi_setup['protein_cols'],\n",
    "                           rnaseq_genes=list(rnaseq_data.index),\n",
    "                           format='auto')"
   ]
  },
  {
   "cell_type": "code",
   "execution_count": 16,
   "metadata": {},
   "outputs": [],
   "source": [
    "ppi_data = ppi_data.drop_duplicates().reset_index(drop=True)"
   ]
  },
  {
   "cell_type": "markdown",
   "metadata": {},
   "source": [
    "# Run Analysis"
   ]
  },
  {
   "cell_type": "markdown",
   "metadata": {},
   "source": [
    "**Make PPI network bidirectional for bidirectional CCI**"
   ]
  },
  {
   "cell_type": "code",
   "execution_count": 17,
   "metadata": {},
   "outputs": [
    {
     "name": "stdout",
     "output_type": "stream",
     "text": [
      "PPI data has 27633 PPIs\n"
     ]
    }
   ],
   "source": [
    "print('PPI data has {} PPIs'.format(len(ppi_data)))"
   ]
  },
  {
   "cell_type": "code",
   "execution_count": 18,
   "metadata": {},
   "outputs": [
    {
     "name": "stdout",
     "output_type": "stream",
     "text": [
      "Making bidirectional PPI for CCI.\n",
      "Removing duplicates in bidirectional PPI network.\n"
     ]
    }
   ],
   "source": [
    "bi_ppi_data = c2c.preprocessing.bidirectional_ppi_for_cci(ppi_data=ppi_data)"
   ]
  },
  {
   "cell_type": "code",
   "execution_count": 19,
   "metadata": {},
   "outputs": [
    {
     "name": "stdout",
     "output_type": "stream",
     "text": [
      "Bidirectional PPI data has 54561 PPIs\n"
     ]
    }
   ],
   "source": [
    "print('Bidirectional PPI data has {} PPIs'.format(len(bi_ppi_data)))"
   ]
  },
  {
   "cell_type": "markdown",
   "metadata": {},
   "source": [
    "**Create InteractionSpace**"
   ]
  },
  {
   "cell_type": "code",
   "execution_count": 20,
   "metadata": {},
   "outputs": [],
   "source": [
    "interaction_space = c2c.core.InteractionSpace(rnaseq_data=rnaseq_data,\n",
    "                                              ppi_data=bi_ppi_data,\n",
    "                                              gene_cutoffs=cutoff_setup,\n",
    "                                              score_type=analysis_setup['score_type'],\n",
    "                                              score_metric=analysis_setup['score_metric'],\n",
    "                                              verbose=False)"
   ]
  },
  {
   "cell_type": "markdown",
   "metadata": {},
   "source": [
    "**Compute CCI values for each random subsampling round**"
   ]
  },
  {
   "cell_type": "code",
   "execution_count": 21,
   "metadata": {},
   "outputs": [
    {
     "name": "stdout",
     "output_type": "stream",
     "text": [
      "Running analysis\n"
     ]
    }
   ],
   "source": [
    "print('Running analysis')\n",
    "interaction_space.compute_pairwise_interactions(verbose=False)"
   ]
  },
  {
   "cell_type": "markdown",
   "metadata": {},
   "source": [
    "**Cells to exclude**"
   ]
  },
  {
   "cell_type": "code",
   "execution_count": 22,
   "metadata": {},
   "outputs": [],
   "source": [
    "excluded_cells = []"
   ]
  },
  {
   "cell_type": "markdown",
   "metadata": {},
   "source": [
    "# Clustering"
   ]
  },
  {
   "cell_type": "markdown",
   "metadata": {},
   "source": [
    "### Hierarchical Clustering on Average CCI matrices"
   ]
  },
  {
   "cell_type": "code",
   "execution_count": 23,
   "metadata": {},
   "outputs": [
    {
     "data": {
      "text/plain": [
       "<seaborn.matrix.ClusterGrid at 0x7f41a9c45910>"
      ]
     },
     "execution_count": 23,
     "metadata": {},
     "output_type": "execute_result"
    },
    {
     "data": {
      "image/png": "[encoded data removed]",
      "text/plain": [
       "<Figure size 720x720 with 5 Axes>"
      ]
     },
     "metadata": {
      "needs_background": "light"
     },
     "output_type": "display_data"
    }
   ],
   "source": [
    "c2c.utils.clustermap_cci(interaction_space,\n",
    "                         method='ward',\n",
    "                         excluded_cells=excluded_cells,\n",
    "                         metadata=meta,\n",
    "                         sample_col=meta_setup['sample_col'],\n",
    "                         group_col=meta_setup['group_col'],\n",
    "                         title='Bone marrow stem cell interaction',\n",
    "                         #filename=files['output_folder'] + 'CCI-Imm-Bin-Clustering-{}.png'.format(selected_patient),\n",
    "                         **{'cmap' : 'Blues',\n",
    "                            #'annot' : True,\n",
    "                            #'figsize' : (15,15)\n",
    "                           }\n",
    "                         )"
   ]
  },
  {
   "cell_type": "markdown",
   "metadata": {},
   "source": [
    "# PCoA"
   ]
  },
  {
   "cell_type": "code",
   "execution_count": 24,
   "metadata": {},
   "outputs": [
    {
     "data": {
      "image/png": "[encoded data removed]",
      "text/plain": [
       "<Figure size 432x360 with 1 Axes>"
      ]
     },
     "metadata": {
      "needs_background": "light"
     },
     "output_type": "display_data"
    }
   ],
   "source": [
    "pcoa = c2c.utils.pcoa_biplot(interaction_space,\n",
    "                             excluded_cells=excluded_cells,\n",
    "                             metadata=meta,\n",
    "                             sample_col=meta_setup['sample_col'],\n",
    "                             group_col=meta_setup['group_col'],\n",
    "                             title='Patient ',\n",
    "                             #filename=files['output_folder'] + 'CCI-Imm-Bin-PCoA-{}.png'.format(selected_patient)\n",
    "                             )"
   ]
  },
  {
   "cell_type": "markdown",
   "metadata": {},
   "source": [
    "# Interaction Matrix"
   ]
  },
  {
   "cell_type": "code",
   "execution_count": 25,
   "metadata": {},
   "outputs": [],
   "source": [
    "interaction_matrix, std_interaction_matrix = c2c.analysis.get_ppi_score_for_cell_pairs(cells=list(interaction_space.distance_matrix.columns),\n",
    "                                                                                       subsampled_interactions=[interaction_space.interaction_elements],\n",
    "                                                                                       ppi_data=bi_ppi_data,\n",
    "                                                                                       ref_ppi_data=ppi_data\n",
    "                                                                                       )"
   ]
  },
  {
   "cell_type": "code",
   "execution_count": 26,
   "metadata": {},
   "outputs": [],
   "source": [
    "interaction_matrix.to_pickle('/home/hsher/c2c_output/pellin_lin_90')"
   ]
  },
  {
   "cell_type": "code",
   "execution_count": null,
   "metadata": {},
   "outputs": [],
   "source": []
  }
 ],
 "metadata": {
  "kernelspec": {
   "display_name": "Python 3",
   "language": "python",
   "name": "python3"
  },
  "language_info": {
   "codemirror_mode": {
    "name": "ipython",
    "version": 3
   },
   "file_extension": ".py",
   "mimetype": "text/x-python",
   "name": "python",
   "nbconvert_exporter": "python",
   "pygments_lexer": "ipython3",
   "version": "3.7.4"
  }
 },
 "nbformat": 4,
 "nbformat_minor": 4
}
