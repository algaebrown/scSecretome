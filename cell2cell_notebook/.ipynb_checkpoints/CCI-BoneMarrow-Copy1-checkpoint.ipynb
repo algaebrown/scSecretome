{
 "cells": [
  {
   "cell_type": "code",
   "execution_count": 1,
   "metadata": {},
   "outputs": [],
   "source": [
    "import cell2cell as c2c\n",
    "import matplotlib.pyplot as plt\n",
    "import numpy as np\n",
    "import pandas as pd\n",
    "import seaborn as sns\n",
    "import matplotlib as mlp\n",
    "from mpl_toolkits.mplot3d import Axes3D\n",
    "\n",
    "import skbio, scipy\n",
    "\n",
    "%matplotlib inline"
   ]
  },
  {
   "cell_type": "markdown",
   "metadata": {},
   "source": [
    "# Analysis Setup\n",
    "\n",
    "Here, all inputs and parameters needed for the analysis are defined"
   ]
  },
  {
   "cell_type": "markdown",
   "metadata": {},
   "source": [
    "**Location of files**"
   ]
  },
  {
   "cell_type": "markdown",
   "metadata": {},
   "source": [
    "**<font color=red>When using other organism, it is important to have the same gene IDs or names in all the data sources. *That is, rnaseq, ppi and go_annotations*.</font>**"
   ]
  },
  {
   "cell_type": "code",
   "execution_count": 2,
   "metadata": {},
   "outputs": [],
   "source": [
    "files = dict()\n",
    "files['rnaseq'] = '/home/hsher/c2c_input/pellin_bbknn_leiden_matrix.xlsx'\n",
    "files['metadata'] = '/home/hsher/c2c_input/pellin_bbknn_leiden_metadata.xlsx'\n",
    "files['ppi'] = '/home/hsher/ppi/receptor-ligand-bader.tsv'\n",
    "files['output_folder'] = '/home/hsher/c2c_output/'"
   ]
  },
  {
   "cell_type": "markdown",
   "metadata": {},
   "source": [
    "**RNA-seq data manipulation**\n",
    "\n",
    "- <font color=\"green\">'gene_col'</font> is the name of the column containing the list or names of genes in the dataset.\n",
    "- <font color=\"green\">'drop_nangenes'</font> is a boolean decision to remove those genes with NaN values.\n",
    "- <font color=\"green\">'log_transform'</font> is a boolean decision to log-transform the dataset."
   ]
  },
  {
   "cell_type": "code",
   "execution_count": 3,
   "metadata": {},
   "outputs": [],
   "source": [
    "rnaseq_setup = dict()\n",
    "rnaseq_setup['gene_col'] = None\n",
    "rnaseq_setup['drop_nangenes'] = True\n",
    "rnaseq_setup['log_transform'] = False"
   ]
  },
  {
   "cell_type": "markdown",
   "metadata": {},
   "source": [
    "**Metadata columns**\n",
    "\n",
    "- <font color=\"green\">'sample_col'</font> is the name of the column containing the sample or cell names in RNA-seq data (equivalent to the columns in rnaseq_data.\n",
    "- <font color=\"green\">'group_col'</font> is the name of the column containing the labels for the respective samples or cells in order to group/color them in downstream analyses."
   ]
  },
  {
   "cell_type": "code",
   "execution_count": 4,
   "metadata": {},
   "outputs": [],
   "source": [
    "meta_setup = dict()\n",
    "meta_setup['sample_col'] = 'Cell cluster'\n",
    "meta_setup['group_col'] = 'FACs annotation'"
   ]
  },
  {
   "cell_type": "markdown",
   "metadata": {},
   "source": [
    "**Columns for PPI network**\n",
    "\n",
    "- <font color=\"green\">'protein_cols'</font> is a list containing the names of the first and second interactors."
   ]
  },
  {
   "cell_type": "code",
   "execution_count": 5,
   "metadata": {},
   "outputs": [],
   "source": [
    "ppi_setup = dict()\n",
    "ppi_setup['protein_cols'] = ['AliasA', 'AliasB']"
   ]
  },
  {
   "cell_type": "markdown",
   "metadata": {},
   "source": [
    "**Cutoffs setup for binarizing gene expression**\n",
    "\n",
    "- <font color=\"green\">'type'</font> is the type of cutoff to use. So far, only 'local_percentile' and 'global_percentile' are implemented. Local percentile is used to compute the cutoff locally, gene by gene; while a global percentiles is calculated from the entire dataset.\n",
    "- <font color=\"green\">'parameter'</font> is the corresponding parameter for the type of cutoff. If percentile is used, it should be a value between 0 and 1. E.g. a value of 0.75 represents the 75-th percentile, and the cutoff to binarize the gene expression will be that value."
   ]
  },
  {
   "cell_type": "code",
   "execution_count": 6,
   "metadata": {},
   "outputs": [],
   "source": [
    "cutoff_setup = dict()\n",
    "cutoff_setup['type'] = 'local_percentile'\n",
    "cutoff_setup['parameter'] = 0.75"
   ]
  },
  {
   "cell_type": "markdown",
   "metadata": {},
   "source": [
    "**General Analysis setups**\n",
    "\n",
    "- <font color=\"green\">'score_type'</font> is the type of score to calculate the interaction index for a pair of cells. It could be 'binary' to use 0 or 1 values of gene expression depending on a cutoff value for each one or 'weighted' to use a continue value between 0 and 1 given the maximal expression level of each gene.\n",
    "- <font color=\"green\">'score_metric'</font> is the metric approach to compute the score. Current options are 'bray_curtis' and 'jaccard'."
   ]
  },
  {
   "cell_type": "code",
   "execution_count": 7,
   "metadata": {},
   "outputs": [],
   "source": [
    "analysis_setup = dict()\n",
    "analysis_setup['score_type'] = 'binary'\n",
    "analysis_setup['score_metric'] = 'bray_curtis'"
   ]
  },
  {
   "cell_type": "markdown",
   "metadata": {},
   "source": [
    "# Load Data"
   ]
  },
  {
   "cell_type": "markdown",
   "metadata": {},
   "source": [
    "**RNA-seq**"
   ]
  },
  {
   "cell_type": "code",
   "execution_count": 8,
   "metadata": {},
   "outputs": [
    {
     "name": "stdout",
     "output_type": "stream",
     "text": [
      "Opening RNAseq datasets from /home/hsher/c2c_input/pellin_bbknn_leiden_matrix.xlsx\n",
      "/home/hsher/c2c_input/pellin_bbknn_leiden_matrix.xlsx was correctly loaded\n"
     ]
    }
   ],
   "source": [
    "rnaseq_data_ = c2c.io.load_rnaseq(rnaseq_file=files['rnaseq'],\n",
    "                                  gene_column=rnaseq_setup['gene_col'],\n",
    "                                  drop_nangenes=rnaseq_setup['drop_nangenes'],\n",
    "                                  log_transformation=rnaseq_setup['log_transform'],\n",
    "                                  format='auto')"
   ]
  },
  {
   "cell_type": "code",
   "execution_count": 9,
   "metadata": {},
   "outputs": [
    {
     "data": {
      "text/html": [
       "<div>\n",
       "<style scoped>\n",
       "    .dataframe tbody tr th:only-of-type {\n",
       "        vertical-align: middle;\n",
       "    }\n",
       "\n",
       "    .dataframe tbody tr th {\n",
       "        vertical-align: top;\n",
       "    }\n",
       "\n",
       "    .dataframe thead th {\n",
       "        text-align: right;\n",
       "    }\n",
       "</style>\n",
       "<table border=\"1\" class=\"dataframe\">\n",
       "  <thead>\n",
       "    <tr style=\"text-align: right;\">\n",
       "      <th></th>\n",
       "      <th>8</th>\n",
       "      <th>5</th>\n",
       "      <th>0</th>\n",
       "      <th>3</th>\n",
       "      <th>6</th>\n",
       "      <th>4</th>\n",
       "      <th>12</th>\n",
       "      <th>7</th>\n",
       "      <th>1</th>\n",
       "      <th>11</th>\n",
       "      <th>14</th>\n",
       "      <th>15</th>\n",
       "      <th>10</th>\n",
       "      <th>13</th>\n",
       "      <th>2</th>\n",
       "      <th>9</th>\n",
       "    </tr>\n",
       "    <tr>\n",
       "      <th>Gene Symbol</th>\n",
       "      <th></th>\n",
       "      <th></th>\n",
       "      <th></th>\n",
       "      <th></th>\n",
       "      <th></th>\n",
       "      <th></th>\n",
       "      <th></th>\n",
       "      <th></th>\n",
       "      <th></th>\n",
       "      <th></th>\n",
       "      <th></th>\n",
       "      <th></th>\n",
       "      <th></th>\n",
       "      <th></th>\n",
       "      <th></th>\n",
       "      <th></th>\n",
       "    </tr>\n",
       "  </thead>\n",
       "  <tbody>\n",
       "    <tr>\n",
       "      <td>A1BG</td>\n",
       "      <td>0.003949</td>\n",
       "      <td>0.001844</td>\n",
       "      <td>0.003015</td>\n",
       "      <td>0.001871</td>\n",
       "      <td>0.003011</td>\n",
       "      <td>0.003407</td>\n",
       "      <td>0.004446</td>\n",
       "      <td>0.001732</td>\n",
       "      <td>0.001310</td>\n",
       "      <td>0.000332</td>\n",
       "      <td>0.003591</td>\n",
       "      <td>0.006751</td>\n",
       "      <td>0.003004</td>\n",
       "      <td>0.000000</td>\n",
       "      <td>0.004344</td>\n",
       "      <td>0.005425</td>\n",
       "    </tr>\n",
       "    <tr>\n",
       "      <td>A1CF</td>\n",
       "      <td>0.002262</td>\n",
       "      <td>0.001519</td>\n",
       "      <td>0.000655</td>\n",
       "      <td>0.002165</td>\n",
       "      <td>0.000424</td>\n",
       "      <td>0.002424</td>\n",
       "      <td>0.001579</td>\n",
       "      <td>0.000547</td>\n",
       "      <td>0.001321</td>\n",
       "      <td>0.001163</td>\n",
       "      <td>0.000000</td>\n",
       "      <td>0.000000</td>\n",
       "      <td>0.003076</td>\n",
       "      <td>0.001527</td>\n",
       "      <td>0.000707</td>\n",
       "      <td>0.000000</td>\n",
       "    </tr>\n",
       "    <tr>\n",
       "      <td>A2M</td>\n",
       "      <td>0.000287</td>\n",
       "      <td>0.000406</td>\n",
       "      <td>0.000371</td>\n",
       "      <td>0.000967</td>\n",
       "      <td>0.000415</td>\n",
       "      <td>0.001053</td>\n",
       "      <td>0.006910</td>\n",
       "      <td>0.000000</td>\n",
       "      <td>0.000166</td>\n",
       "      <td>0.001060</td>\n",
       "      <td>0.000000</td>\n",
       "      <td>0.003956</td>\n",
       "      <td>0.001597</td>\n",
       "      <td>0.000000</td>\n",
       "      <td>0.000643</td>\n",
       "      <td>0.000000</td>\n",
       "    </tr>\n",
       "    <tr>\n",
       "      <td>A2ML1</td>\n",
       "      <td>0.003890</td>\n",
       "      <td>0.001383</td>\n",
       "      <td>0.001050</td>\n",
       "      <td>0.003705</td>\n",
       "      <td>0.003761</td>\n",
       "      <td>0.001359</td>\n",
       "      <td>0.011598</td>\n",
       "      <td>0.000000</td>\n",
       "      <td>0.000364</td>\n",
       "      <td>0.002310</td>\n",
       "      <td>0.004882</td>\n",
       "      <td>0.004822</td>\n",
       "      <td>0.005401</td>\n",
       "      <td>0.000000</td>\n",
       "      <td>0.001432</td>\n",
       "      <td>0.002976</td>\n",
       "    </tr>\n",
       "    <tr>\n",
       "      <td>A4GALT</td>\n",
       "      <td>0.001066</td>\n",
       "      <td>0.000962</td>\n",
       "      <td>0.000000</td>\n",
       "      <td>0.000000</td>\n",
       "      <td>0.000000</td>\n",
       "      <td>0.000688</td>\n",
       "      <td>0.001740</td>\n",
       "      <td>0.000971</td>\n",
       "      <td>0.049611</td>\n",
       "      <td>0.054937</td>\n",
       "      <td>0.000000</td>\n",
       "      <td>0.000000</td>\n",
       "      <td>0.000000</td>\n",
       "      <td>0.000000</td>\n",
       "      <td>0.029129</td>\n",
       "      <td>0.006177</td>\n",
       "    </tr>\n",
       "  </tbody>\n",
       "</table>\n",
       "</div>"
      ],
      "text/plain": [
       "                    8         5         0         3         6         4  \\\n",
       "Gene Symbol                                                               \n",
       "A1BG         0.003949  0.001844  0.003015  0.001871  0.003011  0.003407   \n",
       "A1CF         0.002262  0.001519  0.000655  0.002165  0.000424  0.002424   \n",
       "A2M          0.000287  0.000406  0.000371  0.000967  0.000415  0.001053   \n",
       "A2ML1        0.003890  0.001383  0.001050  0.003705  0.003761  0.001359   \n",
       "A4GALT       0.001066  0.000962  0.000000  0.000000  0.000000  0.000688   \n",
       "\n",
       "                   12         7         1        11        14        15  \\\n",
       "Gene Symbol                                                               \n",
       "A1BG         0.004446  0.001732  0.001310  0.000332  0.003591  0.006751   \n",
       "A1CF         0.001579  0.000547  0.001321  0.001163  0.000000  0.000000   \n",
       "A2M          0.006910  0.000000  0.000166  0.001060  0.000000  0.003956   \n",
       "A2ML1        0.011598  0.000000  0.000364  0.002310  0.004882  0.004822   \n",
       "A4GALT       0.001740  0.000971  0.049611  0.054937  0.000000  0.000000   \n",
       "\n",
       "                   10        13         2         9  \n",
       "Gene Symbol                                          \n",
       "A1BG         0.003004  0.000000  0.004344  0.005425  \n",
       "A1CF         0.003076  0.001527  0.000707  0.000000  \n",
       "A2M          0.001597  0.000000  0.000643  0.000000  \n",
       "A2ML1        0.005401  0.000000  0.001432  0.002976  \n",
       "A4GALT       0.000000  0.000000  0.029129  0.006177  "
      ]
     },
     "execution_count": 9,
     "metadata": {},
     "output_type": "execute_result"
    }
   ],
   "source": [
    "rnaseq_data_.head()"
   ]
  },
  {
   "cell_type": "code",
   "execution_count": 10,
   "metadata": {},
   "outputs": [],
   "source": [
    "rnaseq_data_.index.name = 'gene_id'"
   ]
  },
  {
   "cell_type": "code",
   "execution_count": 11,
   "metadata": {},
   "outputs": [],
   "source": [
    "rnaseq_data = rnaseq_data_"
   ]
  },
  {
   "cell_type": "markdown",
   "metadata": {},
   "source": [
    "**Metadata for cell types**"
   ]
  },
  {
   "cell_type": "code",
   "execution_count": 12,
   "metadata": {},
   "outputs": [
    {
     "name": "stdout",
     "output_type": "stream",
     "text": [
      "/home/hsher/c2c_input/pellin_bbknn_leiden_metadata.xlsx was correctly loaded\n"
     ]
    }
   ],
   "source": [
    "meta = c2c.io.load_table(files['metadata'], format='auto')\n",
    "\n",
    "#rnaseq_cols = list(rnaseq_data.columns)\n",
    "\n",
    "#meta = meta.set_index('Unnamed: 0').loc[rnaseq_cols].reset_index()\n",
    "#meta.index = [str(i) for i, c in enumerate(rnaseq_data.columns)]\n",
    "meta.columns = ['Cell cluster', 'FACs annotation']\n",
    "meta['Cell cluster'] = meta['Cell cluster'].astype(str)"
   ]
  },
  {
   "cell_type": "code",
   "execution_count": 13,
   "metadata": {},
   "outputs": [],
   "source": [
    "#add human annotation to meta\n",
    "human_classifier = {'0': 'early CMP', \n",
    "        '1': 'Early Erythro(HBB)',\n",
    "        '2': 'Late Erythro(HBB)',\n",
    "        '3': 'HSC',\n",
    "        '4': 'Late Granulo (MPO)',\n",
    "        '8': 'Early Granulo (MPO)',\n",
    "        '5': 'Dendritic(IRF8)',\n",
    "        '6': 'MEP',\n",
    "        '7': 'Early Erythro(HBB)',\n",
    "        '9': 'Erythro',\n",
    "        '10': 'Ly-PreBNK(DNTT)',\n",
    "        '11': 'Late Erythro',\n",
    "        '12': 'PreBNK',\n",
    "        '13': 'N(ELANE)',\n",
    "        '14': 'BEMP(CLC)',\n",
    "        '15': 'GMP'\n",
    "        \n",
    "       }"
   ]
  },
  {
   "cell_type": "code",
   "execution_count": 14,
   "metadata": {},
   "outputs": [],
   "source": [
    "new = meta.set_index('Cell cluster')\n",
    "new.loc[human_classifier.keys(), 'human_annot'] = list(human_classifier.values())\n",
    "meta = new.reset_index()"
   ]
  },
  {
   "cell_type": "code",
   "execution_count": 15,
   "metadata": {},
   "outputs": [
    {
     "data": {
      "text/html": [
       "<div>\n",
       "<style scoped>\n",
       "    .dataframe tbody tr th:only-of-type {\n",
       "        vertical-align: middle;\n",
       "    }\n",
       "\n",
       "    .dataframe tbody tr th {\n",
       "        vertical-align: top;\n",
       "    }\n",
       "\n",
       "    .dataframe thead th {\n",
       "        text-align: right;\n",
       "    }\n",
       "</style>\n",
       "<table border=\"1\" class=\"dataframe\">\n",
       "  <thead>\n",
       "    <tr style=\"text-align: right;\">\n",
       "      <th></th>\n",
       "      <th>Cell cluster</th>\n",
       "      <th>FACs annotation</th>\n",
       "      <th>human_annot</th>\n",
       "    </tr>\n",
       "  </thead>\n",
       "  <tbody>\n",
       "    <tr>\n",
       "      <td>0</td>\n",
       "      <td>8</td>\n",
       "      <td>Lin- CD34+ CD164+-Lin- CD34low CD164high-[1.09...</td>\n",
       "      <td>Early Granulo (MPO)</td>\n",
       "    </tr>\n",
       "    <tr>\n",
       "      <td>1</td>\n",
       "      <td>5</td>\n",
       "      <td>Lin- CD34+ CD164+-CMP-[3.19926199]</td>\n",
       "      <td>Dendritic(IRF8)</td>\n",
       "    </tr>\n",
       "    <tr>\n",
       "      <td>2</td>\n",
       "      <td>0</td>\n",
       "      <td>Lin- CD34+ CD164+-CMP-[5.83878505]</td>\n",
       "      <td>early CMP</td>\n",
       "    </tr>\n",
       "    <tr>\n",
       "      <td>3</td>\n",
       "      <td>3</td>\n",
       "      <td>HSC-CMP-[1.37584803]</td>\n",
       "      <td>HSC</td>\n",
       "    </tr>\n",
       "    <tr>\n",
       "      <td>4</td>\n",
       "      <td>6</td>\n",
       "      <td>MEP-Lin- CD34+ CD164+-[2.03013699]</td>\n",
       "      <td>MEP</td>\n",
       "    </tr>\n",
       "    <tr>\n",
       "      <td>5</td>\n",
       "      <td>4</td>\n",
       "      <td>Lin- CD34low CD164high-Lin- CD34+ CD164+-[2.03...</td>\n",
       "      <td>Late Granulo (MPO)</td>\n",
       "    </tr>\n",
       "    <tr>\n",
       "      <td>6</td>\n",
       "      <td>12</td>\n",
       "      <td>PreBNK-GMP-[2.37735849]</td>\n",
       "      <td>PreBNK</td>\n",
       "    </tr>\n",
       "    <tr>\n",
       "      <td>7</td>\n",
       "      <td>7</td>\n",
       "      <td>Lin- CD34+ CD164+-Lin- CD34low CD164high-[1.32...</td>\n",
       "      <td>Early Erythro(HBB)</td>\n",
       "    </tr>\n",
       "    <tr>\n",
       "      <td>8</td>\n",
       "      <td>1</td>\n",
       "      <td>Lin- CD34low CD164high-Lin- CD34- CD164high-[2...</td>\n",
       "      <td>Early Erythro(HBB)</td>\n",
       "    </tr>\n",
       "    <tr>\n",
       "      <td>9</td>\n",
       "      <td>11</td>\n",
       "      <td>Lin- CD34low CD164high-Lin- CD34- CD164high-[2...</td>\n",
       "      <td>Late Erythro</td>\n",
       "    </tr>\n",
       "    <tr>\n",
       "      <td>10</td>\n",
       "      <td>14</td>\n",
       "      <td>Lin- CD34low CD164high-Lin- CD34+ CD164+-[1.96...</td>\n",
       "      <td>BEMP(CLC)</td>\n",
       "    </tr>\n",
       "    <tr>\n",
       "      <td>11</td>\n",
       "      <td>15</td>\n",
       "      <td>GMP-Lin- CD34+ CD164+-[1.16352201]</td>\n",
       "      <td>GMP</td>\n",
       "    </tr>\n",
       "    <tr>\n",
       "      <td>12</td>\n",
       "      <td>10</td>\n",
       "      <td>Lin- CD34+ CD164+-PreBNK-[1.17763158]</td>\n",
       "      <td>Ly-PreBNK(DNTT)</td>\n",
       "    </tr>\n",
       "    <tr>\n",
       "      <td>13</td>\n",
       "      <td>13</td>\n",
       "      <td>Lin- CD34- CD164high-Lin- CD34- CD164low-[1.01...</td>\n",
       "      <td>N(ELANE)</td>\n",
       "    </tr>\n",
       "    <tr>\n",
       "      <td>14</td>\n",
       "      <td>2</td>\n",
       "      <td>Lin- CD34- CD164high-Lin- CD34- CD164low-[38.2...</td>\n",
       "      <td>Late Erythro(HBB)</td>\n",
       "    </tr>\n",
       "    <tr>\n",
       "      <td>15</td>\n",
       "      <td>9</td>\n",
       "      <td>Lin- CD34- CD164high-Lin- CD34low CD164high-[1...</td>\n",
       "      <td>Erythro</td>\n",
       "    </tr>\n",
       "  </tbody>\n",
       "</table>\n",
       "</div>"
      ],
      "text/plain": [
       "   Cell cluster                                    FACs annotation  \\\n",
       "0             8  Lin- CD34+ CD164+-Lin- CD34low CD164high-[1.09...   \n",
       "1             5                 Lin- CD34+ CD164+-CMP-[3.19926199]   \n",
       "2             0                 Lin- CD34+ CD164+-CMP-[5.83878505]   \n",
       "3             3                               HSC-CMP-[1.37584803]   \n",
       "4             6                 MEP-Lin- CD34+ CD164+-[2.03013699]   \n",
       "5             4  Lin- CD34low CD164high-Lin- CD34+ CD164+-[2.03...   \n",
       "6            12                            PreBNK-GMP-[2.37735849]   \n",
       "7             7  Lin- CD34+ CD164+-Lin- CD34low CD164high-[1.32...   \n",
       "8             1  Lin- CD34low CD164high-Lin- CD34- CD164high-[2...   \n",
       "9            11  Lin- CD34low CD164high-Lin- CD34- CD164high-[2...   \n",
       "10           14  Lin- CD34low CD164high-Lin- CD34+ CD164+-[1.96...   \n",
       "11           15                 GMP-Lin- CD34+ CD164+-[1.16352201]   \n",
       "12           10              Lin- CD34+ CD164+-PreBNK-[1.17763158]   \n",
       "13           13  Lin- CD34- CD164high-Lin- CD34- CD164low-[1.01...   \n",
       "14            2  Lin- CD34- CD164high-Lin- CD34- CD164low-[38.2...   \n",
       "15            9  Lin- CD34- CD164high-Lin- CD34low CD164high-[1...   \n",
       "\n",
       "            human_annot  \n",
       "0   Early Granulo (MPO)  \n",
       "1       Dendritic(IRF8)  \n",
       "2             early CMP  \n",
       "3                   HSC  \n",
       "4                   MEP  \n",
       "5    Late Granulo (MPO)  \n",
       "6                PreBNK  \n",
       "7    Early Erythro(HBB)  \n",
       "8    Early Erythro(HBB)  \n",
       "9          Late Erythro  \n",
       "10            BEMP(CLC)  \n",
       "11                  GMP  \n",
       "12      Ly-PreBNK(DNTT)  \n",
       "13             N(ELANE)  \n",
       "14    Late Erythro(HBB)  \n",
       "15              Erythro  "
      ]
     },
     "execution_count": 15,
     "metadata": {},
     "output_type": "execute_result"
    }
   ],
   "source": [
    "meta"
   ]
  },
  {
   "cell_type": "code",
   "execution_count": 16,
   "metadata": {},
   "outputs": [],
   "source": [
    "#meta = c2c.io.load_metadata(metadata_file=files['metadata'],\n",
    "                            #rnaseq_data=rnaseq_data,\n",
    "                            #sample_col=meta_setup['sample_col'],\n",
    "                            #format='auto')"
   ]
  },
  {
   "cell_type": "markdown",
   "metadata": {},
   "source": [
    "**PPI network**"
   ]
  },
  {
   "cell_type": "code",
   "execution_count": 17,
   "metadata": {},
   "outputs": [
    {
     "name": "stdout",
     "output_type": "stream",
     "text": [
      "Opening PPI datasets from /home/hsher/ppi/receptor-ligand-bader.tsv\n"
     ]
    },
    {
     "name": "stderr",
     "output_type": "stream",
     "text": [
      "/home/hsher/miniconda3/envs/cell2cell/lib/python3.7/site-packages/IPython/core/interactiveshell.py:3326: DtypeWarning: Columns (4,5,6,7,8,9,11,12,16) have mixed types. Specify dtype option on import or set low_memory=False.\n",
      "  exec(code_obj, self.user_global_ns, self.user_ns)\n"
     ]
    },
    {
     "name": "stdout",
     "output_type": "stream",
     "text": [
      "/home/hsher/ppi/receptor-ligand-bader.tsv was correctly loaded\n",
      "Removing bidirectionality of PPI network\n",
      "Simplying PPI network\n"
     ]
    }
   ],
   "source": [
    "ppi_data = c2c.io.load_ppi(ppi_file=files['ppi'],\n",
    "                           interaction_columns=ppi_setup['protein_cols'],\n",
    "                           rnaseq_genes=list(rnaseq_data.index),\n",
    "                           format='auto')"
   ]
  },
  {
   "cell_type": "code",
   "execution_count": 18,
   "metadata": {},
   "outputs": [],
   "source": [
    "ppi_data = ppi_data.drop_duplicates().reset_index(drop=True)"
   ]
  },
  {
   "cell_type": "markdown",
   "metadata": {},
   "source": [
    "# Run Analysis"
   ]
  },
  {
   "cell_type": "markdown",
   "metadata": {},
   "source": [
    "**Make PPI network bidirectional for bidirectional CCI**"
   ]
  },
  {
   "cell_type": "code",
   "execution_count": 19,
   "metadata": {},
   "outputs": [
    {
     "name": "stdout",
     "output_type": "stream",
     "text": [
      "PPI data has 29196 PPIs\n"
     ]
    }
   ],
   "source": [
    "print('PPI data has {} PPIs'.format(len(ppi_data)))"
   ]
  },
  {
   "cell_type": "code",
   "execution_count": 20,
   "metadata": {},
   "outputs": [
    {
     "name": "stdout",
     "output_type": "stream",
     "text": [
      "Making bidirectional PPI for CCI.\n",
      "Removing duplicates in bidirectional PPI network.\n"
     ]
    }
   ],
   "source": [
    "bi_ppi_data = c2c.preprocessing.bidirectional_ppi_for_cci(ppi_data=ppi_data)"
   ]
  },
  {
   "cell_type": "code",
   "execution_count": 21,
   "metadata": {},
   "outputs": [
    {
     "name": "stdout",
     "output_type": "stream",
     "text": [
      "Bidirectional PPI data has 57664 PPIs\n"
     ]
    }
   ],
   "source": [
    "print('Bidirectional PPI data has {} PPIs'.format(len(bi_ppi_data)))"
   ]
  },
  {
   "cell_type": "markdown",
   "metadata": {},
   "source": [
    "**Create InteractionSpace**"
   ]
  },
  {
   "cell_type": "code",
   "execution_count": 22,
   "metadata": {},
   "outputs": [],
   "source": [
    "interaction_space = c2c.core.InteractionSpace(rnaseq_data=rnaseq_data,\n",
    "                                              ppi_data=bi_ppi_data,\n",
    "                                              gene_cutoffs=cutoff_setup,\n",
    "                                              score_type=analysis_setup['score_type'],\n",
    "                                              score_metric=analysis_setup['score_metric'],\n",
    "                                              verbose=False)"
   ]
  },
  {
   "cell_type": "markdown",
   "metadata": {},
   "source": [
    "**Compute CCI values for each random subsampling round**"
   ]
  },
  {
   "cell_type": "code",
   "execution_count": 23,
   "metadata": {},
   "outputs": [
    {
     "name": "stdout",
     "output_type": "stream",
     "text": [
      "Running analysis\n",
      "Computing pairwise interactions\n",
      "Computing interaction between 5 and 12\n",
      "Computing interaction between 11 and 8\n",
      "Computing interaction between 13 and 7\n",
      "Computing interaction between 2 and 11\n",
      "Computing interaction between 6 and 11\n",
      "Computing interaction between 14 and 13\n",
      "Computing interaction between 2 and 2\n",
      "Computing interaction between 4 and 15\n",
      "Computing interaction between 5 and 6\n",
      "Computing interaction between 9 and 10\n",
      "Computing interaction between 8 and 2\n",
      "Computing interaction between 6 and 0\n",
      "Computing interaction between 3 and 5\n",
      "Computing interaction between 11 and 14\n",
      "Computing interaction between 11 and 10\n",
      "Computing interaction between 0 and 8\n",
      "Computing interaction between 7 and 0\n",
      "Computing interaction between 14 and 0\n",
      "Computing interaction between 15 and 12\n",
      "Computing interaction between 9 and 8\n",
      "Computing interaction between 15 and 0\n",
      "Computing interaction between 10 and 6\n",
      "Computing interaction between 5 and 1\n",
      "Computing interaction between 9 and 14\n",
      "Computing interaction between 9 and 6\n",
      "Computing interaction between 13 and 14\n",
      "Computing interaction between 2 and 8\n",
      "Computing interaction between 5 and 3\n",
      "Computing interaction between 7 and 5\n",
      "Computing interaction between 2 and 15\n",
      "Computing interaction between 3 and 0\n",
      "Computing interaction between 5 and 0\n",
      "Computing interaction between 3 and 9\n",
      "Computing interaction between 15 and 1\n",
      "Computing interaction between 8 and 9\n",
      "Computing interaction between 13 and 2\n",
      "Computing interaction between 0 and 15\n",
      "Computing interaction between 7 and 10\n",
      "Computing interaction between 12 and 6\n",
      "Computing interaction between 14 and 3\n",
      "Computing interaction between 15 and 11\n",
      "Computing interaction between 10 and 4\n",
      "Computing interaction between 9 and 4\n",
      "Computing interaction between 6 and 3\n",
      "Computing interaction between 1 and 3\n",
      "Computing interaction between 0 and 4\n",
      "Computing interaction between 10 and 15\n",
      "Computing interaction between 14 and 12\n",
      "Computing interaction between 8 and 7\n",
      "Computing interaction between 3 and 6\n",
      "Computing interaction between 7 and 9\n",
      "Computing interaction between 13 and 13\n",
      "Computing interaction between 6 and 8\n",
      "Computing interaction between 9 and 0\n",
      "Computing interaction between 3 and 10\n",
      "Computing interaction between 12 and 14\n",
      "Computing interaction between 12 and 9\n",
      "Computing interaction between 4 and 8\n",
      "Computing interaction between 10 and 12\n",
      "Computing interaction between 9 and 12\n",
      "Computing interaction between 7 and 6\n",
      "Computing interaction between 5 and 7\n",
      "Computing interaction between 0 and 12\n",
      "Computing interaction between 13 and 12\n",
      "Computing interaction between 9 and 5\n",
      "Computing interaction between 13 and 6\n",
      "Computing interaction between 6 and 7\n",
      "Computing interaction between 4 and 14\n",
      "Computing interaction between 15 and 7\n",
      "Computing interaction between 7 and 4\n",
      "Computing interaction between 1 and 1\n",
      "Computing interaction between 14 and 11\n",
      "Computing interaction between 0 and 13\n",
      "Computing interaction between 10 and 10\n",
      "Computing interaction between 6 and 15\n",
      "Computing interaction between 14 and 14\n",
      "Computing interaction between 10 and 2\n",
      "Computing interaction between 1 and 11\n",
      "Computing interaction between 13 and 9\n",
      "Computing interaction between 0 and 10\n",
      "Computing interaction between 7 and 15\n",
      "Computing interaction between 14 and 15\n",
      "Computing interaction between 8 and 10\n",
      "Computing interaction between 6 and 13\n",
      "Computing interaction between 0 and 6\n",
      "Computing interaction between 15 and 15\n",
      "Computing interaction between 10 and 9\n",
      "Computing interaction between 2 and 1\n",
      "Computing interaction between 3 and 4\n",
      "Computing interaction between 1 and 8\n",
      "Computing interaction between 2 and 0\n",
      "Computing interaction between 7 and 12\n",
      "Computing interaction between 5 and 2\n",
      "Computing interaction between 3 and 15\n",
      "Computing interaction between 2 and 6\n",
      "Computing interaction between 13 and 5\n",
      "Computing interaction between 6 and 2\n",
      "Computing interaction between 14 and 1\n",
      "Computing interaction between 6 and 10\n",
      "Computing interaction between 8 and 12\n",
      "Computing interaction between 1 and 14\n",
      "Computing interaction between 15 and 2\n",
      "Computing interaction between 3 and 12\n",
      "Computing interaction between 12 and 0\n",
      "Computing interaction between 4 and 1\n",
      "Computing interaction between 10 and 7\n",
      "Computing interaction between 13 and 10\n",
      "Computing interaction between 9 and 15\n",
      "Computing interaction between 7 and 2\n",
      "Computing interaction between 9 and 7\n",
      "Computing interaction between 13 and 4\n",
      "Computing interaction between 0 and 7\n",
      "Computing interaction between 0 and 5\n",
      "Computing interaction between 8 and 4\n",
      "Computing interaction between 9 and 3\n",
      "Computing interaction between 6 and 12\n",
      "Computing interaction between 12 and 1\n",
      "Computing interaction between 1 and 0\n",
      "Computing interaction between 8 and 5\n",
      "Computing interaction between 3 and 2\n",
      "Computing interaction between 12 and 11\n",
      "Computing interaction between 15 and 6\n",
      "Computing interaction between 6 and 5\n",
      "Computing interaction between 5 and 4\n",
      "Computing interaction between 14 and 5\n",
      "Computing interaction between 5 and 9\n",
      "Computing interaction between 1 and 5\n",
      "Computing interaction between 6 and 4\n",
      "Computing interaction between 3 and 3\n",
      "Computing interaction between 11 and 11\n",
      "Computing interaction between 8 and 13\n",
      "Computing interaction between 5 and 8\n",
      "Computing interaction between 11 and 12\n",
      "Computing interaction between 15 and 14\n",
      "Computing interaction between 15 and 4\n",
      "Computing interaction between 7 and 7\n",
      "Computing interaction between 6 and 9\n",
      "Computing interaction between 15 and 3\n",
      "Computing interaction between 10 and 13\n",
      "Computing interaction between 0 and 2\n",
      "Computing interaction between 13 and 15\n",
      "Computing interaction between 2 and 14\n",
      "Computing interaction between 9 and 1\n",
      "Computing interaction between 5 and 5\n",
      "Computing interaction between 7 and 3\n",
      "Computing interaction between 9 and 13\n",
      "Computing interaction between 13 and 11\n",
      "Computing interaction between 9 and 2\n",
      "Computing interaction between 9 and 9\n",
      "Computing interaction between 12 and 7\n",
      "Computing interaction between 8 and 6\n",
      "Computing interaction between 3 and 7\n",
      "Computing interaction between 11 and 1\n",
      "Computing interaction between 15 and 5\n",
      "Computing interaction between 4 and 12\n",
      "Computing interaction between 11 and 2\n",
      "Computing interaction between 1 and 6\n",
      "Computing interaction between 5 and 10\n",
      "Computing interaction between 12 and 8\n",
      "Computing interaction between 12 and 15\n",
      "Computing interaction between 8 and 8\n",
      "Computing interaction between 12 and 13\n",
      "Computing interaction between 8 and 15\n",
      "Computing interaction between 15 and 10\n",
      "Computing interaction between 7 and 1\n",
      "Computing interaction between 7 and 13\n",
      "Computing interaction between 1 and 4\n",
      "Computing interaction between 0 and 14\n",
      "Computing interaction between 4 and 2\n",
      "Computing interaction between 4 and 11\n",
      "Computing interaction between 10 and 3\n",
      "Computing interaction between 1 and 15\n",
      "Computing interaction between 2 and 4\n",
      "Computing interaction between 12 and 2\n",
      "Computing interaction between 11 and 5\n",
      "Computing interaction between 3 and 1\n",
      "Computing interaction between 3 and 13\n",
      "Computing interaction between 11 and 7\n",
      "Computing interaction between 14 and 8\n",
      "Computing interaction between 13 and 8\n",
      "Computing interaction between 1 and 12\n",
      "Computing interaction between 5 and 15\n",
      "Computing interaction between 14 and 4\n",
      "Computing interaction between 6 and 6\n",
      "Computing interaction between 2 and 12\n",
      "Computing interaction between 0 and 9\n",
      "Computing interaction between 5 and 11\n",
      "Computing interaction between 0 and 0\n",
      "Computing interaction between 11 and 0\n",
      "Computing interaction between 12 and 12\n",
      "Computing interaction between 6 and 14\n",
      "Computing interaction between 4 and 7\n",
      "Computing interaction between 1 and 10\n",
      "Computing interaction between 10 and 1\n",
      "Computing interaction between 2 and 9\n",
      "Computing interaction between 1 and 2\n",
      "Computing interaction between 14 and 9\n",
      "Computing interaction between 4 and 3\n",
      "Computing interaction between 10 and 11\n",
      "Computing interaction between 0 and 1\n",
      "Computing interaction between 8 and 1\n",
      "Computing interaction between 1 and 9\n",
      "Computing interaction between 11 and 6\n",
      "Computing interaction between 2 and 10\n",
      "Computing interaction between 9 and 11\n",
      "Computing interaction between 12 and 4\n",
      "Computing interaction between 11 and 13\n",
      "Computing interaction between 4 and 0\n",
      "Computing interaction between 10 and 8\n",
      "Computing interaction between 12 and 3\n",
      "Computing interaction between 2 and 5\n",
      "Computing interaction between 8 and 0\n",
      "Computing interaction between 14 and 10\n",
      "Computing interaction between 4 and 5\n",
      "Computing interaction between 6 and 1\n",
      "Computing interaction between 3 and 11\n",
      "Computing interaction between 11 and 3\n",
      "Computing interaction between 0 and 3\n",
      "Computing interaction between 14 and 2\n",
      "Computing interaction between 10 and 14\n",
      "Computing interaction between 8 and 11\n",
      "Computing interaction between 2 and 13\n",
      "Computing interaction between 12 and 5\n",
      "Computing interaction between 15 and 9\n",
      "Computing interaction between 4 and 10\n",
      "Computing interaction between 4 and 13\n",
      "Computing interaction between 1 and 7\n",
      "Computing interaction between 3 and 8\n",
      "Computing interaction between 13 and 1\n",
      "Computing interaction between 2 and 3\n",
      "Computing interaction between 7 and 11\n",
      "Computing interaction between 5 and 14\n",
      "Computing interaction between 15 and 8\n",
      "Computing interaction between 13 and 3\n",
      "Computing interaction between 4 and 9\n",
      "Computing interaction between 2 and 7\n",
      "Computing interaction between 13 and 0\n",
      "Computing interaction between 15 and 13\n",
      "Computing interaction between 3 and 14\n",
      "Computing interaction between 12 and 10\n",
      "Computing interaction between 11 and 4\n",
      "Computing interaction between 10 and 0\n",
      "Computing interaction between 7 and 8\n",
      "Computing interaction between 11 and 15\n",
      "Computing interaction between 14 and 6\n",
      "Computing interaction between 4 and 6\n",
      "Computing interaction between 5 and 13\n",
      "Computing interaction between 14 and 7\n",
      "Computing interaction between 10 and 5\n",
      "Computing interaction between 7 and 14\n",
      "Computing interaction between 0 and 11\n",
      "Computing interaction between 8 and 3\n",
      "Computing interaction between 11 and 9\n",
      "Computing interaction between 4 and 4\n",
      "Computing interaction between 1 and 13\n",
      "Computing interaction between 8 and 14\n"
     ]
    }
   ],
   "source": [
    "print('Running analysis')\n",
    "interaction_space.compute_pairwise_interactions(verbose=True)"
   ]
  },
  {
   "cell_type": "markdown",
   "metadata": {},
   "source": [
    "**Cells to exclude**"
   ]
  },
  {
   "cell_type": "code",
   "execution_count": 24,
   "metadata": {},
   "outputs": [],
   "source": [
    "excluded_cells = []"
   ]
  },
  {
   "cell_type": "markdown",
   "metadata": {},
   "source": [
    "# Clustering"
   ]
  },
  {
   "cell_type": "markdown",
   "metadata": {},
   "source": [
    "### Hierarchical Clustering on Average CCI matrices"
   ]
  },
  {
   "cell_type": "code",
   "execution_count": 25,
   "metadata": {},
   "outputs": [
    {
     "data": {
      "text/plain": [
       "<cell2cell.core.interaction_space.InteractionSpace at 0x7efefe0ab050>"
      ]
     },
     "execution_count": 25,
     "metadata": {},
     "output_type": "execute_result"
    }
   ],
   "source": [
    "interaction_space"
   ]
  },
  {
   "cell_type": "code",
   "execution_count": 26,
   "metadata": {},
   "outputs": [
    {
     "data": {
      "image/png": "[encoded data removed]",
      "text/plain": [
       "<Figure size 720x720 with 5 Axes>"
      ]
     },
     "metadata": {
      "needs_background": "light"
     },
     "output_type": "display_data"
    }
   ],
   "source": [
    "g = c2c.utils.clustermap_cci(interaction_space,\n",
    "                         method='ward',\n",
    "                         excluded_cells=excluded_cells,\n",
    "                         metadata=meta,\n",
    "                         sample_col=meta_setup['sample_col'],\n",
    "                         group_col=meta_setup['group_col'],\n",
    "                         title='Bone marrow stem cell interaction',\n",
    "                         #filename=files['output_folder'] + 'CCI-Imm-Bin-Clustering-{}.png'.format(selected_patient),\n",
    "                         **{'cmap' : 'Blues',\n",
    "                            #'annot' : True,\n",
    "                            #'figsize' : (15,15)\n",
    "                           }\n",
    "                         )"
   ]
  },
  {
   "cell_type": "code",
   "execution_count": 27,
   "metadata": {},
   "outputs": [],
   "source": [
    "ax = g.ax_heatmap"
   ]
  },
  {
   "cell_type": "code",
   "execution_count": 28,
   "metadata": {},
   "outputs": [
    {
     "data": {
      "text/plain": [
       "Text(0.5, 3.1999999999999993, 'cells')"
      ]
     },
     "execution_count": 28,
     "metadata": {},
     "output_type": "execute_result"
    }
   ],
   "source": [
    "ax.set_xlabel('cells')"
   ]
  },
  {
   "cell_type": "markdown",
   "metadata": {},
   "source": [
    "# PCoA"
   ]
  },
  {
   "cell_type": "code",
   "execution_count": null,
   "metadata": {},
   "outputs": [],
   "source": []
  },
  {
   "cell_type": "code",
   "execution_count": null,
   "metadata": {},
   "outputs": [],
   "source": []
  },
  {
   "cell_type": "code",
   "execution_count": 29,
   "metadata": {},
   "outputs": [
    {
     "data": {
      "image/png": "[encoded data removed]",
      "text/plain": [
       "<Figure size 432x360 with 1 Axes>"
      ]
     },
     "metadata": {
      "needs_background": "light"
     },
     "output_type": "display_data"
    }
   ],
   "source": [
    "pcoa = c2c.utils.pcoa_biplot(interaction_space,\n",
    "                             excluded_cells=excluded_cells,\n",
    "                             metadata=meta,\n",
    "                             sample_col=meta_setup['sample_col'],\n",
    "                             group_col='human_annot',\n",
    "                             title='Patient ',\n",
    "                             #filename=files['output_folder'] + 'CCI-Imm-Bin-PCoA-{}.png'.format(selected_patient)\n",
    "                             )"
   ]
  },
  {
   "cell_type": "markdown",
   "metadata": {},
   "source": [
    "# Interaction Matrix"
   ]
  },
  {
   "cell_type": "code",
   "execution_count": 30,
   "metadata": {},
   "outputs": [
    {
     "data": {
      "text/html": [
       "<div>\n",
       "<style scoped>\n",
       "    .dataframe tbody tr th:only-of-type {\n",
       "        vertical-align: middle;\n",
       "    }\n",
       "\n",
       "    .dataframe tbody tr th {\n",
       "        vertical-align: top;\n",
       "    }\n",
       "\n",
       "    .dataframe thead th {\n",
       "        text-align: right;\n",
       "    }\n",
       "</style>\n",
       "<table border=\"1\" class=\"dataframe\">\n",
       "  <thead>\n",
       "    <tr style=\"text-align: right;\">\n",
       "      <th></th>\n",
       "      <th>A</th>\n",
       "      <th>B</th>\n",
       "      <th>score</th>\n",
       "    </tr>\n",
       "  </thead>\n",
       "  <tbody>\n",
       "    <tr>\n",
       "      <td>0</td>\n",
       "      <td>KCNIP1</td>\n",
       "      <td>KCNIP2</td>\n",
       "      <td>1.0</td>\n",
       "    </tr>\n",
       "    <tr>\n",
       "      <td>1</td>\n",
       "      <td>FBLN5</td>\n",
       "      <td>SERPINE1</td>\n",
       "      <td>1.0</td>\n",
       "    </tr>\n",
       "    <tr>\n",
       "      <td>2</td>\n",
       "      <td>ELN</td>\n",
       "      <td>LOX</td>\n",
       "      <td>1.0</td>\n",
       "    </tr>\n",
       "    <tr>\n",
       "      <td>3</td>\n",
       "      <td>ELN</td>\n",
       "      <td>FBN2</td>\n",
       "      <td>1.0</td>\n",
       "    </tr>\n",
       "    <tr>\n",
       "      <td>4</td>\n",
       "      <td>COL4A3</td>\n",
       "      <td>ITGA3</td>\n",
       "      <td>1.0</td>\n",
       "    </tr>\n",
       "    <tr>\n",
       "      <td>...</td>\n",
       "      <td>...</td>\n",
       "      <td>...</td>\n",
       "      <td>...</td>\n",
       "    </tr>\n",
       "    <tr>\n",
       "      <td>57659</td>\n",
       "      <td>ZP4</td>\n",
       "      <td>ZP1</td>\n",
       "      <td>1.0</td>\n",
       "    </tr>\n",
       "    <tr>\n",
       "      <td>57660</td>\n",
       "      <td>ZP3</td>\n",
       "      <td>ZP2</td>\n",
       "      <td>1.0</td>\n",
       "    </tr>\n",
       "    <tr>\n",
       "      <td>57661</td>\n",
       "      <td>ZP4</td>\n",
       "      <td>ZP2</td>\n",
       "      <td>1.0</td>\n",
       "    </tr>\n",
       "    <tr>\n",
       "      <td>57662</td>\n",
       "      <td>ZPBP</td>\n",
       "      <td>ZP2</td>\n",
       "      <td>1.0</td>\n",
       "    </tr>\n",
       "    <tr>\n",
       "      <td>57663</td>\n",
       "      <td>ZP4</td>\n",
       "      <td>ZP3</td>\n",
       "      <td>1.0</td>\n",
       "    </tr>\n",
       "  </tbody>\n",
       "</table>\n",
       "<p>57664 rows × 3 columns</p>\n",
       "</div>"
      ],
      "text/plain": [
       "            A         B  score\n",
       "0      KCNIP1    KCNIP2    1.0\n",
       "1       FBLN5  SERPINE1    1.0\n",
       "2         ELN       LOX    1.0\n",
       "3         ELN      FBN2    1.0\n",
       "4      COL4A3     ITGA3    1.0\n",
       "...       ...       ...    ...\n",
       "57659     ZP4       ZP1    1.0\n",
       "57660     ZP3       ZP2    1.0\n",
       "57661     ZP4       ZP2    1.0\n",
       "57662    ZPBP       ZP2    1.0\n",
       "57663     ZP4       ZP3    1.0\n",
       "\n",
       "[57664 rows x 3 columns]"
      ]
     },
     "execution_count": 30,
     "metadata": {},
     "output_type": "execute_result"
    }
   ],
   "source": [
    "bi_ppi_data"
   ]
  },
  {
   "cell_type": "code",
   "execution_count": 31,
   "metadata": {},
   "outputs": [],
   "source": [
    "interaction_matrix, std_interaction_matrix = c2c.analysis.get_ppi_score_for_cell_pairs(cells=list(interaction_space.distance_matrix.columns),\n",
    "                                                                                       subsampled_interactions=[interaction_space.interaction_elements],\n",
    "                                                                                       ppi_data=bi_ppi_data,\n",
    "                                                                                       ref_ppi_data=ppi_data\n",
    "                                                                                       )"
   ]
  },
  {
   "cell_type": "code",
   "execution_count": 29,
   "metadata": {},
   "outputs": [],
   "source": [
    "interaction_matrix.to_pickle('/home/hsher/c2c_output/pellin_combined_leiden')"
   ]
  },
  {
   "cell_type": "code",
   "execution_count": null,
   "metadata": {},
   "outputs": [],
   "source": [
    "interaction_clustermap = c2c.utils.plotting.clustermap_cell_pairs_vs_ppi(interaction_matrix,\n",
    "                                                                         metric='jaccard',\n",
    "                                                                         metadata=meta,\n",
    "                                                                         sample_col=meta_setup['sample_col'],\n",
    "                                                                         group_col=meta_setup['group_col'],\n",
    "                                                                         excluded_cells=excluded_cells,\n",
    "                                                                         title='Patient ',\n",
    "                                                                         #filename=files['output_folder'] + 'CCI-Imm-Bin-InHeatmap-Bin-{}.png'.format(selected_patient),\n",
    "                                                                         **{'figsize' : (20,40)}\n",
    "                                                                        )\n",
    "\n",
    "\n",
    "# Save Table\n",
    "#interaction_clustermap.data2d.to_csv(files['output_folder'] + 'CCI-Imm-Bin-InHeatmap-Bin-{}.csv'.format(selected_patient))"
   ]
  },
  {
   "cell_type": "code",
   "execution_count": null,
   "metadata": {},
   "outputs": [],
   "source": []
  }
 ],
 "metadata": {
  "kernelspec": {
   "display_name": "Python 3",
   "language": "python",
   "name": "python3"
  },
  "language_info": {
   "codemirror_mode": {
    "name": "ipython",
    "version": 3
   },
   "file_extension": ".py",
   "mimetype": "text/x-python",
   "name": "python",
   "nbconvert_exporter": "python",
   "pygments_lexer": "ipython3",
   "version": "3.6.9"
  }
 },
 "nbformat": 4,
 "nbformat_minor": 4
}
