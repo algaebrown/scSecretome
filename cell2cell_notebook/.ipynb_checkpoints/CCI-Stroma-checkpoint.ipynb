{
 "cells": [
  {
   "cell_type": "code",
   "execution_count": 1,
   "metadata": {},
   "outputs": [],
   "source": [
    "import cell2cell as c2c\n",
    "import matplotlib.pyplot as plt\n",
    "import numpy as np\n",
    "import pandas as pd\n",
    "import seaborn as sns\n",
    "import matplotlib as mlp\n",
    "from mpl_toolkits.mplot3d import Axes3D\n",
    "\n",
    "import skbio, scipy\n",
    "\n",
    "%matplotlib inline"
   ]
  },
  {
   "cell_type": "markdown",
   "metadata": {},
   "source": [
    "# Analysis Setup\n",
    "\n",
    "Here, all inputs and parameters needed for the analysis are defined"
   ]
  },
  {
   "cell_type": "markdown",
   "metadata": {},
   "source": [
    "**Location of files**"
   ]
  },
  {
   "cell_type": "markdown",
   "metadata": {},
   "source": [
    "**<font color=red>When using other organism, it is important to have the same gene IDs or names in all the data sources. *That is, rnaseq, ppi and go_annotations*.</font>**"
   ]
  },
  {
   "cell_type": "code",
   "execution_count": 2,
   "metadata": {},
   "outputs": [],
   "source": [
    "files = dict()\n",
    "files['rnaseq'] = '/home/hsher/c2c_input/wolock_mapped_matrix.xlsx'\n",
    "files['metadata'] = '/home/hsher/c2c_input/wolock_metadata_1122.xlsx'\n",
    "files['ppi'] = '/home/hsher/ppi/receptor-ligand-bader.tsv'\n",
    "files['output_folder'] = '/home/hsher/c2c_output/'"
   ]
  },
  {
   "cell_type": "markdown",
   "metadata": {},
   "source": [
    "**RNA-seq data manipulation**\n",
    "\n",
    "- <font color=\"green\">'gene_col'</font> is the name of the column containing the list or names of genes in the dataset.\n",
    "- <font color=\"green\">'drop_nangenes'</font> is a boolean decision to remove those genes with NaN values.\n",
    "- <font color=\"green\">'log_transform'</font> is a boolean decision to log-transform the dataset."
   ]
  },
  {
   "cell_type": "code",
   "execution_count": 3,
   "metadata": {},
   "outputs": [],
   "source": [
    "rnaseq_setup = dict()\n",
    "rnaseq_setup['gene_col'] = None\n",
    "rnaseq_setup['drop_nangenes'] = True\n",
    "rnaseq_setup['log_transform'] = False"
   ]
  },
  {
   "cell_type": "markdown",
   "metadata": {},
   "source": [
    "**Metadata columns**\n",
    "\n",
    "- <font color=\"green\">'sample_col'</font> is the name of the column containing the sample or cell names in RNA-seq data (equivalent to the columns in rnaseq_data.\n",
    "- <font color=\"green\">'group_col'</font> is the name of the column containing the labels for the respective samples or cells in order to group/color them in downstream analyses."
   ]
  },
  {
   "cell_type": "code",
   "execution_count": 4,
   "metadata": {},
   "outputs": [],
   "source": [
    "meta_setup = dict()\n",
    "meta_setup['sample_col'] = 'Cell cluster'\n",
    "meta_setup['group_col'] = 'FACs annotation'"
   ]
  },
  {
   "cell_type": "markdown",
   "metadata": {},
   "source": [
    "**Columns for PPI network**\n",
    "\n",
    "- <font color=\"green\">'protein_cols'</font> is a list containing the names of the first and second interactors."
   ]
  },
  {
   "cell_type": "code",
   "execution_count": 5,
   "metadata": {},
   "outputs": [],
   "source": [
    "ppi_setup = dict()\n",
    "ppi_setup['protein_cols'] = ['AliasA', 'AliasB']"
   ]
  },
  {
   "cell_type": "markdown",
   "metadata": {},
   "source": [
    "**Cutoffs setup for binarizing gene expression**\n",
    "\n",
    "- <font color=\"green\">'type'</font> is the type of cutoff to use. So far, only 'local_percentile' and 'global_percentile' are implemented. Local percentile is used to compute the cutoff locally, gene by gene; while a global percentiles is calculated from the entire dataset.\n",
    "- <font color=\"green\">'parameter'</font> is the corresponding parameter for the type of cutoff. If percentile is used, it should be a value between 0 and 1. E.g. a value of 0.75 represents the 75-th percentile, and the cutoff to binarize the gene expression will be that value."
   ]
  },
  {
   "cell_type": "code",
   "execution_count": 6,
   "metadata": {},
   "outputs": [],
   "source": [
    "cutoff_setup = dict()\n",
    "cutoff_setup['type'] = 'local_percentile'\n",
    "cutoff_setup['parameter'] = 0.75"
   ]
  },
  {
   "cell_type": "markdown",
   "metadata": {},
   "source": [
    "**General Analysis setups**\n",
    "\n",
    "- <font color=\"green\">'score_type'</font> is the type of score to calculate the interaction index for a pair of cells. It could be 'binary' to use 0 or 1 values of gene expression depending on a cutoff value for each one or 'weighted' to use a continue value between 0 and 1 given the maximal expression level of each gene.\n",
    "- <font color=\"green\">'score_metric'</font> is the metric approach to compute the score. Current options are 'bray_curtis' and 'jaccard'."
   ]
  },
  {
   "cell_type": "code",
   "execution_count": 7,
   "metadata": {},
   "outputs": [],
   "source": [
    "analysis_setup = dict()\n",
    "analysis_setup['score_type'] = 'binary'\n",
    "analysis_setup['score_metric'] = 'bray_curtis'"
   ]
  },
  {
   "cell_type": "markdown",
   "metadata": {},
   "source": [
    "# Load Data"
   ]
  },
  {
   "cell_type": "markdown",
   "metadata": {},
   "source": [
    "**RNA-seq**"
   ]
  },
  {
   "cell_type": "code",
   "execution_count": 8,
   "metadata": {},
   "outputs": [
    {
     "name": "stdout",
     "output_type": "stream",
     "text": [
      "Opening RNAseq datasets from /home/hsher/c2c_input/wolock_mapped_matrix.xlsx\n",
      "/home/hsher/c2c_input/wolock_mapped_matrix.xlsx was correctly loaded\n"
     ]
    }
   ],
   "source": [
    "rnaseq_data_ = c2c.io.load_rnaseq(rnaseq_file=files['rnaseq'],\n",
    "                                  gene_column=rnaseq_setup['gene_col'],\n",
    "                                  drop_nangenes=rnaseq_setup['drop_nangenes'],\n",
    "                                  log_transformation=rnaseq_setup['log_transform'],\n",
    "                                  format='auto')"
   ]
  },
  {
   "cell_type": "code",
   "execution_count": 9,
   "metadata": {},
   "outputs": [
    {
     "data": {
      "text/plain": [
       "(15974, 23)"
      ]
     },
     "execution_count": 9,
     "metadata": {},
     "output_type": "execute_result"
    }
   ],
   "source": [
    "rnaseq_data_.shape"
   ]
  },
  {
   "cell_type": "code",
   "execution_count": 10,
   "metadata": {},
   "outputs": [],
   "source": [
    "rnaseq_data_.index.name = 'gene_id'"
   ]
  },
  {
   "cell_type": "code",
   "execution_count": 11,
   "metadata": {},
   "outputs": [],
   "source": [
    "rnaseq_data = rnaseq_data_"
   ]
  },
  {
   "cell_type": "markdown",
   "metadata": {},
   "source": [
    "**Metadata for cell types**"
   ]
  },
  {
   "cell_type": "code",
   "execution_count": 12,
   "metadata": {},
   "outputs": [
    {
     "name": "stdout",
     "output_type": "stream",
     "text": [
      "/home/hsher/c2c_input/wolock_metadata_1122.xlsx was correctly loaded\n"
     ]
    }
   ],
   "source": [
    "meta = c2c.io.load_table(files['metadata'], format='auto')\n",
    "\n",
    "#rnaseq_cols = list(rnaseq_data.columns)\n",
    "\n",
    "#meta = meta.set_index('Unnamed: 0').loc[rnaseq_cols].reset_index()\n",
    "#meta.index = [str(i) for i, c in enumerate(rnaseq_data.columns)]\n",
    "meta.columns = ['Cell cluster', 'FACs annotation']\n",
    "meta['Cell cluster'] = meta['Cell cluster'].astype(str)"
   ]
  },
  {
   "cell_type": "code",
   "execution_count": 13,
   "metadata": {},
   "outputs": [
    {
     "data": {
      "text/html": [
       "<div>\n",
       "<style scoped>\n",
       "    .dataframe tbody tr th:only-of-type {\n",
       "        vertical-align: middle;\n",
       "    }\n",
       "\n",
       "    .dataframe tbody tr th {\n",
       "        vertical-align: top;\n",
       "    }\n",
       "\n",
       "    .dataframe thead th {\n",
       "        text-align: right;\n",
       "    }\n",
       "</style>\n",
       "<table border=\"1\" class=\"dataframe\">\n",
       "  <thead>\n",
       "    <tr style=\"text-align: right;\">\n",
       "      <th></th>\n",
       "      <th>Cell cluster</th>\n",
       "      <th>FACs annotation</th>\n",
       "    </tr>\n",
       "  </thead>\n",
       "  <tbody>\n",
       "    <tr>\n",
       "      <td>0</td>\n",
       "      <td>0</td>\n",
       "      <td>Adipocyte progenitor</td>\n",
       "    </tr>\n",
       "    <tr>\n",
       "      <td>1</td>\n",
       "      <td>1</td>\n",
       "      <td>MSC</td>\n",
       "    </tr>\n",
       "    <tr>\n",
       "      <td>2</td>\n",
       "      <td>2</td>\n",
       "      <td>Early Erythro</td>\n",
       "    </tr>\n",
       "    <tr>\n",
       "      <td>3</td>\n",
       "      <td>3</td>\n",
       "      <td>MSC-Osteo</td>\n",
       "    </tr>\n",
       "    <tr>\n",
       "      <td>4</td>\n",
       "      <td>4</td>\n",
       "      <td>Pro-osteoblast</td>\n",
       "    </tr>\n",
       "    <tr>\n",
       "      <td>5</td>\n",
       "      <td>5</td>\n",
       "      <td>Lymphocyte</td>\n",
       "    </tr>\n",
       "    <tr>\n",
       "      <td>6</td>\n",
       "      <td>6</td>\n",
       "      <td>Osteoblast progenitor</td>\n",
       "    </tr>\n",
       "    <tr>\n",
       "      <td>7</td>\n",
       "      <td>7</td>\n",
       "      <td>Erythrocyte</td>\n",
       "    </tr>\n",
       "    <tr>\n",
       "      <td>8</td>\n",
       "      <td>8</td>\n",
       "      <td>Early Erythro</td>\n",
       "    </tr>\n",
       "    <tr>\n",
       "      <td>9</td>\n",
       "      <td>9</td>\n",
       "      <td>Pre-adipocyte</td>\n",
       "    </tr>\n",
       "    <tr>\n",
       "      <td>10</td>\n",
       "      <td>10</td>\n",
       "      <td>Endothelial</td>\n",
       "    </tr>\n",
       "    <tr>\n",
       "      <td>11</td>\n",
       "      <td>11</td>\n",
       "      <td>NaN</td>\n",
       "    </tr>\n",
       "    <tr>\n",
       "      <td>12</td>\n",
       "      <td>12</td>\n",
       "      <td>Lymphocyte</td>\n",
       "    </tr>\n",
       "    <tr>\n",
       "      <td>13</td>\n",
       "      <td>13</td>\n",
       "      <td>Osteoblast progenitor</td>\n",
       "    </tr>\n",
       "    <tr>\n",
       "      <td>14</td>\n",
       "      <td>14</td>\n",
       "      <td>NaN</td>\n",
       "    </tr>\n",
       "    <tr>\n",
       "      <td>15</td>\n",
       "      <td>15</td>\n",
       "      <td>NaN</td>\n",
       "    </tr>\n",
       "    <tr>\n",
       "      <td>16</td>\n",
       "      <td>16</td>\n",
       "      <td>NaN</td>\n",
       "    </tr>\n",
       "    <tr>\n",
       "      <td>17</td>\n",
       "      <td>17</td>\n",
       "      <td>NaN</td>\n",
       "    </tr>\n",
       "    <tr>\n",
       "      <td>18</td>\n",
       "      <td>18</td>\n",
       "      <td>Megakaryocyte</td>\n",
       "    </tr>\n",
       "    <tr>\n",
       "      <td>19</td>\n",
       "      <td>19</td>\n",
       "      <td>NaN</td>\n",
       "    </tr>\n",
       "    <tr>\n",
       "      <td>20</td>\n",
       "      <td>20</td>\n",
       "      <td>NaN</td>\n",
       "    </tr>\n",
       "    <tr>\n",
       "      <td>21</td>\n",
       "      <td>21</td>\n",
       "      <td>NaN</td>\n",
       "    </tr>\n",
       "  </tbody>\n",
       "</table>\n",
       "</div>"
      ],
      "text/plain": [
       "   Cell cluster        FACs annotation\n",
       "0             0   Adipocyte progenitor\n",
       "1             1                    MSC\n",
       "2             2          Early Erythro\n",
       "3             3              MSC-Osteo\n",
       "4             4         Pro-osteoblast\n",
       "5             5             Lymphocyte\n",
       "6             6  Osteoblast progenitor\n",
       "7             7            Erythrocyte\n",
       "8             8          Early Erythro\n",
       "9             9          Pre-adipocyte\n",
       "10           10            Endothelial\n",
       "11           11                    NaN\n",
       "12           12             Lymphocyte\n",
       "13           13  Osteoblast progenitor\n",
       "14           14                    NaN\n",
       "15           15                    NaN\n",
       "16           16                    NaN\n",
       "17           17                    NaN\n",
       "18           18          Megakaryocyte\n",
       "19           19                    NaN\n",
       "20           20                    NaN\n",
       "21           21                    NaN"
      ]
     },
     "execution_count": 13,
     "metadata": {},
     "output_type": "execute_result"
    }
   ],
   "source": [
    "meta"
   ]
  },
  {
   "cell_type": "markdown",
   "metadata": {},
   "source": [
    "# subsetting RNA-seq and meta"
   ]
  },
  {
   "cell_type": "code",
   "execution_count": 14,
   "metadata": {},
   "outputs": [],
   "source": [
    "subset_of_interest = [0,1,3,4,6,9,10,13]\n",
    "subset_of_interest = [str(s) for s in subset_of_interest]"
   ]
  },
  {
   "cell_type": "code",
   "execution_count": 15,
   "metadata": {},
   "outputs": [],
   "source": [
    "rnaseq_data_ = rnaseq_data[subset_of_interest]\n",
    "meta = meta.loc[meta['Cell cluster'].isin(subset_of_interest)]"
   ]
  },
  {
   "cell_type": "markdown",
   "metadata": {},
   "source": [
    "**PPI network**"
   ]
  },
  {
   "cell_type": "code",
   "execution_count": 16,
   "metadata": {},
   "outputs": [
    {
     "name": "stdout",
     "output_type": "stream",
     "text": [
      "Opening PPI datasets from /home/hsher/ppi/receptor-ligand-bader.tsv\n"
     ]
    },
    {
     "name": "stderr",
     "output_type": "stream",
     "text": [
      "/home/hsher/miniconda3/envs/cell2cell/lib/python3.7/site-packages/IPython/core/interactiveshell.py:3326: DtypeWarning: Columns (4,5,6,7,8,9,11,12,16) have mixed types. Specify dtype option on import or set low_memory=False.\n",
      "  exec(code_obj, self.user_global_ns, self.user_ns)\n"
     ]
    },
    {
     "name": "stdout",
     "output_type": "stream",
     "text": [
      "/home/hsher/ppi/receptor-ligand-bader.tsv was correctly loaded\n",
      "Removing bidirectionality of PPI network\n",
      "Simplying PPI network\n"
     ]
    }
   ],
   "source": [
    "ppi_data = c2c.io.load_ppi(ppi_file=files['ppi'],\n",
    "                           interaction_columns=ppi_setup['protein_cols'],\n",
    "                           rnaseq_genes=list(rnaseq_data.index),\n",
    "                           format='auto')"
   ]
  },
  {
   "cell_type": "code",
   "execution_count": 17,
   "metadata": {},
   "outputs": [],
   "source": [
    "ppi_data = ppi_data.drop_duplicates().reset_index(drop=True)"
   ]
  },
  {
   "cell_type": "markdown",
   "metadata": {},
   "source": [
    "# Run Analysis"
   ]
  },
  {
   "cell_type": "markdown",
   "metadata": {},
   "source": [
    "**Make PPI network bidirectional for bidirectional CCI**"
   ]
  },
  {
   "cell_type": "code",
   "execution_count": 18,
   "metadata": {},
   "outputs": [
    {
     "name": "stdout",
     "output_type": "stream",
     "text": [
      "PPI data has 25100 PPIs\n"
     ]
    }
   ],
   "source": [
    "print('PPI data has {} PPIs'.format(len(ppi_data)))"
   ]
  },
  {
   "cell_type": "code",
   "execution_count": 19,
   "metadata": {},
   "outputs": [
    {
     "name": "stdout",
     "output_type": "stream",
     "text": [
      "Making bidirectional PPI for CCI.\n",
      "Removing duplicates in bidirectional PPI network.\n"
     ]
    }
   ],
   "source": [
    "bi_ppi_data = c2c.preprocessing.bidirectional_ppi_for_cci(ppi_data=ppi_data)"
   ]
  },
  {
   "cell_type": "code",
   "execution_count": 20,
   "metadata": {},
   "outputs": [
    {
     "name": "stdout",
     "output_type": "stream",
     "text": [
      "Bidirectional PPI data has 49533 PPIs\n"
     ]
    }
   ],
   "source": [
    "print('Bidirectional PPI data has {} PPIs'.format(len(bi_ppi_data)))"
   ]
  },
  {
   "cell_type": "markdown",
   "metadata": {},
   "source": [
    "**Create InteractionSpace**"
   ]
  },
  {
   "cell_type": "code",
   "execution_count": null,
   "metadata": {},
   "outputs": [],
   "source": [
    "interaction_space = c2c.core.InteractionSpace(rnaseq_data=rnaseq_data,\n",
    "                                              ppi_data=bi_ppi_data,\n",
    "                                              gene_cutoffs=cutoff_setup,\n",
    "                                              score_type=analysis_setup['score_type'],\n",
    "                                              score_metric=analysis_setup['score_metric'],\n",
    "                                              verbose=False)"
   ]
  },
  {
   "cell_type": "markdown",
   "metadata": {},
   "source": [
    "**Compute CCI values for each random subsampling round**"
   ]
  },
  {
   "cell_type": "code",
   "execution_count": null,
   "metadata": {},
   "outputs": [],
   "source": [
    "print('Running analysis')\n",
    "interaction_space.compute_pairwise_interactions(verbose=True)"
   ]
  },
  {
   "cell_type": "markdown",
   "metadata": {},
   "source": [
    "**Cells to exclude**"
   ]
  },
  {
   "cell_type": "code",
   "execution_count": null,
   "metadata": {},
   "outputs": [],
   "source": [
    "excluded_cells = []"
   ]
  },
  {
   "cell_type": "markdown",
   "metadata": {},
   "source": [
    "# Clustering"
   ]
  },
  {
   "cell_type": "markdown",
   "metadata": {},
   "source": [
    "### Hierarchical Clustering on Average CCI matrices"
   ]
  },
  {
   "cell_type": "code",
   "execution_count": null,
   "metadata": {},
   "outputs": [],
   "source": [
    "g = c2c.utils.clustermap_cci(interaction_space,\n",
    "                         method='ward',\n",
    "                         excluded_cells=excluded_cells,\n",
    "                         metadata=meta,\n",
    "                         sample_col=meta_setup['sample_col'],\n",
    "                         group_col=meta_setup['group_col'],\n",
    "                         title='Bone marrow Stromal interaction',\n",
    "                         #filename=files['output_folder'] + 'CCI-Imm-Bin-Clustering-{}.png'.format(selected_patient),\n",
    "                         **{'cmap' : 'Blues',\n",
    "                            #'annot' : True,\n",
    "                            #'figsize' : (15,15)\n",
    "                           }\n",
    "                         )"
   ]
  },
  {
   "cell_type": "code",
   "execution_count": null,
   "metadata": {},
   "outputs": [],
   "source": [
    "ax = g.ax_heatmap"
   ]
  },
  {
   "cell_type": "code",
   "execution_count": null,
   "metadata": {},
   "outputs": [],
   "source": [
    "ax.set_xlabel('cells')"
   ]
  },
  {
   "cell_type": "markdown",
   "metadata": {},
   "source": [
    "# PCoA"
   ]
  },
  {
   "cell_type": "code",
   "execution_count": null,
   "metadata": {},
   "outputs": [],
   "source": [
    "pcoa = c2c.utils.pcoa_biplot(interaction_space,\n",
    "                             excluded_cells=excluded_cells,\n",
    "                             metadata=meta,\n",
    "                             sample_col=meta_setup['sample_col'],\n",
    "                             group_col='human_annot',\n",
    "                             title='Patient ',\n",
    "                             #filename=files['output_folder'] + 'CCI-Imm-Bin-PCoA-{}.png'.format(selected_patient)\n",
    "                             )"
   ]
  },
  {
   "cell_type": "markdown",
   "metadata": {},
   "source": [
    "# Interaction Matrix"
   ]
  },
  {
   "cell_type": "code",
   "execution_count": null,
   "metadata": {},
   "outputs": [],
   "source": [
    "interaction_matrix, std_interaction_matrix = c2c.analysis.get_ppi_score_for_cell_pairs(cells=list(interaction_space.distance_matrix.columns),\n",
    "                                                                                       subsampled_interactions=[interaction_space.interaction_elements],\n",
    "                                                                                       ppi_data=bi_ppi_data,\n",
    "                                                                                       ref_ppi_data=ppi_data\n",
    "                                                                                       )"
   ]
  },
  {
   "cell_type": "code",
   "execution_count": null,
   "metadata": {},
   "outputs": [],
   "source": [
    "interaction_matrix.to_pickle('/home/hsher/c2c_output/wolock_75')"
   ]
  }
 ],
 "metadata": {
  "kernelspec": {
   "display_name": "Python 3",
   "language": "python",
   "name": "python3"
  },
  "language_info": {
   "codemirror_mode": {
    "name": "ipython",
    "version": 3
   },
   "file_extension": ".py",
   "mimetype": "text/x-python",
   "name": "python",
   "nbconvert_exporter": "python",
   "pygments_lexer": "ipython3",
   "version": "3.7.4"
  }
 },
 "nbformat": 4,
 "nbformat_minor": 4
}
