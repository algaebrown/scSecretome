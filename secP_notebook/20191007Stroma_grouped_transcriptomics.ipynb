{
 "cells": [
  {
   "cell_type": "markdown",
   "metadata": {},
   "source": [
    "# Aggregate single cell data to run `cell2cell`\n",
    "\n",
    "four sets single cell data:\n",
    "Pellin et.al = human haematopoietic stem cells, FAC sorted CD34 or LIN\n",
    "Wolock = mouse stroma cell\n",
    "Tikhonova = mouse stroma cell, FAC sorted for special population\n",
    "\n",
    "## Steps\n",
    "1. for mouse data set, converting gene symbol to human gene symbol is needed\n",
    "- not exactly one-to-one relationship\n",
    "- lost information\n",
    "\n",
    "2. We've showed it's `sc.combat()` function cannot mitigate batch effect for two sets of stroma data\n",
    "- need to try something more sophisticated\n",
    "\n",
    "3. aggregate cells using louvian cluster, take mean\n",
    "\n",
    "4. generate metadata file"
   ]
  },
  {
   "cell_type": "code",
   "execution_count": 1,
   "metadata": {},
   "outputs": [
    {
     "name": "stdout",
     "output_type": "stream",
     "text": [
      "scanpy==1.4.4.post1 anndata==0.6.22.post1 umap==0.3.10 numpy==1.17.3 scipy==1.3.1 pandas==0.25.2 scikit-learn==0.21.3 statsmodels==0.10.1 python-igraph==0.7.1 louvain==0.6.1\n",
      "scanpy==1.4.4.post1 anndata==0.6.22.post1 umap==0.3.10 numpy==1.17.3 scipy==1.3.1 pandas==0.25.2 scikit-learn==0.21.3 statsmodels==0.10.1 python-igraph==0.7.1 louvain==0.6.1\n"
     ]
    }
   ],
   "source": [
    "# settings\n",
    "import sys\n",
    "sys.path.append('/home/hsher/scSecretome')\n",
    "import numpy as np\n",
    "import pandas as pd\n",
    "import scanpy as sc\n",
    "from scSecretome.annot import *\n",
    "from scSecretome.sc import *\n",
    "import anndata\n",
    "\n",
    "sc.settings.verbosity = 3             # verbosity: errors (0), warnings (1), info (2), hints (3)\n",
    "sc.logging.print_versions()\n",
    "\n",
    "sc.settings.set_figure_params(dpi=80)"
   ]
  },
  {
   "cell_type": "code",
   "execution_count": 2,
   "metadata": {},
   "outputs": [],
   "source": [
    "def exp_aggregate(filename, use_raw = False, aggr_group = 'louvain'):\n",
    "    '''\n",
    "    use_raw when integrated dataset\n",
    "    '''\n",
    "    # read scanpy from processed single cell data\n",
    "    base = '/home/hsher/processed_single_cell_data/'\n",
    "    adata = sc.read(base + filename)\n",
    "    \n",
    "    # why there are duplicated barcode? becuase the cells are processed in parallel and then concatenated!\n",
    "    adata.obs_names_make_unique(join='-')\n",
    "    \n",
    "    # group expression value by louvain cluster\n",
    "    if use_raw:\n",
    "        grouped_expression = pd.DataFrame(columns = adata.raw.var.index, index = adata.obs[aggr_group].unique())\n",
    "    else:   \n",
    "        grouped_expression = pd.DataFrame(columns = adata.var.index, index = adata.obs[aggr_group].unique())\n",
    "    for g in adata.obs.groupby(by = [aggr_group]):\n",
    "        if use_raw:\n",
    "            grouped_expression.loc[g[0]] = np.mean(adata.raw[g[1].index.tolist()].X, axis = 0)\n",
    "        else:\n",
    "\n",
    "            \n",
    "            grouped_expression.loc[g[0]] = np.mean(adata[g[1].index, :].X, axis = 0)\n",
    "    return(grouped_expression, adata.obs)"
   ]
  },
  {
   "cell_type": "code",
   "execution_count": 3,
   "metadata": {},
   "outputs": [],
   "source": [
    "def wrapper(filename, output_fname = 'unspecified', aggr_group = 'louvain', use_raw = False):\n",
    "    d, obs = exp_aggregate(filename, aggr_group = aggr_group, use_raw = use_raw)\n",
    "        \n",
    "    # transpose to fit cell2cell input\n",
    "    d = d.transpose()\n",
    "    d.index.name = 'Gene Symbol'\n",
    "    \n",
    "    # save to folder\n",
    "    base = '/home/hsher/c2c_input/'\n",
    "    if output_fname == 'unspecified':\n",
    "        fname = filename.split('.')[0]\n",
    "    else:\n",
    "        fname = output_fname\n",
    "    d.to_excel(base + fname + '_matrix.xlsx')\n",
    "    "
   ]
  },
  {
   "cell_type": "code",
   "execution_count": 4,
   "metadata": {},
   "outputs": [
    {
     "name": "stderr",
     "output_type": "stream",
     "text": [
      "Variable names are not unique. To make them unique, call `.var_names_make_unique`.\n",
      "Variable names are not unique. To make them unique, call `.var_names_make_unique`.\n",
      "Observation names are not unique. To make them unique, call `.obs_names_make_unique`.\n"
     ]
    }
   ],
   "source": [
    "wrapper('wolock_mapped.h5ad')\n",
    "wrapper('tikhonova_mapped.h5ad')\n",
    "wrapper('pellin_cd34.h5ad')\n",
    "wrapper('pellin_lin.h5ad')"
   ]
  }
 ],
 "metadata": {
  "kernelspec": {
   "display_name": "Python 3",
   "language": "python",
   "name": "python3"
  },
  "language_info": {
   "codemirror_mode": {
    "name": "ipython",
    "version": 3
   },
   "file_extension": ".py",
   "mimetype": "text/x-python",
   "name": "python",
   "nbconvert_exporter": "python",
   "pygments_lexer": "ipython3",
   "version": "3.6.9"
  }
 },
 "nbformat": 4,
 "nbformat_minor": 4
}
