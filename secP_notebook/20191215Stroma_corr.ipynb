{
 "cells": [
  {
   "cell_type": "markdown",
   "metadata": {},
   "source": [
    "# how well does RNAseq data correlated with real secretome\n",
    "We happen to have a data with MSC proteoma"
   ]
  },
  {
   "cell_type": "code",
   "execution_count": 3,
   "metadata": {},
   "outputs": [],
   "source": [
    "import pandas as pd\n",
    "msc_secretome = pd.read_excel('/home/hsher/c2c_input/1-s2.0-S1570963919300263-mmc2.xlsx', header = 1)"
   ]
  },
  {
   "cell_type": "code",
   "execution_count": 4,
   "metadata": {},
   "outputs": [
    {
     "data": {
      "text/html": [
       "<div>\n",
       "<style scoped>\n",
       "    .dataframe tbody tr th:only-of-type {\n",
       "        vertical-align: middle;\n",
       "    }\n",
       "\n",
       "    .dataframe tbody tr th {\n",
       "        vertical-align: top;\n",
       "    }\n",
       "\n",
       "    .dataframe thead th {\n",
       "        text-align: right;\n",
       "    }\n",
       "</style>\n",
       "<table border=\"1\" class=\"dataframe\">\n",
       "  <thead>\n",
       "    <tr style=\"text-align: right;\">\n",
       "      <th></th>\n",
       "      <th>Protein IDs</th>\n",
       "      <th>Gene name</th>\n",
       "      <th>Protein names</th>\n",
       "      <th>Signal peptide</th>\n",
       "      <th>Peptides</th>\n",
       "      <th>Razor + unique peptides</th>\n",
       "      <th>Unique peptides</th>\n",
       "      <th>Sequence coverage [%]</th>\n",
       "      <th>Molecular weight</th>\n",
       "      <th>Q-value</th>\n",
       "      <th>Score</th>\n",
       "      <th>Norm. main Intensity</th>\n",
       "    </tr>\n",
       "  </thead>\n",
       "  <tbody>\n",
       "    <tr>\n",
       "      <td>0</td>\n",
       "      <td>P43235</td>\n",
       "      <td>CTSK</td>\n",
       "      <td>Cathepsin K</td>\n",
       "      <td>x</td>\n",
       "      <td>2</td>\n",
       "      <td>2</td>\n",
       "      <td>2</td>\n",
       "      <td>12.2</td>\n",
       "      <td>36.966</td>\n",
       "      <td>0.000521</td>\n",
       "      <td>4.8803</td>\n",
       "      <td>2102400</td>\n",
       "    </tr>\n",
       "    <tr>\n",
       "      <td>1</td>\n",
       "      <td>P09871</td>\n",
       "      <td>C1S</td>\n",
       "      <td>Complement C1s subcomponent;Complement C1s sub...</td>\n",
       "      <td>x</td>\n",
       "      <td>28</td>\n",
       "      <td>28</td>\n",
       "      <td>28</td>\n",
       "      <td>52.9</td>\n",
       "      <td>76.684</td>\n",
       "      <td>0.000000</td>\n",
       "      <td>323.3100</td>\n",
       "      <td>2483500000</td>\n",
       "    </tr>\n",
       "    <tr>\n",
       "      <td>2</td>\n",
       "      <td>P07602</td>\n",
       "      <td>PSAP</td>\n",
       "      <td>Prosaposin;Saposin-A;Saposin-B-Val;Saposin-B;S...</td>\n",
       "      <td>x</td>\n",
       "      <td>9</td>\n",
       "      <td>9</td>\n",
       "      <td>9</td>\n",
       "      <td>20.4</td>\n",
       "      <td>58.112</td>\n",
       "      <td>0.000000</td>\n",
       "      <td>24.5300</td>\n",
       "      <td>108420000</td>\n",
       "    </tr>\n",
       "    <tr>\n",
       "      <td>3</td>\n",
       "      <td>P21810</td>\n",
       "      <td>BGN</td>\n",
       "      <td>Biglycan</td>\n",
       "      <td>x</td>\n",
       "      <td>18</td>\n",
       "      <td>17</td>\n",
       "      <td>17</td>\n",
       "      <td>55.2</td>\n",
       "      <td>41.654</td>\n",
       "      <td>0.000000</td>\n",
       "      <td>323.3100</td>\n",
       "      <td>9277000000</td>\n",
       "    </tr>\n",
       "    <tr>\n",
       "      <td>4</td>\n",
       "      <td>P07585</td>\n",
       "      <td>DCN</td>\n",
       "      <td>Decorin</td>\n",
       "      <td>x</td>\n",
       "      <td>19</td>\n",
       "      <td>19</td>\n",
       "      <td>18</td>\n",
       "      <td>56.0</td>\n",
       "      <td>39.746</td>\n",
       "      <td>0.000000</td>\n",
       "      <td>323.3100</td>\n",
       "      <td>10697000000</td>\n",
       "    </tr>\n",
       "  </tbody>\n",
       "</table>\n",
       "</div>"
      ],
      "text/plain": [
       "  Protein IDs Gene name                                      Protein names  \\\n",
       "0      P43235      CTSK                                        Cathepsin K   \n",
       "1      P09871       C1S  Complement C1s subcomponent;Complement C1s sub...   \n",
       "2      P07602      PSAP  Prosaposin;Saposin-A;Saposin-B-Val;Saposin-B;S...   \n",
       "3      P21810       BGN                                           Biglycan   \n",
       "4      P07585       DCN                                            Decorin   \n",
       "\n",
       "  Signal peptide  Peptides  Razor + unique peptides  Unique peptides  \\\n",
       "0              x         2                        2                2   \n",
       "1              x        28                       28               28   \n",
       "2              x         9                        9                9   \n",
       "3              x        18                       17               17   \n",
       "4              x        19                       19               18   \n",
       "\n",
       "   Sequence coverage [%]  Molecular weight   Q-value     Score  \\\n",
       "0                   12.2            36.966  0.000521    4.8803   \n",
       "1                   52.9            76.684  0.000000  323.3100   \n",
       "2                   20.4            58.112  0.000000   24.5300   \n",
       "3                   55.2            41.654  0.000000  323.3100   \n",
       "4                   56.0            39.746  0.000000  323.3100   \n",
       "\n",
       "   Norm. main Intensity  \n",
       "0               2102400  \n",
       "1            2483500000  \n",
       "2             108420000  \n",
       "3            9277000000  \n",
       "4           10697000000  "
      ]
     },
     "execution_count": 4,
     "metadata": {},
     "output_type": "execute_result"
    }
   ],
   "source": [
    "msc_secretome.head()"
   ]
  },
  {
   "cell_type": "code",
   "execution_count": 32,
   "metadata": {},
   "outputs": [
    {
     "data": {
      "text/plain": [
       "(315, 12)"
      ]
     },
     "execution_count": 32,
     "metadata": {},
     "output_type": "execute_result"
    }
   ],
   "source": [
    "msc_secretome.shape"
   ]
  },
  {
   "cell_type": "code",
   "execution_count": 19,
   "metadata": {},
   "outputs": [],
   "source": [
    "wo_rnaseq = pd.read_excel('/home/hsher/c2c_input/wolock_mapped_matrix.xlsx', header = 0)\n",
    "tik_rnaseq = pd.read_excel('/home/hsher/c2c_input/tikhonova_mapped_matrix.xlsx', header = 0)"
   ]
  },
  {
   "cell_type": "code",
   "execution_count": 9,
   "metadata": {},
   "outputs": [
    {
     "data": {
      "text/html": [
       "<div>\n",
       "<style scoped>\n",
       "    .dataframe tbody tr th:only-of-type {\n",
       "        vertical-align: middle;\n",
       "    }\n",
       "\n",
       "    .dataframe tbody tr th {\n",
       "        vertical-align: top;\n",
       "    }\n",
       "\n",
       "    .dataframe thead th {\n",
       "        text-align: right;\n",
       "    }\n",
       "</style>\n",
       "<table border=\"1\" class=\"dataframe\">\n",
       "  <thead>\n",
       "    <tr style=\"text-align: right;\">\n",
       "      <th></th>\n",
       "      <th>Gene Symbol</th>\n",
       "      <th>7</th>\n",
       "      <th>0</th>\n",
       "      <th>3</th>\n",
       "      <th>13</th>\n",
       "      <th>10</th>\n",
       "      <th>2</th>\n",
       "      <th>9</th>\n",
       "      <th>1</th>\n",
       "      <th>15</th>\n",
       "      <th>...</th>\n",
       "      <th>20</th>\n",
       "      <th>12</th>\n",
       "      <th>11</th>\n",
       "      <th>22</th>\n",
       "      <th>19</th>\n",
       "      <th>16</th>\n",
       "      <th>18</th>\n",
       "      <th>17</th>\n",
       "      <th>21</th>\n",
       "      <th>14</th>\n",
       "    </tr>\n",
       "  </thead>\n",
       "  <tbody>\n",
       "    <tr>\n",
       "      <td>0</td>\n",
       "      <td>KIAA1841</td>\n",
       "      <td>0.006439</td>\n",
       "      <td>0.006196</td>\n",
       "      <td>0.003286</td>\n",
       "      <td>0.000000</td>\n",
       "      <td>0.017271</td>\n",
       "      <td>0.019261</td>\n",
       "      <td>0.003556</td>\n",
       "      <td>0.006598</td>\n",
       "      <td>0.000000</td>\n",
       "      <td>...</td>\n",
       "      <td>0.000000</td>\n",
       "      <td>0.000000</td>\n",
       "      <td>0.003078</td>\n",
       "      <td>0.000000</td>\n",
       "      <td>0.028216</td>\n",
       "      <td>0.000000</td>\n",
       "      <td>0.020152</td>\n",
       "      <td>0.014918</td>\n",
       "      <td>0.0</td>\n",
       "      <td>0.006078</td>\n",
       "    </tr>\n",
       "    <tr>\n",
       "      <td>1</td>\n",
       "      <td>C17orf49</td>\n",
       "      <td>0.014462</td>\n",
       "      <td>0.005857</td>\n",
       "      <td>0.004148</td>\n",
       "      <td>0.000000</td>\n",
       "      <td>0.015742</td>\n",
       "      <td>0.013961</td>\n",
       "      <td>0.001996</td>\n",
       "      <td>0.005737</td>\n",
       "      <td>0.000000</td>\n",
       "      <td>...</td>\n",
       "      <td>0.000000</td>\n",
       "      <td>0.000000</td>\n",
       "      <td>0.003205</td>\n",
       "      <td>0.000000</td>\n",
       "      <td>0.020499</td>\n",
       "      <td>0.032827</td>\n",
       "      <td>0.000000</td>\n",
       "      <td>0.007344</td>\n",
       "      <td>0.0</td>\n",
       "      <td>0.000000</td>\n",
       "    </tr>\n",
       "    <tr>\n",
       "      <td>2</td>\n",
       "      <td>C2orf68</td>\n",
       "      <td>0.033234</td>\n",
       "      <td>0.023917</td>\n",
       "      <td>0.031984</td>\n",
       "      <td>0.019008</td>\n",
       "      <td>0.011045</td>\n",
       "      <td>0.044255</td>\n",
       "      <td>0.014662</td>\n",
       "      <td>0.036249</td>\n",
       "      <td>0.078438</td>\n",
       "      <td>...</td>\n",
       "      <td>0.064874</td>\n",
       "      <td>0.090720</td>\n",
       "      <td>0.032359</td>\n",
       "      <td>0.000000</td>\n",
       "      <td>0.044002</td>\n",
       "      <td>0.061848</td>\n",
       "      <td>0.000000</td>\n",
       "      <td>0.053104</td>\n",
       "      <td>0.0</td>\n",
       "      <td>0.003360</td>\n",
       "    </tr>\n",
       "    <tr>\n",
       "      <td>3</td>\n",
       "      <td>C4orf19</td>\n",
       "      <td>0.000000</td>\n",
       "      <td>0.000000</td>\n",
       "      <td>0.000000</td>\n",
       "      <td>0.000000</td>\n",
       "      <td>0.000000</td>\n",
       "      <td>0.000381</td>\n",
       "      <td>0.000000</td>\n",
       "      <td>0.000000</td>\n",
       "      <td>0.000000</td>\n",
       "      <td>...</td>\n",
       "      <td>0.000000</td>\n",
       "      <td>0.000000</td>\n",
       "      <td>0.000000</td>\n",
       "      <td>0.000000</td>\n",
       "      <td>0.000000</td>\n",
       "      <td>0.000000</td>\n",
       "      <td>0.000000</td>\n",
       "      <td>0.000000</td>\n",
       "      <td>0.0</td>\n",
       "      <td>0.000000</td>\n",
       "    </tr>\n",
       "    <tr>\n",
       "      <td>4</td>\n",
       "      <td>C11orf58</td>\n",
       "      <td>0.271489</td>\n",
       "      <td>0.124225</td>\n",
       "      <td>0.114978</td>\n",
       "      <td>0.067668</td>\n",
       "      <td>0.094877</td>\n",
       "      <td>0.308126</td>\n",
       "      <td>0.064653</td>\n",
       "      <td>0.141941</td>\n",
       "      <td>0.035782</td>\n",
       "      <td>...</td>\n",
       "      <td>0.137201</td>\n",
       "      <td>0.155847</td>\n",
       "      <td>0.274285</td>\n",
       "      <td>0.315038</td>\n",
       "      <td>0.375025</td>\n",
       "      <td>0.051111</td>\n",
       "      <td>0.179495</td>\n",
       "      <td>0.343053</td>\n",
       "      <td>0.0</td>\n",
       "      <td>0.132710</td>\n",
       "    </tr>\n",
       "  </tbody>\n",
       "</table>\n",
       "<p>5 rows × 24 columns</p>\n",
       "</div>"
      ],
      "text/plain": [
       "  Gene Symbol         7         0         3        13        10         2  \\\n",
       "0    KIAA1841  0.006439  0.006196  0.003286  0.000000  0.017271  0.019261   \n",
       "1    C17orf49  0.014462  0.005857  0.004148  0.000000  0.015742  0.013961   \n",
       "2     C2orf68  0.033234  0.023917  0.031984  0.019008  0.011045  0.044255   \n",
       "3     C4orf19  0.000000  0.000000  0.000000  0.000000  0.000000  0.000381   \n",
       "4    C11orf58  0.271489  0.124225  0.114978  0.067668  0.094877  0.308126   \n",
       "\n",
       "          9         1        15  ...        20        12        11        22  \\\n",
       "0  0.003556  0.006598  0.000000  ...  0.000000  0.000000  0.003078  0.000000   \n",
       "1  0.001996  0.005737  0.000000  ...  0.000000  0.000000  0.003205  0.000000   \n",
       "2  0.014662  0.036249  0.078438  ...  0.064874  0.090720  0.032359  0.000000   \n",
       "3  0.000000  0.000000  0.000000  ...  0.000000  0.000000  0.000000  0.000000   \n",
       "4  0.064653  0.141941  0.035782  ...  0.137201  0.155847  0.274285  0.315038   \n",
       "\n",
       "         19        16        18        17   21        14  \n",
       "0  0.028216  0.000000  0.020152  0.014918  0.0  0.006078  \n",
       "1  0.020499  0.032827  0.000000  0.007344  0.0  0.000000  \n",
       "2  0.044002  0.061848  0.000000  0.053104  0.0  0.003360  \n",
       "3  0.000000  0.000000  0.000000  0.000000  0.0  0.000000  \n",
       "4  0.375025  0.051111  0.179495  0.343053  0.0  0.132710  \n",
       "\n",
       "[5 rows x 24 columns]"
      ]
     },
     "execution_count": 9,
     "metadata": {},
     "output_type": "execute_result"
    }
   ],
   "source": [
    "wo_rnaseq.head() # cluster 1 is MSC"
   ]
  },
  {
   "cell_type": "code",
   "execution_count": 22,
   "metadata": {},
   "outputs": [
    {
     "data": {
      "text/plain": [
       "Gene Symbol\n",
       "KIAA1841    0.006598\n",
       "C17orf49    0.005737\n",
       "C2orf68     0.036249\n",
       "C4orf19     0.000000\n",
       "C11orf58    0.141941\n",
       "              ...   \n",
       "ND3         0.676437\n",
       "ND4         1.827234\n",
       "ND4L        0.150609\n",
       "ND5         0.398249\n",
       "ND6         0.004023\n",
       "Name: 1, Length: 16480, dtype: float64"
      ]
     },
     "execution_count": 22,
     "metadata": {},
     "output_type": "execute_result"
    }
   ],
   "source": [
    "wo_rnaseq.drop_duplicates(subset = 'Gene Symbol', inplace = True)\n",
    "wo_rnaseq.set_index('Gene Symbol')['1']"
   ]
  },
  {
   "cell_type": "code",
   "execution_count": 33,
   "metadata": {},
   "outputs": [
    {
     "data": {
      "text/plain": [
       "Gene name\n",
       "CTSK           2102400\n",
       "C1S         2483500000\n",
       "PSAP         108420000\n",
       "BGN         9277000000\n",
       "DCN        10697000000\n",
       "              ...     \n",
       "SHROOM3      132980000\n",
       "PEPD          80352000\n",
       "PNP           84422000\n",
       "SDCBP         31450000\n",
       "COTL1        196020000\n",
       "Name: Norm. main Intensity, Length: 304, dtype: int64"
      ]
     },
     "execution_count": 33,
     "metadata": {},
     "output_type": "execute_result"
    }
   ],
   "source": [
    "msc_secretome.drop_duplicates(subset = 'Gene name', inplace = True)\n",
    "msc_secretome.set_index(\"Gene name\")['Norm. main Intensity']"
   ]
  },
  {
   "cell_type": "code",
   "execution_count": 35,
   "metadata": {},
   "outputs": [
    {
     "name": "stderr",
     "output_type": "stream",
     "text": [
      "/home/hsher/miniconda3/envs/cell2cell/lib/python3.7/site-packages/ipykernel_launcher.py:1: FutureWarning: Sorting because non-concatenation axis is not aligned. A future version\n",
      "of pandas will change to not sort by default.\n",
      "\n",
      "To accept the future behavior, pass 'sort=False'.\n",
      "\n",
      "To retain the current behavior and silence the warning, pass 'sort=True'.\n",
      "\n",
      "  \"\"\"Entry point for launching an IPython kernel.\n"
     ]
    }
   ],
   "source": [
    "df = pd.concat([wo_rnaseq.set_index('Gene Symbol')['1'], msc_secretome.set_index(\"Gene name\")['Norm. main Intensity']], axis = 1)"
   ]
  },
  {
   "cell_type": "code",
   "execution_count": 39,
   "metadata": {},
   "outputs": [
    {
     "data": {
      "text/plain": [
       "Text(0, 0.5, 'proteomic intensity')"
      ]
     },
     "execution_count": 39,
     "metadata": {},
     "output_type": "execute_result"
    },
    {
     "data": {
      "image/png": "[encoded data removed]",
      "text/plain": [
       "<Figure size 432x288 with 1 Axes>"
      ]
     },
     "metadata": {
      "needs_background": "light"
     },
     "output_type": "display_data"
    }
   ],
   "source": [
    "ax = df.plot(kind = 'scatter', x = '1', y = 'Norm. main Intensity')\n",
    "ax.set_xlabel(\"scRNA-seq intensity\")\n",
    "ax.set_ylabel(\"proteomic intensity\")"
   ]
  },
  {
   "cell_type": "code",
   "execution_count": null,
   "metadata": {},
   "outputs": [],
   "source": []
  }
 ],
 "metadata": {
  "kernelspec": {
   "display_name": "Python 3",
   "language": "python",
   "name": "python3"
  },
  "language_info": {
   "codemirror_mode": {
    "name": "ipython",
    "version": 3
   },
   "file_extension": ".py",
   "mimetype": "text/x-python",
   "name": "python",
   "nbconvert_exporter": "python",
   "pygments_lexer": "ipython3",
   "version": "3.7.4"
  }
 },
 "nbformat": 4,
 "nbformat_minor": 4
}
