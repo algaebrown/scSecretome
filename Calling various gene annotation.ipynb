{
 "cells": [
  {
   "cell_type": "code",
   "execution_count": 28,
   "metadata": {},
   "outputs": [],
   "source": [
    "import pandas as pd\n",
    "def read_HPA(tsv_file):\n",
    "    '''\n",
    "    extract gene symbols from human protein altas\n",
    "    \n",
    "    for example: \n",
    "    input: protein_class_Blood.tsv\n",
    "    output: ~20 blood group antigen proteins's gene symbol\n",
    "    '''\n",
    "    base = '~/human_protein_atlas/'\n",
    "    df = pd.read_csv(base+tsv_file, header = 0, index_col = 0, sep = '\\t')\n",
    "    return(df.index.values)"
   ]
  },
  {
   "cell_type": "code",
   "execution_count": 30,
   "metadata": {},
   "outputs": [],
   "source": [
    "antigen = read_HPA('protein_class_Blood.tsv')"
   ]
  },
  {
   "cell_type": "code",
   "execution_count": 32,
   "metadata": {},
   "outputs": [],
   "source": [
    "cd = read_HPA('protein_class_CD.tsv')"
   ]
  },
  {
   "cell_type": "code",
   "execution_count": 41,
   "metadata": {},
   "outputs": [
    {
     "data": {
      "text/plain": [
       "array(['ABCB1', 'ABCG2', 'ACE', 'ACKR1', 'ADAM10', 'ADAM17', 'ADAM8',\n",
       "       'ADGRE2', 'ADGRE5', 'ALCAM', 'ALK', 'ANPEP', 'ART1', 'ART4',\n",
       "       'ATP1B3', 'BCAM', 'BMPR1A', 'BMPR1B', 'BSG', 'BST1', 'BST2',\n",
       "       'BTLA', 'BTN3A1', 'C5AR1', 'CCR1', 'CCR2', 'CCR3', 'CCR4', 'CCR5',\n",
       "       'CCR6', 'CCR7', 'CCR8', 'CCR9', 'CD101', 'CD109', 'CD14', 'CD151',\n",
       "       'CD160', 'CD163', 'CD163L1', 'CD164', 'CD180', 'CD19', 'CD1A',\n",
       "       'CD1B', 'CD1C', 'CD1D', 'CD1E', 'CD2', 'CD200', 'CD207', 'CD209',\n",
       "       'CD22', 'CD226', 'CD244', 'CD247', 'CD248', 'CD27', 'CD274',\n",
       "       'CD276', 'CD28', 'CD300A', 'CD300C', 'CD300E', 'CD300LB',\n",
       "       'CD300LD', 'CD300LF', 'CD300LG', 'CD302', 'CD320', 'CD33', 'CD34',\n",
       "       'CD36', 'CD37', 'CD38', 'CD3D', 'CD3E', 'CD3G', 'CD4', 'CD40',\n",
       "       'CD40LG', 'CD44', 'CD46', 'CD47', 'CD48', 'CD5', 'CD52', 'CD53',\n",
       "       'CD55', 'CD58', 'CD59', 'CD6', 'CD63', 'CD68', 'CD69', 'CD7',\n",
       "       'CD70', 'CD72', 'CD74', 'CD79A', 'CD79B', 'CD80', 'CD81', 'CD82',\n",
       "       'CD83', 'CD84', 'CD86', 'CD8A', 'CD8B', 'CD9', 'CD93', 'CD96',\n",
       "       'CD99', 'CDCP1', 'CDH1', 'CDH2', 'CDH5', 'CEACAM1', 'CEACAM3',\n",
       "       'CEACAM5', 'CEACAM6', 'CEACAM8', 'CLEC10A', 'CLEC4C', 'CLEC4M',\n",
       "       'CR1', 'CR2', 'CRTAM', 'CSF1R', 'CSF2RA', 'CSF2RB', 'CSF3R',\n",
       "       'CTLA4', 'CXCR1', 'CXCR2', 'CXCR3', 'CXCR4', 'CXCR5', 'CXCR6',\n",
       "       'DDR1', 'DDR2', 'DPP4', 'ENG', 'ENPEP', 'ENPP1', 'ENPP3', 'ENTPD1',\n",
       "       'EPCAM', 'ERBB2', 'EVI2B', 'F11R', 'F3', 'FAS', 'FASLG', 'FCAMR',\n",
       "       'FCAR', 'FCER2', 'FCGR1A', 'FCGR2A', 'FCGR2B', 'FCGR3A', 'FCGR3B',\n",
       "       'FCRL1', 'FCRL2', 'FCRL3', 'FCRL4', 'FCRL5', 'FGFR1', 'FGFR2',\n",
       "       'FGFR3', 'FGFR4', 'FLT3', 'FZD10', 'FZD4', 'FZD9', 'GGT1', 'GP1BA',\n",
       "       'GP1BB', 'GP5', 'GP9', 'GYPA', 'GYPB', 'GYPC', 'HMMR', 'ICAM1',\n",
       "       'ICAM2', 'ICAM3', 'ICAM4', 'ICOS', 'ICOSLG', 'IFITM1', 'IFNGR1',\n",
       "       'IGF1R', 'IGF2R', 'IGLL1', 'IGSF8', 'IL10RA', 'IL10RB', 'IL12RB1',\n",
       "       'IL13RA1', 'IL13RA2', 'IL15RA', 'IL17RA', 'IL18R1', 'IL18RAP',\n",
       "       'IL1R1', 'IL1R2', 'IL21R', 'IL2RA', 'IL2RB', 'IL2RG', 'IL3RA',\n",
       "       'IL4R', 'IL5RA', 'IL6R', 'IL6ST', 'IL7R', 'IL9R', 'INSR', 'ITGA1',\n",
       "       'ITGA2', 'ITGA2B', 'ITGA3', 'ITGA4', 'ITGA5', 'ITGA6', 'ITGAD',\n",
       "       'ITGAE', 'ITGAL', 'ITGAM', 'ITGAV', 'ITGAX', 'ITGB1', 'ITGB2',\n",
       "       'ITGB3', 'ITGB4', 'JAG1', 'JAM2', 'KDR', 'KEL', 'KIR2DL1',\n",
       "       'KIR2DL3', 'KIR2DL4', 'KIR3DL1', 'KIR3DL2', 'KIT', 'KLRB1',\n",
       "       'KLRC1', 'KLRC2', 'KLRD1', 'KLRK1', 'L1CAM', 'LAG3', 'LAIR1',\n",
       "       'LAIR2', 'LAMP1', 'LAMP2', 'LAMP3', 'LEPR', 'LIFR', 'LILRA1',\n",
       "       'LILRA2', 'LILRA4', 'LILRA5', 'LILRB2', 'LILRB3', 'LILRB4',\n",
       "       'LILRB5', 'LRP1', 'LY75', 'LY9', 'MCAM', 'MELTF', 'MME', 'MPL',\n",
       "       'MRC1', 'MRC2', 'MS4A1', 'MSR1', 'MST1R', 'MUC1', 'NCAM1', 'NCR1',\n",
       "       'NCR2', 'NCR3', 'NECTIN1', 'NECTIN2', 'NECTIN3', 'NGFR', 'NRP1',\n",
       "       'NT5E', 'PDCD1', 'PDCD1LG2', 'PDGFRA', 'PDGFRB', 'PLAUR', 'PLXNC1',\n",
       "       'PRNP', 'PROCR', 'PROM1', 'PSG1', 'PTGDR2', 'PTGFRN', 'PTPRJ',\n",
       "       'PVR', 'RHAG', 'RHCE', 'RHD', 'S1PR1', 'SDC1', 'SDC2', 'SELE',\n",
       "       'SELL', 'SELP', 'SELPLG', 'SEMA4D', 'SEMA7A', 'SIGLEC1', 'SIGLEC5',\n",
       "       'SIGLEC6', 'SIGLEC7', 'SIGLEC8', 'SIRPA', 'SIRPB1', 'SIRPG',\n",
       "       'SLAMF1', 'SLAMF6', 'SLAMF7', 'SLAMF8', 'SLC3A2', 'SLC44A1',\n",
       "       'SLC4A1', 'SPN', 'TEK', 'TFRC', 'THBD', 'THY1', 'TLR1', 'TLR10',\n",
       "       'TLR2', 'TLR3', 'TLR4', 'TLR6', 'TLR8', 'TLR9', 'TNFRSF10A',\n",
       "       'TNFRSF10B', 'TNFRSF10C', 'TNFRSF10D', 'TNFRSF11A', 'TNFRSF12A',\n",
       "       'TNFRSF13B', 'TNFRSF13C', 'TNFRSF14', 'TNFRSF17', 'TNFRSF18',\n",
       "       'TNFRSF1A', 'TNFRSF1B', 'TNFRSF21', 'TNFRSF4', 'TNFRSF8',\n",
       "       'TNFRSF9', 'TNFSF10', 'TNFSF11', 'TNFSF13', 'TNFSF13B', 'TNFSF14',\n",
       "       'TNFSF4', 'TNFSF8', 'TREM1', 'TSPAN7', 'VCAM1', 'VPREB1'],\n",
       "      dtype=object)"
      ]
     },
     "execution_count": 41,
     "metadata": {},
     "output_type": "execute_result"
    }
   ],
   "source": [
    "cd"
   ]
  },
  {
   "cell_type": "code",
   "execution_count": 39,
   "metadata": {},
   "outputs": [],
   "source": [
    "def housekeeping(file = '/home/hsher/tnbc_scrnaseq/data/housekeepers.txt'):\n",
    "    '''\n",
    "    retrun housekeeping gene from a https://www.ncbi.nlm.nih.gov/pmc/articles/PMC5465819/\n",
    "    downloaded from  downloaded from https://github.com/Michorlab/tnbc_scrnaseq\n",
    "    \n",
    "    input: filename\n",
    "    output: list of gene symbols that are house keeping (98 genes in total)\n",
    "    \n",
    "    '''\n",
    "    df = pd.read_csv(file, header = None)\n",
    "    return(df[0].values)\n",
    "    "
   ]
  },
  {
   "cell_type": "code",
   "execution_count": 40,
   "metadata": {},
   "outputs": [
    {
     "data": {
      "text/plain": [
       "array(['ACTB', 'B2M', 'HNRPLL', 'HPRT', 'PSMB2', 'PSMB4', 'PPIA', 'PRPS1',\n",
       "       'PRPS1L1', 'PRPS1L3', 'PRPS2', 'PRPSAP1', 'PRPSAP2', 'RPL10',\n",
       "       'RPL10A', 'RPL10L', 'RPL11', 'RPL12', 'RPL13', 'RPL14', 'RPL15',\n",
       "       'RPL17', 'RPL18', 'RPL19', 'RPL21', 'RPL22', 'RPL22L1', 'RPL23',\n",
       "       'RPL24', 'RPL26', 'RPL27', 'RPL28', 'RPL29', 'RPL3', 'RPL30',\n",
       "       'RPL32', 'RPL34', 'RPL35', 'RPL36', 'RPL37', 'RPL38', 'RPL39',\n",
       "       'RPL39L', 'RPL3L', 'RPL4', 'RPL41', 'RPL5', 'RPL6', 'RPL7',\n",
       "       'RPL7A', 'RPL7L1', 'RPL8', 'RPL9', 'RPLP0', 'RPLP1', 'RPLP2',\n",
       "       'RPS10', 'RPS11', 'RPS12', 'RPS13', 'RPS14', 'RPS15', 'RPS15A',\n",
       "       'RPS16', 'RPS17', 'RPS18', 'RPS19', 'RPS20', 'RPS21', 'RPS24',\n",
       "       'RPS25', 'RPS26', 'RPS27', 'RPS27A', 'RPS27L', 'RPS28', 'RPS29',\n",
       "       'RPS3', 'RPS3A', 'RPS4X', 'RPS5', 'RPS6', 'RPS6KA1', 'RPS6KA2',\n",
       "       'RPS6KA3', 'RPS6KA4', 'RPS6KA5', 'RPS6KA6', 'RPS6KB1', 'RPS6KB2',\n",
       "       'RPS6KC1', 'RPS6KL1', 'RPS7', 'RPS8', 'RPS9', 'RPSA', 'TRPS1',\n",
       "       'UBB'], dtype=object)"
      ]
     },
     "execution_count": 40,
     "metadata": {},
     "output_type": "execute_result"
    }
   ],
   "source": [
    "housekeeping()"
   ]
  },
  {
   "cell_type": "code",
   "execution_count": 59,
   "metadata": {},
   "outputs": [],
   "source": [
    "def read_haemapedia(species = 'human'):\n",
    "    '''\n",
    "    read haemopedia results, return dataframe with Gene symbol + Lineage as columns\n",
    "    species = 'human' or 'murine'\n",
    "    \n",
    "    Return: dataframe, columns = ['Gene Symbol', 'Lineage']\n",
    "    possible values in Lineage 'Multi Potential Progenitor', 'Erythrocyte Lineage',\n",
    "       'Megakaryocyte Lineage', 'Basophil Lineage', 'Eosinophil Lineage',\n",
    "       'Neutrophil Lineage', 'Macrophage Lineage',\n",
    "       'Dendritic Cell Lineage', 'B Cell Lineage', 'T Cell Lineage',\n",
    "       'NK Cell Lineage']\n",
    "    '''\n",
    "    if species == 'human':\n",
    "        df = pd.read_excel('~/haemopedia/lineage_specific_genes_in_human.xlsx')\n",
    "        df = df[['Human Gene Symbol', 'Lineage']]\n",
    "        \n",
    "    else:\n",
    "        df = pd.read_excel('~/haemopedia/lineage_specific_gene.xlsx')\n",
    "        df = df[['GeneSymbol', 'Lineage']]\n",
    "    \n",
    "    # rename columns\n",
    "    df.columns = ['Gene Symbol', 'Lineage']\n",
    "    return df\n",
    "    "
   ]
  },
  {
   "cell_type": "code",
   "execution_count": 60,
   "metadata": {},
   "outputs": [],
   "source": [
    "dk = read_haemapedia()"
   ]
  },
  {
   "cell_type": "code",
   "execution_count": 64,
   "metadata": {},
   "outputs": [
    {
     "data": {
      "text/html": [
       "<div>\n",
       "<style scoped>\n",
       "    .dataframe tbody tr th:only-of-type {\n",
       "        vertical-align: middle;\n",
       "    }\n",
       "\n",
       "    .dataframe tbody tr th {\n",
       "        vertical-align: top;\n",
       "    }\n",
       "\n",
       "    .dataframe thead th {\n",
       "        text-align: right;\n",
       "    }\n",
       "</style>\n",
       "<table border=\"1\" class=\"dataframe\">\n",
       "  <thead>\n",
       "    <tr style=\"text-align: right;\">\n",
       "      <th></th>\n",
       "      <th>Gene Symbol</th>\n",
       "      <th>Lineage</th>\n",
       "    </tr>\n",
       "  </thead>\n",
       "  <tbody>\n",
       "    <tr>\n",
       "      <td>0</td>\n",
       "      <td>EGFL7</td>\n",
       "      <td>Multi Potential Progenitor</td>\n",
       "    </tr>\n",
       "    <tr>\n",
       "      <td>1</td>\n",
       "      <td>DNMT3B</td>\n",
       "      <td>Multi Potential Progenitor</td>\n",
       "    </tr>\n",
       "    <tr>\n",
       "      <td>2</td>\n",
       "      <td>RPL22</td>\n",
       "      <td>Multi Potential Progenitor</td>\n",
       "    </tr>\n",
       "    <tr>\n",
       "      <td>3</td>\n",
       "      <td>SOX4</td>\n",
       "      <td>Multi Potential Progenitor</td>\n",
       "    </tr>\n",
       "    <tr>\n",
       "      <td>4</td>\n",
       "      <td>DCTD</td>\n",
       "      <td>Multi Potential Progenitor</td>\n",
       "    </tr>\n",
       "  </tbody>\n",
       "</table>\n",
       "</div>"
      ],
      "text/plain": [
       "  Gene Symbol                     Lineage\n",
       "0       EGFL7  Multi Potential Progenitor\n",
       "1      DNMT3B  Multi Potential Progenitor\n",
       "2       RPL22  Multi Potential Progenitor\n",
       "3        SOX4  Multi Potential Progenitor\n",
       "4        DCTD  Multi Potential Progenitor"
      ]
     },
     "execution_count": 64,
     "metadata": {},
     "output_type": "execute_result"
    }
   ],
   "source": [
    "dk.head()"
   ]
  },
  {
   "cell_type": "code",
   "execution_count": 62,
   "metadata": {},
   "outputs": [],
   "source": [
    "d = read_haemapedia(species = 'mice')"
   ]
  },
  {
   "cell_type": "code",
   "execution_count": 65,
   "metadata": {},
   "outputs": [
    {
     "data": {
      "text/html": [
       "<div>\n",
       "<style scoped>\n",
       "    .dataframe tbody tr th:only-of-type {\n",
       "        vertical-align: middle;\n",
       "    }\n",
       "\n",
       "    .dataframe tbody tr th {\n",
       "        vertical-align: top;\n",
       "    }\n",
       "\n",
       "    .dataframe thead th {\n",
       "        text-align: right;\n",
       "    }\n",
       "</style>\n",
       "<table border=\"1\" class=\"dataframe\">\n",
       "  <thead>\n",
       "    <tr style=\"text-align: right;\">\n",
       "      <th></th>\n",
       "      <th>Gene Symbol</th>\n",
       "      <th>Lineage</th>\n",
       "    </tr>\n",
       "  </thead>\n",
       "  <tbody>\n",
       "    <tr>\n",
       "      <td>0</td>\n",
       "      <td>Il11ra1</td>\n",
       "      <td>Multi Potential Progenitor</td>\n",
       "    </tr>\n",
       "    <tr>\n",
       "      <td>1</td>\n",
       "      <td>Adgrl4</td>\n",
       "      <td>Multi Potential Progenitor</td>\n",
       "    </tr>\n",
       "    <tr>\n",
       "      <td>2</td>\n",
       "      <td>Egfl7</td>\n",
       "      <td>Multi Potential Progenitor</td>\n",
       "    </tr>\n",
       "    <tr>\n",
       "      <td>3</td>\n",
       "      <td>Dnmt3b</td>\n",
       "      <td>Multi Potential Progenitor</td>\n",
       "    </tr>\n",
       "    <tr>\n",
       "      <td>4</td>\n",
       "      <td>Rpl22</td>\n",
       "      <td>Multi Potential Progenitor</td>\n",
       "    </tr>\n",
       "  </tbody>\n",
       "</table>\n",
       "</div>"
      ],
      "text/plain": [
       "  Gene Symbol                     Lineage\n",
       "0     Il11ra1  Multi Potential Progenitor\n",
       "1      Adgrl4  Multi Potential Progenitor\n",
       "2       Egfl7  Multi Potential Progenitor\n",
       "3      Dnmt3b  Multi Potential Progenitor\n",
       "4       Rpl22  Multi Potential Progenitor"
      ]
     },
     "execution_count": 65,
     "metadata": {},
     "output_type": "execute_result"
    }
   ],
   "source": [
    "d.head()"
   ]
  },
  {
   "cell_type": "code",
   "execution_count": 74,
   "metadata": {},
   "outputs": [],
   "source": [
    "def human_mouse_homolog(filename = '~/HMD_HumanPhenotype.rpt'):\n",
    "    df = pd.read_csv(filename, header = None, sep = '\\t')\n",
    "    \n",
    "    # save only useful information\n",
    "    df = df[[0,4]]\n",
    "    df.columns = ['Human', 'Mouse']\n",
    "    return(df)"
   ]
  },
  {
   "cell_type": "code",
   "execution_count": 75,
   "metadata": {},
   "outputs": [
    {
     "data": {
      "text/html": [
       "<div>\n",
       "<style scoped>\n",
       "    .dataframe tbody tr th:only-of-type {\n",
       "        vertical-align: middle;\n",
       "    }\n",
       "\n",
       "    .dataframe tbody tr th {\n",
       "        vertical-align: top;\n",
       "    }\n",
       "\n",
       "    .dataframe thead th {\n",
       "        text-align: right;\n",
       "    }\n",
       "</style>\n",
       "<table border=\"1\" class=\"dataframe\">\n",
       "  <thead>\n",
       "    <tr style=\"text-align: right;\">\n",
       "      <th></th>\n",
       "      <th>Human</th>\n",
       "      <th>Mouse</th>\n",
       "    </tr>\n",
       "  </thead>\n",
       "  <tbody>\n",
       "    <tr>\n",
       "      <td>0</td>\n",
       "      <td>A1BG</td>\n",
       "      <td>A1bg</td>\n",
       "    </tr>\n",
       "    <tr>\n",
       "      <td>1</td>\n",
       "      <td>A1CF</td>\n",
       "      <td>A1cf</td>\n",
       "    </tr>\n",
       "    <tr>\n",
       "      <td>2</td>\n",
       "      <td>A2M</td>\n",
       "      <td>A2m</td>\n",
       "    </tr>\n",
       "    <tr>\n",
       "      <td>3</td>\n",
       "      <td>A3GALT2</td>\n",
       "      <td>A3galt2</td>\n",
       "    </tr>\n",
       "    <tr>\n",
       "      <td>4</td>\n",
       "      <td>A4GALT</td>\n",
       "      <td>A4galt</td>\n",
       "    </tr>\n",
       "    <tr>\n",
       "      <td>...</td>\n",
       "      <td>...</td>\n",
       "      <td>...</td>\n",
       "    </tr>\n",
       "    <tr>\n",
       "      <td>18749</td>\n",
       "      <td>ZYG11A</td>\n",
       "      <td>Zyg11a</td>\n",
       "    </tr>\n",
       "    <tr>\n",
       "      <td>18750</td>\n",
       "      <td>ZYG11B</td>\n",
       "      <td>Zyg11b</td>\n",
       "    </tr>\n",
       "    <tr>\n",
       "      <td>18751</td>\n",
       "      <td>ZYX</td>\n",
       "      <td>Zyx</td>\n",
       "    </tr>\n",
       "    <tr>\n",
       "      <td>18752</td>\n",
       "      <td>ZZEF1</td>\n",
       "      <td>Zzef1</td>\n",
       "    </tr>\n",
       "    <tr>\n",
       "      <td>18753</td>\n",
       "      <td>ZZZ3</td>\n",
       "      <td>Zzz3</td>\n",
       "    </tr>\n",
       "  </tbody>\n",
       "</table>\n",
       "<p>18754 rows × 2 columns</p>\n",
       "</div>"
      ],
      "text/plain": [
       "         Human    Mouse\n",
       "0         A1BG     A1bg\n",
       "1         A1CF     A1cf\n",
       "2          A2M      A2m\n",
       "3      A3GALT2  A3galt2\n",
       "4       A4GALT   A4galt\n",
       "...        ...      ...\n",
       "18749   ZYG11A   Zyg11a\n",
       "18750   ZYG11B   Zyg11b\n",
       "18751      ZYX      Zyx\n",
       "18752    ZZEF1    Zzef1\n",
       "18753     ZZZ3     Zzz3\n",
       "\n",
       "[18754 rows x 2 columns]"
      ]
     },
     "execution_count": 75,
     "metadata": {},
     "output_type": "execute_result"
    }
   ],
   "source": [
    "human_mouse_homolog()"
   ]
  },
  {
   "cell_type": "code",
   "execution_count": null,
   "metadata": {},
   "outputs": [],
   "source": []
  }
 ],
 "metadata": {
  "kernelspec": {
   "display_name": "Python 3",
   "language": "python",
   "name": "python3"
  },
  "language_info": {
   "codemirror_mode": {
    "name": "ipython",
    "version": 3
   },
   "file_extension": ".py",
   "mimetype": "text/x-python",
   "name": "python",
   "nbconvert_exporter": "python",
   "pygments_lexer": "ipython3",
   "version": "3.7.3"
  }
 },
 "nbformat": 4,
 "nbformat_minor": 2
}
